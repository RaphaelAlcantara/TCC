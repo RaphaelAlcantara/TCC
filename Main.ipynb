{
 "cells": [
  {
   "cell_type": "markdown",
   "source": [
    "#Inicialização do navegador"
   ],
   "metadata": {
    "collapsed": false
   },
   "id": "bda4162a0fd34f6b"
  },
  {
   "cell_type": "code",
   "execution_count": 26,
   "outputs": [
    {
     "data": {
      "text/plain": "              Nome Termos Banidos  Preço mínimo  Preço máximo\n0  iphone 12 64 gb     mini watch          3000          3500\n1         rtx 2060          galax          1800          2500",
      "text/html": "<div>\n<style scoped>\n    .dataframe tbody tr th:only-of-type {\n        vertical-align: middle;\n    }\n\n    .dataframe tbody tr th {\n        vertical-align: top;\n    }\n\n    .dataframe thead th {\n        text-align: right;\n    }\n</style>\n<table border=\"1\" class=\"dataframe\">\n  <thead>\n    <tr style=\"text-align: right;\">\n      <th></th>\n      <th>Nome</th>\n      <th>Termos Banidos</th>\n      <th>Preço mínimo</th>\n      <th>Preço máximo</th>\n    </tr>\n  </thead>\n  <tbody>\n    <tr>\n      <th>0</th>\n      <td>iphone 12 64 gb</td>\n      <td>mini watch</td>\n      <td>3000</td>\n      <td>3500</td>\n    </tr>\n    <tr>\n      <th>1</th>\n      <td>rtx 2060</td>\n      <td>galax</td>\n      <td>1800</td>\n      <td>2500</td>\n    </tr>\n  </tbody>\n</table>\n</div>"
     },
     "metadata": {},
     "output_type": "display_data"
    }
   ],
   "source": [
    "#Criar um navegador\n",
    "#Observação: utilizar Edge ou Chrome\n",
    "from selenium import webdriver\n",
    "from selenium.webdriver.common.keys import Keys\n",
    "from webdriver_manager.microsoft import EdgeChromiumDriverManager \n",
    "\n",
    "from selenium.webdriver.edge.service import Service\n",
    "servico = Service(EdgeChromiumDriverManager().install())\n",
    "navegador = webdriver.Edge(service=servico)\n",
    "\n",
    "#importar base de dados\n",
    "import pandas as pd\n",
    "tabela_produtos = pd.read_excel('buscas.xlsx')\n",
    "\n",
    "display(tabela_produtos)\n"
   ],
   "metadata": {
    "collapsed": false,
    "ExecuteTime": {
     "end_time": "2023-12-15T18:14:17.635549200Z",
     "start_time": "2023-12-15T18:14:12.946649500Z"
    }
   },
   "id": "2bfad52f4890f58"
  },
  {
   "cell_type": "markdown",
   "source": [
    "#Definição de função do Google Shopping e Buscapé"
   ],
   "metadata": {
    "collapsed": false
   },
   "id": "6b63be8f15e00c9a"
  },
  {
   "cell_type": "code",
   "execution_count": 27,
   "outputs": [],
   "source": [
    "def verificar_termos_banidos(lista_termos_banidos, nome):\n",
    "    tem_termos_banidos = False\n",
    "    for palavra in lista_termos_banidos:\n",
    "        if palavra in nome:\n",
    "            tem_termos_banidos = True\n",
    "    return tem_termos_banidos       \n",
    "\n",
    "def verificar_termos_nome_produto(lista_termos_nome_produto, nome):\n",
    "    tem_termos_nome_produto = True\n",
    "    for palavra in lista_termos_nome_produto:\n",
    "        if palavra not in nome:\n",
    "            tem_termos_nome_produto = False\n",
    "    return tem_termos_nome_produto\n",
    "\n",
    "def busca_google_shopping(navegador,produto, termos_banidos, preco_minimo, preco_maximo):\n",
    "    #tratar valores\n",
    "    produto = produto.lower() #garantir que os dados da tabela fiquem minusculos\n",
    "    termos_banidos = termos_banidos.lower()\n",
    "    lista_termos_banidos = termos_banidos.split(\" \")#transforma a string de termos banidos em lista\n",
    "    lista_termos_nome_produto = produto.split(\" \")#transforma a string de produtos em lista\n",
    "    lista_ofertas = [] # lista vazia para armazenar os resultados da busca\n",
    "    #transformar os dados do excel em float\n",
    "    preco_minimo = float(preco_minimo)\n",
    "    preco_maximo = float(preco_maximo)\n",
    "    \n",
    "    #entrar no google\n",
    "    navegador.get('https://www.google.com/')\n",
    "    \n",
    "    #busca o elemento pelo xpath e envia o produto\n",
    "    navegador.find_element('xpath', '//*[@id=\"APjFqb\"]').send_keys(produto)\n",
    "    navegador.find_element('xpath', '//*[@id=\"APjFqb\"]').send_keys(Keys.ENTER)\n",
    "    #entrar no google shopping com condicional\n",
    "    elementos2 = navegador.find_elements('class name', 'hdtb-mitem') #versao mais antiga\n",
    "    elementos = navegador.find_elements('class name', 'GKS7s') #versao mais nova\n",
    "    for item in elementos:\n",
    "        if \"Shopping\" in item.text:\n",
    "            print(\"v1 - \"+item.text)\n",
    "            item.click()\n",
    "            break\n",
    "        \n",
    "    for item2 in elementos2:\n",
    "        if \"Shopping\" in item2.text:\n",
    "            print(\"v2 - \"+item2.text)\n",
    "            item2.click()\n",
    "            break \n",
    "            \n",
    "\n",
    "    \n",
    "    #Pegar card dos produtos google shopping \n",
    "    lista_resultados = navegador.find_elements('class name', 'i0X6df')\n",
    "    \n",
    "    #a busca ocorre apenas dentro da classe i0X6df e naõ em no navegador inteiro\n",
    "    \n",
    "    for resultado in lista_resultados:\n",
    "        \n",
    "        nome = resultado.find_element('class name', 'tAxDx').text\n",
    "        nome = nome.lower()\n",
    "        #analisar se o nome não tem nenhum termo banido\n",
    "        tem_termos_banidos = verificar_termos_banidos(lista_termos_banidos, nome)\n",
    "                \n",
    "        #analisar se tem todos os termos buscados no nome do produto\n",
    "        tem_termos_nome_produto = verificar_termos_nome_produto(lista_termos_nome_produto, nome)\n",
    "        \n",
    "        #Tratamento preco\n",
    "        if not tem_termos_banidos and tem_termos_nome_produto:\n",
    "            preco = resultado.find_element('class name', 'a8Pemb').text\n",
    "            preco = preco.replace(\"R$\", \"\").replace(\" \", \"\").replace(\".\", \"\").replace(\",\", \".\").replace(\"+impostos\", \" \")\n",
    "            #remover o R$ ; remover o espaço; remover o ponto; trocar a virgula por ponto para reconhecer no float\n",
    "            preco = float(preco)\n",
    "            \n",
    "            \n",
    "            \n",
    "            \n",
    "            #Verificar se o preço está entre o preço minimo e maximo\n",
    "            if preco_minimo <= preco <= preco_maximo:\n",
    "                #Caso retornar None é necessário utilizar uma referencia\n",
    "                elemento_referencia = resultado.find_element('class name', 'bONr3b') #Elemento filho da classe do Link \n",
    "                elemento_pai = elemento_referencia.find_element('xpath', ('..'))#Elemento pai do elemento filho (..) serve para voltar um nível\n",
    "                link = elemento_pai.get_attribute('href') #retornando None em vez do link\n",
    "                lista_ofertas.append((nome,preco,link))\n",
    "\n",
    "    return lista_ofertas\n",
    "\n",
    "def busca_buscape(navegador,produto, termos_banidos, preco_minimo, preco_maximo):\n",
    "    #trata valores\n",
    "    produto = produto.lower() #garantir que os dados da tabela fiquem minusculos\n",
    "    termos_banidos = termos_banidos.lower()\n",
    "    lista_termos_banidos = termos_banidos.split(\" \")#transforma a string de termos banidos em lista\n",
    "    lista_termos_nome_produto = produto.split(\" \")#transforma a string de produtos em lista\n",
    "    lista_ofertas = [] # lista vazia para armazenar os resultados da busca\n",
    "    preco_minimo = float(preco_minimo)#converte dados do excel em float\n",
    "    preco_maximo = float(preco_maximo)\n",
    "    #entrar no buscape\n",
    "    \n",
    "    navegador.get(\"https://www.buscape.com.br/\")\n",
    "    navegador.implicitly_wait(5)\n",
    "\n",
    "    #buscar o elemento pelo xpath e envia o produto\n",
    "    navegador.find_element('xpath', '//*[@id=\"new-header\"]/div[1]/div/div/div[3]/div/div/div[2]/div/div[1]/input').send_keys(produto)\n",
    "    navegador.find_element('xpath', '//*[@id=\"new-header\"]/div[1]/div/div/div[3]/div/div/div[2]/div/div[1]/input').send_keys(Keys.ENTER)\n",
    "\n",
    "\n",
    "    #pegar os resultados do card do produto\n",
    "    lista_resultados = navegador.find_elements('class name', 'ProductCard_ProductCard_Inner__tsD4M')\n",
    "\n",
    "    for resultado in lista_resultados:\n",
    "        nome = resultado.find_element('class name', 'ProductCard_ProductCard_Name__LT7hv').text\n",
    "        nome = nome.lower()\n",
    "        preco = resultado.find_element('class name', 'Text_MobileHeadingS__Zxam2').text\n",
    "        link = resultado.get_attribute('href')\n",
    "        # print(nome, preco, link)\n",
    "\n",
    "    #analisar se o nome não tem nenhum termo banido\n",
    "        tem_termos_banidos = verificar_termos_banidos(lista_termos_banidos, nome)\n",
    "\n",
    "    #analisar se tem todos os termos buscados no nome do produto\n",
    "        tem_termos_nome_produto = verificar_termos_nome_produto(lista_termos_nome_produto, nome)\n",
    "\n",
    "    #analisar range de preço determidado\n",
    "        if not tem_termos_banidos and tem_termos_nome_produto:\n",
    "            preco = preco.replace(\"R$\", \"\").replace(\" \", \"\").replace(\".\", \"\").replace(\",\", \".\")\n",
    "            #remover o R$ ; remover o espaço; remover o ponto; trocar a virgula por ponto para reconhecer no float\n",
    "            preco = float(preco)\n",
    "\n",
    "            #Verificar se o preço está entre o preço minimo e maximo\n",
    "            if preco_minimo <= preco <= preco_maximo:\n",
    "                lista_ofertas.append((nome,preco,link))\n",
    "\n",
    "\n",
    "    #retorna lista de ofertas buscape\n",
    "    return lista_ofertas"
   ],
   "metadata": {
    "collapsed": false,
    "ExecuteTime": {
     "end_time": "2023-12-15T18:14:21.084933900Z",
     "start_time": "2023-12-15T18:14:21.080935400Z"
    }
   },
   "id": "a69056214be8f217"
  },
  {
   "cell_type": "markdown",
   "source": [
    "#Construindo tabela de ofertas"
   ],
   "metadata": {
    "collapsed": false
   },
   "id": "b77a95308ef8b76c"
  },
  {
   "cell_type": "code",
   "execution_count": 29,
   "outputs": [
    {
     "name": "stdout",
     "output_type": "stream",
     "text": [
      "v1 - Shopping\n",
      "v1 - Shopping\n"
     ]
    },
    {
     "data": {
      "text/plain": "                                                Nome    Preço  \\\n0  usado: iphone 12 64gb preto excelente - trocafone  3149.00   \n1                  apple iphone 12 4gb/64gb 6.1 azul  3008.99   \n2     iphone 12 intacto 64gb | celular apple | usado  3415.00   \n3  usado: iphone 12 64gb verde excelente - trocafone  3149.00   \n4                      apple iphone 12 64gb seminovo  3235.29   \n0  placa de vídeo pcwinmax nvidia geforce rtx 206...  2154.37   \n1  placa de vídeo msi geforce rtx 2060 6gb ventus...  1899.00   \n2  placa de vídeo rtx 2060 gigabyte geforce, 12gb...  2499.00   \n3  placa de vídeo msi geforce rtx 2060 ventus gp ...  1999.99   \n\n                                                Link  \n0  https://www.google.com/url?url=https://www.cas...  \n1  https://www.google.com/url?url=https://www.tra...  \n2  https://www.google.com/url?url=https://www.enj...  \n3  https://www.google.com/url?url=https://www.pon...  \n4  https://www.google.com/url?url=https://templod...  \n0  https://www.google.com/url?url=https://www.mag...  \n1  https://www.google.com/url?url=https://www.ama...  \n2  https://www.google.com/url?url=https://www.pla...  \n3  https://www.google.com/url?url=https://gamerna...  ",
      "text/html": "<div>\n<style scoped>\n    .dataframe tbody tr th:only-of-type {\n        vertical-align: middle;\n    }\n\n    .dataframe tbody tr th {\n        vertical-align: top;\n    }\n\n    .dataframe thead th {\n        text-align: right;\n    }\n</style>\n<table border=\"1\" class=\"dataframe\">\n  <thead>\n    <tr style=\"text-align: right;\">\n      <th></th>\n      <th>Nome</th>\n      <th>Preço</th>\n      <th>Link</th>\n    </tr>\n  </thead>\n  <tbody>\n    <tr>\n      <th>0</th>\n      <td>usado: iphone 12 64gb preto excelente - trocafone</td>\n      <td>3149.00</td>\n      <td>https://www.google.com/url?url=https://www.cas...</td>\n    </tr>\n    <tr>\n      <th>1</th>\n      <td>apple iphone 12 4gb/64gb 6.1 azul</td>\n      <td>3008.99</td>\n      <td>https://www.google.com/url?url=https://www.tra...</td>\n    </tr>\n    <tr>\n      <th>2</th>\n      <td>iphone 12 intacto 64gb | celular apple | usado</td>\n      <td>3415.00</td>\n      <td>https://www.google.com/url?url=https://www.enj...</td>\n    </tr>\n    <tr>\n      <th>3</th>\n      <td>usado: iphone 12 64gb verde excelente - trocafone</td>\n      <td>3149.00</td>\n      <td>https://www.google.com/url?url=https://www.pon...</td>\n    </tr>\n    <tr>\n      <th>4</th>\n      <td>apple iphone 12 64gb seminovo</td>\n      <td>3235.29</td>\n      <td>https://www.google.com/url?url=https://templod...</td>\n    </tr>\n    <tr>\n      <th>0</th>\n      <td>placa de vídeo pcwinmax nvidia geforce rtx 206...</td>\n      <td>2154.37</td>\n      <td>https://www.google.com/url?url=https://www.mag...</td>\n    </tr>\n    <tr>\n      <th>1</th>\n      <td>placa de vídeo msi geforce rtx 2060 6gb ventus...</td>\n      <td>1899.00</td>\n      <td>https://www.google.com/url?url=https://www.ama...</td>\n    </tr>\n    <tr>\n      <th>2</th>\n      <td>placa de vídeo rtx 2060 gigabyte geforce, 12gb...</td>\n      <td>2499.00</td>\n      <td>https://www.google.com/url?url=https://www.pla...</td>\n    </tr>\n    <tr>\n      <th>3</th>\n      <td>placa de vídeo msi geforce rtx 2060 ventus gp ...</td>\n      <td>1999.99</td>\n      <td>https://www.google.com/url?url=https://gamerna...</td>\n    </tr>\n  </tbody>\n</table>\n</div>"
     },
     "metadata": {},
     "output_type": "display_data"
    }
   ],
   "source": [
    "tabela_ofertas = pd.DataFrame()#tabela para receber as ofertas\n",
    "\n",
    "#dados da tabela\n",
    "for linha in tabela_produtos.index:\n",
    "    \n",
    "    produto  = tabela_produtos.loc[linha, \"Nome\"]\n",
    "    termos_banidos = tabela_produtos.loc[linha, \"Termos Banidos\"]\n",
    "    preco_minimo = tabela_produtos.loc[linha, \"Preço mínimo\"]\n",
    "    preco_maximo = tabela_produtos.loc[linha, \"Preço máximo\"]\n",
    "    \n",
    "    lista_ofertas_google_shopping = busca_google_shopping(navegador,produto, termos_banidos, preco_minimo, preco_maximo)\n",
    "    #verifica se está vazio\n",
    "    if lista_ofertas_google_shopping:\n",
    "        #transformar em dataframe\n",
    "        tabela_google_shopping = pd.DataFrame(lista_ofertas_google_shopping, columns=['Nome', 'Preço', 'Link'])\n",
    "        tabela_ofertas = pd.concat([tabela_ofertas, tabela_google_shopping])\n",
    "    else:\n",
    "        tabela_google_shopping = None #para sempre definir a tabela para na mescla não misturar produtos\n",
    "    \n",
    "    lista_ofertas_buscape = busca_buscape(navegador,produto, termos_banidos, preco_minimo, preco_maximo)\n",
    "    #verifica se está vazio\n",
    "    if lista_ofertas_buscape:\n",
    "        #transformar em dataframe\n",
    "        tabela_buscape = pd.DataFrame(lista_ofertas_buscape, columns=['Nome', 'Preço', 'Link'])\n",
    "        tabela_ofertas = pd.concat([tabela_ofertas, tabela_buscape])\n",
    "    else:\n",
    "        tabela_buscape = None\n",
    "    \n",
    "display(tabela_ofertas)"
   ],
   "metadata": {
    "collapsed": false,
    "ExecuteTime": {
     "end_time": "2023-12-15T18:16:44.867410600Z",
     "start_time": "2023-12-15T18:16:11.995118400Z"
    }
   },
   "id": "3841a1730b5ddb63"
  },
  {
   "cell_type": "markdown",
   "source": [
    "#Exportando tabela de ofertas para excel"
   ],
   "metadata": {
    "collapsed": false
   },
   "id": "fcd18a42a2160c88"
  },
  {
   "cell_type": "code",
   "execution_count": 25,
   "outputs": [
    {
     "ename": "PermissionError",
     "evalue": "[Errno 13] Permission denied: 'Ofertas.xlsx'",
     "output_type": "error",
     "traceback": [
      "\u001B[1;31m---------------------------------------------------------------------------\u001B[0m",
      "\u001B[1;31mPermissionError\u001B[0m                           Traceback (most recent call last)",
      "Cell \u001B[1;32mIn [25], line 2\u001B[0m\n\u001B[0;32m      1\u001B[0m \u001B[38;5;66;03m#exportar tabela de ofertas para excel\u001B[39;00m\n\u001B[1;32m----> 2\u001B[0m \u001B[43mtabela_ofertas\u001B[49m\u001B[38;5;241;43m.\u001B[39;49m\u001B[43mto_excel\u001B[49m\u001B[43m(\u001B[49m\u001B[38;5;124;43m'\u001B[39;49m\u001B[38;5;124;43mOfertas.xlsx\u001B[39;49m\u001B[38;5;124;43m'\u001B[39;49m\u001B[43m,\u001B[49m\u001B[43m \u001B[49m\u001B[43mindex\u001B[49m\u001B[38;5;241;43m=\u001B[39;49m\u001B[38;5;28;43;01mFalse\u001B[39;49;00m\u001B[43m)\u001B[49m\n",
      "File \u001B[1;32m~\\AppData\\Local\\Programs\\Python\\Python310\\lib\\site-packages\\pandas\\core\\generic.py:2345\u001B[0m, in \u001B[0;36mNDFrame.to_excel\u001B[1;34m(self, excel_writer, sheet_name, na_rep, float_format, columns, header, index, index_label, startrow, startcol, engine, merge_cells, encoding, inf_rep, verbose, freeze_panes, storage_options)\u001B[0m\n\u001B[0;32m   2332\u001B[0m \u001B[38;5;28;01mfrom\u001B[39;00m \u001B[38;5;21;01mpandas\u001B[39;00m\u001B[38;5;21;01m.\u001B[39;00m\u001B[38;5;21;01mio\u001B[39;00m\u001B[38;5;21;01m.\u001B[39;00m\u001B[38;5;21;01mformats\u001B[39;00m\u001B[38;5;21;01m.\u001B[39;00m\u001B[38;5;21;01mexcel\u001B[39;00m \u001B[38;5;28;01mimport\u001B[39;00m ExcelFormatter\n\u001B[0;32m   2334\u001B[0m formatter \u001B[38;5;241m=\u001B[39m ExcelFormatter(\n\u001B[0;32m   2335\u001B[0m     df,\n\u001B[0;32m   2336\u001B[0m     na_rep\u001B[38;5;241m=\u001B[39mna_rep,\n\u001B[1;32m   (...)\u001B[0m\n\u001B[0;32m   2343\u001B[0m     inf_rep\u001B[38;5;241m=\u001B[39minf_rep,\n\u001B[0;32m   2344\u001B[0m )\n\u001B[1;32m-> 2345\u001B[0m \u001B[43mformatter\u001B[49m\u001B[38;5;241;43m.\u001B[39;49m\u001B[43mwrite\u001B[49m\u001B[43m(\u001B[49m\n\u001B[0;32m   2346\u001B[0m \u001B[43m    \u001B[49m\u001B[43mexcel_writer\u001B[49m\u001B[43m,\u001B[49m\n\u001B[0;32m   2347\u001B[0m \u001B[43m    \u001B[49m\u001B[43msheet_name\u001B[49m\u001B[38;5;241;43m=\u001B[39;49m\u001B[43msheet_name\u001B[49m\u001B[43m,\u001B[49m\n\u001B[0;32m   2348\u001B[0m \u001B[43m    \u001B[49m\u001B[43mstartrow\u001B[49m\u001B[38;5;241;43m=\u001B[39;49m\u001B[43mstartrow\u001B[49m\u001B[43m,\u001B[49m\n\u001B[0;32m   2349\u001B[0m \u001B[43m    \u001B[49m\u001B[43mstartcol\u001B[49m\u001B[38;5;241;43m=\u001B[39;49m\u001B[43mstartcol\u001B[49m\u001B[43m,\u001B[49m\n\u001B[0;32m   2350\u001B[0m \u001B[43m    \u001B[49m\u001B[43mfreeze_panes\u001B[49m\u001B[38;5;241;43m=\u001B[39;49m\u001B[43mfreeze_panes\u001B[49m\u001B[43m,\u001B[49m\n\u001B[0;32m   2351\u001B[0m \u001B[43m    \u001B[49m\u001B[43mengine\u001B[49m\u001B[38;5;241;43m=\u001B[39;49m\u001B[43mengine\u001B[49m\u001B[43m,\u001B[49m\n\u001B[0;32m   2352\u001B[0m \u001B[43m    \u001B[49m\u001B[43mstorage_options\u001B[49m\u001B[38;5;241;43m=\u001B[39;49m\u001B[43mstorage_options\u001B[49m\u001B[43m,\u001B[49m\n\u001B[0;32m   2353\u001B[0m \u001B[43m\u001B[49m\u001B[43m)\u001B[49m\n",
      "File \u001B[1;32m~\\AppData\\Local\\Programs\\Python\\Python310\\lib\\site-packages\\pandas\\io\\formats\\excel.py:888\u001B[0m, in \u001B[0;36mExcelFormatter.write\u001B[1;34m(self, writer, sheet_name, startrow, startcol, freeze_panes, engine, storage_options)\u001B[0m\n\u001B[0;32m    884\u001B[0m     need_save \u001B[38;5;241m=\u001B[39m \u001B[38;5;28;01mFalse\u001B[39;00m\n\u001B[0;32m    885\u001B[0m \u001B[38;5;28;01melse\u001B[39;00m:\n\u001B[0;32m    886\u001B[0m     \u001B[38;5;66;03m# error: Cannot instantiate abstract class 'ExcelWriter' with abstract\u001B[39;00m\n\u001B[0;32m    887\u001B[0m     \u001B[38;5;66;03m# attributes 'engine', 'save', 'supported_extensions' and 'write_cells'\u001B[39;00m\n\u001B[1;32m--> 888\u001B[0m     writer \u001B[38;5;241m=\u001B[39m \u001B[43mExcelWriter\u001B[49m\u001B[43m(\u001B[49m\u001B[43m  \u001B[49m\u001B[38;5;66;43;03m# type: ignore[abstract]\u001B[39;49;00m\n\u001B[0;32m    889\u001B[0m \u001B[43m        \u001B[49m\u001B[43mwriter\u001B[49m\u001B[43m,\u001B[49m\u001B[43m \u001B[49m\u001B[43mengine\u001B[49m\u001B[38;5;241;43m=\u001B[39;49m\u001B[43mengine\u001B[49m\u001B[43m,\u001B[49m\u001B[43m \u001B[49m\u001B[43mstorage_options\u001B[49m\u001B[38;5;241;43m=\u001B[39;49m\u001B[43mstorage_options\u001B[49m\n\u001B[0;32m    890\u001B[0m \u001B[43m    \u001B[49m\u001B[43m)\u001B[49m\n\u001B[0;32m    891\u001B[0m     need_save \u001B[38;5;241m=\u001B[39m \u001B[38;5;28;01mTrue\u001B[39;00m\n\u001B[0;32m    893\u001B[0m \u001B[38;5;28;01mtry\u001B[39;00m:\n",
      "File \u001B[1;32m~\\AppData\\Local\\Programs\\Python\\Python310\\lib\\site-packages\\pandas\\io\\excel\\_openpyxl.py:53\u001B[0m, in \u001B[0;36mOpenpyxlWriter.__init__\u001B[1;34m(self, path, engine, date_format, datetime_format, mode, storage_options, if_sheet_exists, engine_kwargs, **kwargs)\u001B[0m\n\u001B[0;32m     49\u001B[0m \u001B[38;5;28;01mfrom\u001B[39;00m \u001B[38;5;21;01mopenpyxl\u001B[39;00m\u001B[38;5;21;01m.\u001B[39;00m\u001B[38;5;21;01mworkbook\u001B[39;00m \u001B[38;5;28;01mimport\u001B[39;00m Workbook\n\u001B[0;32m     51\u001B[0m engine_kwargs \u001B[38;5;241m=\u001B[39m combine_kwargs(engine_kwargs, kwargs)\n\u001B[1;32m---> 53\u001B[0m \u001B[38;5;28;43msuper\u001B[39;49m\u001B[43m(\u001B[49m\u001B[43m)\u001B[49m\u001B[38;5;241;43m.\u001B[39;49m\u001B[38;5;21;43m__init__\u001B[39;49m\u001B[43m(\u001B[49m\n\u001B[0;32m     54\u001B[0m \u001B[43m    \u001B[49m\u001B[43mpath\u001B[49m\u001B[43m,\u001B[49m\n\u001B[0;32m     55\u001B[0m \u001B[43m    \u001B[49m\u001B[43mmode\u001B[49m\u001B[38;5;241;43m=\u001B[39;49m\u001B[43mmode\u001B[49m\u001B[43m,\u001B[49m\n\u001B[0;32m     56\u001B[0m \u001B[43m    \u001B[49m\u001B[43mstorage_options\u001B[49m\u001B[38;5;241;43m=\u001B[39;49m\u001B[43mstorage_options\u001B[49m\u001B[43m,\u001B[49m\n\u001B[0;32m     57\u001B[0m \u001B[43m    \u001B[49m\u001B[43mif_sheet_exists\u001B[49m\u001B[38;5;241;43m=\u001B[39;49m\u001B[43mif_sheet_exists\u001B[49m\u001B[43m,\u001B[49m\n\u001B[0;32m     58\u001B[0m \u001B[43m    \u001B[49m\u001B[43mengine_kwargs\u001B[49m\u001B[38;5;241;43m=\u001B[39;49m\u001B[43mengine_kwargs\u001B[49m\u001B[43m,\u001B[49m\n\u001B[0;32m     59\u001B[0m \u001B[43m\u001B[49m\u001B[43m)\u001B[49m\n\u001B[0;32m     61\u001B[0m \u001B[38;5;66;03m# ExcelWriter replaced \"a\" by \"r+\" to allow us to first read the excel file from\u001B[39;00m\n\u001B[0;32m     62\u001B[0m \u001B[38;5;66;03m# the file and later write to it\u001B[39;00m\n\u001B[0;32m     63\u001B[0m \u001B[38;5;28;01mif\u001B[39;00m \u001B[38;5;124m\"\u001B[39m\u001B[38;5;124mr+\u001B[39m\u001B[38;5;124m\"\u001B[39m \u001B[38;5;129;01min\u001B[39;00m \u001B[38;5;28mself\u001B[39m\u001B[38;5;241m.\u001B[39mmode:  \u001B[38;5;66;03m# Load from existing workbook\u001B[39;00m\n",
      "File \u001B[1;32m~\\AppData\\Local\\Programs\\Python\\Python310\\lib\\site-packages\\pandas\\io\\excel\\_base.py:1106\u001B[0m, in \u001B[0;36mExcelWriter.__init__\u001B[1;34m(self, path, engine, date_format, datetime_format, mode, storage_options, if_sheet_exists, engine_kwargs, **kwargs)\u001B[0m\n\u001B[0;32m   1102\u001B[0m \u001B[38;5;28mself\u001B[39m\u001B[38;5;241m.\u001B[39mhandles \u001B[38;5;241m=\u001B[39m IOHandles(\n\u001B[0;32m   1103\u001B[0m     cast(IO[\u001B[38;5;28mbytes\u001B[39m], path), compression\u001B[38;5;241m=\u001B[39m{\u001B[38;5;124m\"\u001B[39m\u001B[38;5;124mcompression\u001B[39m\u001B[38;5;124m\"\u001B[39m: \u001B[38;5;28;01mNone\u001B[39;00m}\n\u001B[0;32m   1104\u001B[0m )\n\u001B[0;32m   1105\u001B[0m \u001B[38;5;28;01mif\u001B[39;00m \u001B[38;5;129;01mnot\u001B[39;00m \u001B[38;5;28misinstance\u001B[39m(path, ExcelWriter):\n\u001B[1;32m-> 1106\u001B[0m     \u001B[38;5;28mself\u001B[39m\u001B[38;5;241m.\u001B[39mhandles \u001B[38;5;241m=\u001B[39m \u001B[43mget_handle\u001B[49m\u001B[43m(\u001B[49m\n\u001B[0;32m   1107\u001B[0m \u001B[43m        \u001B[49m\u001B[43mpath\u001B[49m\u001B[43m,\u001B[49m\u001B[43m \u001B[49m\u001B[43mmode\u001B[49m\u001B[43m,\u001B[49m\u001B[43m \u001B[49m\u001B[43mstorage_options\u001B[49m\u001B[38;5;241;43m=\u001B[39;49m\u001B[43mstorage_options\u001B[49m\u001B[43m,\u001B[49m\u001B[43m \u001B[49m\u001B[43mis_text\u001B[49m\u001B[38;5;241;43m=\u001B[39;49m\u001B[38;5;28;43;01mFalse\u001B[39;49;00m\n\u001B[0;32m   1108\u001B[0m \u001B[43m    \u001B[49m\u001B[43m)\u001B[49m\n\u001B[0;32m   1109\u001B[0m \u001B[38;5;28mself\u001B[39m\u001B[38;5;241m.\u001B[39msheets: \u001B[38;5;28mdict\u001B[39m[\u001B[38;5;28mstr\u001B[39m, Any] \u001B[38;5;241m=\u001B[39m {}\n\u001B[0;32m   1110\u001B[0m \u001B[38;5;28mself\u001B[39m\u001B[38;5;241m.\u001B[39mcur_sheet \u001B[38;5;241m=\u001B[39m \u001B[38;5;28;01mNone\u001B[39;00m\n",
      "File \u001B[1;32m~\\AppData\\Local\\Programs\\Python\\Python310\\lib\\site-packages\\pandas\\io\\common.py:795\u001B[0m, in \u001B[0;36mget_handle\u001B[1;34m(path_or_buf, mode, encoding, compression, memory_map, is_text, errors, storage_options)\u001B[0m\n\u001B[0;32m    786\u001B[0m         handle \u001B[38;5;241m=\u001B[39m \u001B[38;5;28mopen\u001B[39m(\n\u001B[0;32m    787\u001B[0m             handle,\n\u001B[0;32m    788\u001B[0m             ioargs\u001B[38;5;241m.\u001B[39mmode,\n\u001B[1;32m   (...)\u001B[0m\n\u001B[0;32m    791\u001B[0m             newline\u001B[38;5;241m=\u001B[39m\u001B[38;5;124m\"\u001B[39m\u001B[38;5;124m\"\u001B[39m,\n\u001B[0;32m    792\u001B[0m         )\n\u001B[0;32m    793\u001B[0m     \u001B[38;5;28;01melse\u001B[39;00m:\n\u001B[0;32m    794\u001B[0m         \u001B[38;5;66;03m# Binary mode\u001B[39;00m\n\u001B[1;32m--> 795\u001B[0m         handle \u001B[38;5;241m=\u001B[39m \u001B[38;5;28;43mopen\u001B[39;49m\u001B[43m(\u001B[49m\u001B[43mhandle\u001B[49m\u001B[43m,\u001B[49m\u001B[43m \u001B[49m\u001B[43mioargs\u001B[49m\u001B[38;5;241;43m.\u001B[39;49m\u001B[43mmode\u001B[49m\u001B[43m)\u001B[49m\n\u001B[0;32m    796\u001B[0m     handles\u001B[38;5;241m.\u001B[39mappend(handle)\n\u001B[0;32m    798\u001B[0m \u001B[38;5;66;03m# Convert BytesIO or file objects passed with an encoding\u001B[39;00m\n",
      "\u001B[1;31mPermissionError\u001B[0m: [Errno 13] Permission denied: 'Ofertas.xlsx'"
     ]
    }
   ],
   "source": [
    "#exportar tabela de ofertas para excel\n",
    "tabela_ofertas.to_excel('Ofertas.xlsx', index=False)"
   ],
   "metadata": {
    "collapsed": false,
    "ExecuteTime": {
     "end_time": "2023-12-15T18:11:43.733219100Z",
     "start_time": "2023-12-15T18:11:28.644401400Z"
    }
   },
   "id": "a8ffad3b914085bd"
  },
  {
   "cell_type": "markdown",
   "source": [
    "#Enviando por email GMail"
   ],
   "metadata": {
    "collapsed": false
   },
   "id": "6935591106f0066e"
  },
  {
   "cell_type": "code",
   "execution_count": null,
   "outputs": [],
   "source": [
    "#enviar pelo gmail\n",
    "import smtplib\n",
    "import email.message\n",
    "\n",
    "if len(tabela_ofertas) > 0:\n",
    "    \n",
    "    corpo_email = f'''\n",
    "    <p>Segue abaixo as ofertas encontradas na faixa de preço desejada:</p>\n",
    "    {tabela_ofertas.to_html(index=False)}\n",
    "    <p>Att,Rapha TCC</p>\n",
    "    '''\n",
    "    msg = email.message.Message()\n",
    "    msg['Subject'] = 'Ofertas encontradas na faixa de preço desejada'\n",
    "    msg['From'] = 'raphaelvictor40@gmail.com'\n",
    "    msg['To'] = 'raphaelvictor40@gmail.com'\n",
    "    password = \"ubthvlcuzixmrvba\"\n",
    "    msg.add_header('Content-Type', 'text/html')\n",
    "    msg.set_payload(corpo_email )\n",
    "    \n",
    "    s = smtplib.SMTP('smtp.gmail.com: 587')\n",
    "    s.starttls()\n",
    "    s.login(msg['From'], password)\n",
    "    s.sendmail(msg['From'], [msg['To']], msg.as_string().encode('utf-8'))\n",
    "    print('Email enviado')\n",
    "    "
   ],
   "metadata": {
    "collapsed": false,
    "ExecuteTime": {
     "start_time": "2023-12-15T18:11:43.733219100Z"
    }
   },
   "id": "4ae66b2a4a85c03b"
  }
 ],
 "metadata": {
  "kernelspec": {
   "display_name": "Python 3",
   "language": "python",
   "name": "python3"
  },
  "language_info": {
   "codemirror_mode": {
    "name": "ipython",
    "version": 2
   },
   "file_extension": ".py",
   "mimetype": "text/x-python",
   "name": "python",
   "nbconvert_exporter": "python",
   "pygments_lexer": "ipython2",
   "version": "2.7.6"
  }
 },
 "nbformat": 4,
 "nbformat_minor": 5
}
