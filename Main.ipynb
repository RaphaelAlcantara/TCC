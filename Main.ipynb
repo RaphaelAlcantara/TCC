{
 "cells": [
  {
   "cell_type": "code",
   "execution_count": 188,
   "id": "initial_id",
   "metadata": {
    "collapsed": true,
    "ExecuteTime": {
     "end_time": "2023-11-19T05:42:34.248558600Z",
     "start_time": "2023-11-19T05:42:34.224530200Z"
    }
   },
   "outputs": [],
   "source": [
    "\n",
    "#procurar no buscape\n",
    "#verificar se estão no range\n",
    "#Salvar as ofertas boas num Dataframe\n",
    "#exportar para excel\n",
    "#enviar por email"
   ]
  },
  {
   "cell_type": "code",
   "execution_count": 189,
   "outputs": [
    {
     "data": {
      "text/plain": "              Nome Termos Banidos  Preço mínimo  Preço máximo\n0  iphone 12 64 gb     mini watch          3000          3500\n1         rtx 2060          galax          1800          2500",
      "text/html": "<div>\n<style scoped>\n    .dataframe tbody tr th:only-of-type {\n        vertical-align: middle;\n    }\n\n    .dataframe tbody tr th {\n        vertical-align: top;\n    }\n\n    .dataframe thead th {\n        text-align: right;\n    }\n</style>\n<table border=\"1\" class=\"dataframe\">\n  <thead>\n    <tr style=\"text-align: right;\">\n      <th></th>\n      <th>Nome</th>\n      <th>Termos Banidos</th>\n      <th>Preço mínimo</th>\n      <th>Preço máximo</th>\n    </tr>\n  </thead>\n  <tbody>\n    <tr>\n      <th>0</th>\n      <td>iphone 12 64 gb</td>\n      <td>mini watch</td>\n      <td>3000</td>\n      <td>3500</td>\n    </tr>\n    <tr>\n      <th>1</th>\n      <td>rtx 2060</td>\n      <td>galax</td>\n      <td>1800</td>\n      <td>2500</td>\n    </tr>\n  </tbody>\n</table>\n</div>"
     },
     "metadata": {},
     "output_type": "display_data"
    }
   ],
   "source": [
    "#Criar um navegador\n",
    "#Observação: utilizar Edge ou Chrome\n",
    "from selenium import webdriver\n",
    "from selenium.webdriver.common.keys import Keys\n",
    "from webdriver_manager.microsoft import EdgeChromiumDriverManager \n",
    "\n",
    "from selenium.webdriver.edge.service import Service\n",
    "servico = Service(EdgeChromiumDriverManager().install())\n",
    "navegador = webdriver.Edge(service=servico)\n",
    "\n",
    "#importar base de dados\n",
    "import pandas as pd\n",
    "tabela_produtos = pd.read_excel('buscas.xlsx')\n",
    "display(tabela_produtos)\n"
   ],
   "metadata": {
    "collapsed": false,
    "ExecuteTime": {
     "end_time": "2023-11-19T05:42:39.033379100Z",
     "start_time": "2023-11-19T05:42:34.230529500Z"
    }
   },
   "id": "2bfad52f4890f58"
  },
  {
   "cell_type": "markdown",
   "source": [
    "Definição de função do Google Shopping e Buscapé"
   ],
   "metadata": {
    "collapsed": false
   },
   "id": "6b63be8f15e00c9a"
  },
  {
   "cell_type": "code",
   "execution_count": 190,
   "outputs": [],
   "source": [
    "def verificar_termos_banidos(lista_termos_banidos, nome):\n",
    "    tem_termos_banidos = False\n",
    "    for palavra in lista_termos_banidos:\n",
    "        if palavra in nome:\n",
    "            tem_termos_banidos = True\n",
    "    return tem_termos_banidos       \n",
    "\n",
    "def verificar_termos_nome_produto(lista_termos_nome_produto, nome):\n",
    "    tem_termos_nome_produto = True\n",
    "    for palavra in lista_termos_nome_produto:\n",
    "        if palavra not in nome:\n",
    "            tem_termos_nome_produto = False\n",
    "    return tem_termos_nome_produto\n",
    "\n",
    "def busca_google_shopping(navegador,produto, termos_banidos, preco_minimo, preco_maximo):\n",
    "    #tratar valores\n",
    "    produto = produto.lower() #garantir que os dados da tabela fiquem minusculos\n",
    "    termos_banidos = termos_banidos.lower()\n",
    "    lista_termos_banidos = termos_banidos.split(\" \")#transforma a string de termos banidos em lista\n",
    "    lista_termos_nome_produto = produto.split(\" \")#transforma a string de produtos em lista\n",
    "    lista_ofertas = [] # lista vazia para armazenar os resultados da busca\n",
    "    #transformar os dados do excel em float\n",
    "    preco_minimo = float(preco_minimo)\n",
    "    preco_maximo = float(preco_maximo)\n",
    "    \n",
    "    #entrar no google\n",
    "    navegador.get('https://www.google.com/')\n",
    "    \n",
    "    #busca o elemento pelo xpath e envia o produto\n",
    "    navegador.find_element('xpath', '//*[@id=\"APjFqb\"]').send_keys(produto)\n",
    "    navegador.find_element('xpath', '//*[@id=\"APjFqb\"]').send_keys(Keys.ENTER)\n",
    "    #entrar no google shopping com condicional\n",
    "    elementos2 = navegador.find_elements('class name', 'hdtb-mitem') #versao mais antiga\n",
    "    elementos = navegador.find_elements('class name', 'GKS7s') #versao mais nova\n",
    "    for item in elementos:\n",
    "        if \"Shopping\" in item.text:\n",
    "            print(\"v1 - \"+item.text)\n",
    "            item.click()\n",
    "            break\n",
    "        \n",
    "    for item2 in elementos2:\n",
    "        if \"Shopping\" in item2.text:\n",
    "            print(\"v2 - \"+item2.text)\n",
    "            item2.click()\n",
    "            break \n",
    "            \n",
    "\n",
    "    \n",
    "    #Pegar card dos produtos google shopping \n",
    "    lista_resultados = navegador.find_elements('class name', 'i0X6df')\n",
    "    \n",
    "    #a busca ocorre apenas dentro da classe i0X6df e naõ em no navegador inteiro\n",
    "    \n",
    "    for resultado in lista_resultados:\n",
    "        \n",
    "        nome = resultado.find_element('class name', 'tAxDx').text\n",
    "        nome = nome.lower()\n",
    "        #analisar se o nome não tem nenhum termo banido\n",
    "        tem_termos_banidos = verificar_termos_banidos(lista_termos_banidos, nome)\n",
    "                \n",
    "        #analisar se tem todos os termos buscados no nome do produto\n",
    "        tem_termos_nome_produto = verificar_termos_nome_produto(lista_termos_nome_produto, nome)\n",
    "        \n",
    "        #Tratamento preco\n",
    "        if not tem_termos_banidos and tem_termos_nome_produto:\n",
    "            preco = resultado.find_element('class name', 'a8Pemb').text\n",
    "            preco = preco.replace(\"R$\", \"\").replace(\" \", \"\").replace(\".\", \"\").replace(\",\", \".\").replace(\"+impostos\", \" \")\n",
    "            #remover o R$ ; remover o espaço; remover o ponto; trocar a virgula por ponto para reconhecer no float\n",
    "            preco = float(preco)\n",
    "            \n",
    "            \n",
    "            \n",
    "            \n",
    "            #Verificar se o preço está entre o preço minimo e maximo\n",
    "            if preco_minimo <= preco <= preco_maximo:\n",
    "                #Caso retornar None é necessário utilizar uma referencia\n",
    "                elemento_referencia = resultado.find_element('class name', 'bONr3b') #Elemento filho da classe do Link \n",
    "                elemento_pai = elemento_referencia.find_element('xpath', ('..'))#Elemento pai do elemento filho (..) serve para voltar um nível\n",
    "                link = elemento_pai.get_attribute('href') #retornando None em vez do link\n",
    "                lista_ofertas.append((nome,preco,link))\n",
    "\n",
    "    return lista_ofertas\n",
    "\n",
    "def busca_buscape(navegador,produto, termos_banidos, preco_minimo, preco_maximo):\n",
    "    #trata valores\n",
    "    produto = produto.lower() #garantir que os dados da tabela fiquem minusculos\n",
    "    termos_banidos = termos_banidos.lower()\n",
    "    lista_termos_banidos = termos_banidos.split(\" \")#transforma a string de termos banidos em lista\n",
    "    lista_termos_nome_produto = produto.split(\" \")#transforma a string de produtos em lista\n",
    "    lista_ofertas = [] # lista vazia para armazenar os resultados da busca\n",
    "    preco_minimo = float(preco_minimo)#converte dados do excel em float\n",
    "    preco_maximo = float(preco_maximo)\n",
    "    #entrar no buscape\n",
    "    navegador.get(\"https://www.buscape.com.br/\")\n",
    "    \n",
    "    #buscar o elemento pelo xpath e envia o produto\n",
    "    navegador.find_element('xpath', '//*[@id=\"new-header\"]/div[1]/div/div/div[3]/div/div/div[2]/div/div[1]/input').send_keys(produto)\n",
    "    navegador.find_element('xpath', '//*[@id=\"new-header\"]/div[1]/div/div/div[3]/div/div/div[2]/div/div[1]/input').send_keys(Keys.ENTER)\n",
    "    \n",
    "    #pegar os resultados do card do produto\n",
    "    lista_resultados = navegador.find_elements('class name', 'ProductCard_ProductCard_Inner__tsD4M')\n",
    "    \n",
    "    for resultado in lista_resultados:\n",
    "        nome = resultado.find_element('class name', 'ProductCard_ProductCard_Name__LT7hv').text\n",
    "        nome = nome.lower()\n",
    "        preco = resultado.find_element('class name', 'Text_MobileHeadingS__Zxam2').text\n",
    "        link = resultado.get_attribute('href')\n",
    "        # print(nome, preco, link)\n",
    "    \n",
    "    #analisar se o nome não tem nenhum termo banido\n",
    "        tem_termos_banidos = verificar_termos_banidos(lista_termos_banidos, nome)\n",
    "    \n",
    "    #analisar se tem todos os termos buscados no nome do produto\n",
    "        tem_termos_nome_produto = verificar_termos_nome_produto(lista_termos_nome_produto, nome)\n",
    "    \n",
    "    #analisar range de preço determidado\n",
    "        if not tem_termos_banidos and tem_termos_nome_produto:\n",
    "            preco = preco.replace(\"R$\", \"\").replace(\" \", \"\").replace(\".\", \"\").replace(\",\", \".\")\n",
    "            #remover o R$ ; remover o espaço; remover o ponto; trocar a virgula por ponto para reconhecer no float\n",
    "            preco = float(preco)\n",
    "            \n",
    "            #Verificar se o preço está entre o preço minimo e maximo\n",
    "            if preco_minimo <= preco <= preco_maximo:\n",
    "                lista_ofertas.append((nome,preco,link))\n",
    "    \n",
    "    \n",
    "    #retorna lista de ofertas buscape\n",
    "    return lista_ofertas"
   ],
   "metadata": {
    "collapsed": false,
    "ExecuteTime": {
     "end_time": "2023-11-19T05:42:39.046415400Z",
     "start_time": "2023-11-19T05:42:39.027865100Z"
    }
   },
   "id": "a69056214be8f217"
  },
  {
   "cell_type": "code",
   "execution_count": 191,
   "outputs": [
    {
     "name": "stdout",
     "output_type": "stream",
     "text": [
      "v2 - Shopping\n",
      "v2 - Shopping\n"
     ]
    },
    {
     "data": {
      "text/plain": "                                                Nome    Preço  \\\n0  iphone 12 apple 64gb tela de 6.1 polegadas câm...  3390.64   \n1                    iphone 12 64gb azul - excelente  3299.00   \n2            usado: iphone 12 64gb preto - excelente  3089.00   \n3  iphone 12 64gb preto, super conservado! | celu...  3454.00   \n4     iphone 12 intacto 64gb | celular apple | usado  3415.00   \n5                       vitrine iphone 12 preto 64gb  3099.90   \n0  smartphone apple iphone 12 vermelho 64gb câmer...  3099.00   \n0  placa de vídeo rtx 2060 ventus gp oc msi nvidi...  1999.99   \n1  placa de vídeo pcwinmax nvidia geforce rtx 206...  1990.65   \n2  placa de vídeo pcyes geforce rtx 2060 6gb gddr...  2199.00   \n3  placa de vídeo pci exp. 8gb/256bits rtx2060 su...  2160.39   \n4  placa de video colorful geforce rtx 2060 super...  2022.15   \n5  placa de vídeo evga nvidia geforce rtx 2060 ko...  2238.99   \n0  evga placa de vídeo nvidia geforce rtx 2060 6g...  1990.00   \n1  evga placa gráfica geforce rtx 2060 sc gaming,...  2148.20   \n\n                                                Link  \n0  https://www.google.com/url?url=https://www.leb...  \n1  https://www.google.com/url?url=https://www.tro...  \n2  https://www.google.com/url?url=https://www.cea...  \n3  https://www.google.com/url?url=https://www.enj...  \n4  https://www.google.com/url?url=https://www.enj...  \n5  https://www.google.com/url?url=https://www.car...  \n0  https://www.buscape.com.br/celular/smartphone-...  \n0  https://www.google.com/url?url=https://gamerna...  \n1  https://www.google.com/url?url=https://www.cas...  \n2  https://www.google.com/url?url=https://www.fuj...  \n3  https://www.google.com/url?url=https://www.gpj...  \n4  https://www.google.com/url?url=https://www.kab...  \n5  https://www.google.com/url?url=https://www.log...  \n0  https://www.buscape.com.br/lead?oid=1139015123...  \n1  https://www.buscape.com.br/lead?oid=841411028&...  ",
      "text/html": "<div>\n<style scoped>\n    .dataframe tbody tr th:only-of-type {\n        vertical-align: middle;\n    }\n\n    .dataframe tbody tr th {\n        vertical-align: top;\n    }\n\n    .dataframe thead th {\n        text-align: right;\n    }\n</style>\n<table border=\"1\" class=\"dataframe\">\n  <thead>\n    <tr style=\"text-align: right;\">\n      <th></th>\n      <th>Nome</th>\n      <th>Preço</th>\n      <th>Link</th>\n    </tr>\n  </thead>\n  <tbody>\n    <tr>\n      <th>0</th>\n      <td>iphone 12 apple 64gb tela de 6.1 polegadas câm...</td>\n      <td>3390.64</td>\n      <td>https://www.google.com/url?url=https://www.leb...</td>\n    </tr>\n    <tr>\n      <th>1</th>\n      <td>iphone 12 64gb azul - excelente</td>\n      <td>3299.00</td>\n      <td>https://www.google.com/url?url=https://www.tro...</td>\n    </tr>\n    <tr>\n      <th>2</th>\n      <td>usado: iphone 12 64gb preto - excelente</td>\n      <td>3089.00</td>\n      <td>https://www.google.com/url?url=https://www.cea...</td>\n    </tr>\n    <tr>\n      <th>3</th>\n      <td>iphone 12 64gb preto, super conservado! | celu...</td>\n      <td>3454.00</td>\n      <td>https://www.google.com/url?url=https://www.enj...</td>\n    </tr>\n    <tr>\n      <th>4</th>\n      <td>iphone 12 intacto 64gb | celular apple | usado</td>\n      <td>3415.00</td>\n      <td>https://www.google.com/url?url=https://www.enj...</td>\n    </tr>\n    <tr>\n      <th>5</th>\n      <td>vitrine iphone 12 preto 64gb</td>\n      <td>3099.90</td>\n      <td>https://www.google.com/url?url=https://www.car...</td>\n    </tr>\n    <tr>\n      <th>0</th>\n      <td>smartphone apple iphone 12 vermelho 64gb câmer...</td>\n      <td>3099.00</td>\n      <td>https://www.buscape.com.br/celular/smartphone-...</td>\n    </tr>\n    <tr>\n      <th>0</th>\n      <td>placa de vídeo rtx 2060 ventus gp oc msi nvidi...</td>\n      <td>1999.99</td>\n      <td>https://www.google.com/url?url=https://gamerna...</td>\n    </tr>\n    <tr>\n      <th>1</th>\n      <td>placa de vídeo pcwinmax nvidia geforce rtx 206...</td>\n      <td>1990.65</td>\n      <td>https://www.google.com/url?url=https://www.cas...</td>\n    </tr>\n    <tr>\n      <th>2</th>\n      <td>placa de vídeo pcyes geforce rtx 2060 6gb gddr...</td>\n      <td>2199.00</td>\n      <td>https://www.google.com/url?url=https://www.fuj...</td>\n    </tr>\n    <tr>\n      <th>3</th>\n      <td>placa de vídeo pci exp. 8gb/256bits rtx2060 su...</td>\n      <td>2160.39</td>\n      <td>https://www.google.com/url?url=https://www.gpj...</td>\n    </tr>\n    <tr>\n      <th>4</th>\n      <td>placa de video colorful geforce rtx 2060 super...</td>\n      <td>2022.15</td>\n      <td>https://www.google.com/url?url=https://www.kab...</td>\n    </tr>\n    <tr>\n      <th>5</th>\n      <td>placa de vídeo evga nvidia geforce rtx 2060 ko...</td>\n      <td>2238.99</td>\n      <td>https://www.google.com/url?url=https://www.log...</td>\n    </tr>\n    <tr>\n      <th>0</th>\n      <td>evga placa de vídeo nvidia geforce rtx 2060 6g...</td>\n      <td>1990.00</td>\n      <td>https://www.buscape.com.br/lead?oid=1139015123...</td>\n    </tr>\n    <tr>\n      <th>1</th>\n      <td>evga placa gráfica geforce rtx 2060 sc gaming,...</td>\n      <td>2148.20</td>\n      <td>https://www.buscape.com.br/lead?oid=841411028&amp;...</td>\n    </tr>\n  </tbody>\n</table>\n</div>"
     },
     "metadata": {},
     "output_type": "display_data"
    }
   ],
   "source": [
    "tabela_ofertas = pd.DataFrame()#tabela para receber as ofertas\n",
    "\n",
    "#dados da tabela\n",
    "for linha in tabela_produtos.index:\n",
    "    \n",
    "    produto  = tabela_produtos.loc[linha, \"Nome\"]\n",
    "    termos_banidos = tabela_produtos.loc[linha, \"Termos Banidos\"]\n",
    "    preco_minimo = tabela_produtos.loc[linha, \"Preço mínimo\"]\n",
    "    preco_maximo = tabela_produtos.loc[linha, \"Preço máximo\"]\n",
    "    \n",
    "    lista_ofertas_google_shopping = busca_google_shopping(navegador,produto, termos_banidos, preco_minimo, preco_maximo)\n",
    "    #verifica se está vazio\n",
    "    if lista_ofertas_google_shopping:\n",
    "        #transformar em dataframe\n",
    "        tabela_google_shopping = pd.DataFrame(lista_ofertas_google_shopping, columns=['Nome', 'Preço', 'Link'])\n",
    "        tabela_ofertas = pd.concat([tabela_ofertas, tabela_google_shopping])\n",
    "    else:\n",
    "        tabela_google_shopping = None #para sempre definir a tabela para na mescla não misturar produtos\n",
    "    \n",
    "    lista_ofertas_buscape = busca_buscape(navegador,produto, termos_banidos, preco_minimo, preco_maximo)\n",
    "    #verifica se está vazio\n",
    "    if lista_ofertas_buscape:\n",
    "        #transformar em dataframe\n",
    "        tabela_buscape = pd.DataFrame(lista_ofertas_buscape, columns=['Nome', 'Preço', 'Link'])\n",
    "        tabela_ofertas = pd.concat([tabela_ofertas, tabela_buscape])\n",
    "    else:\n",
    "        tabela_buscape = None\n",
    "    \n",
    "display(tabela_ofertas)"
   ],
   "metadata": {
    "collapsed": false,
    "ExecuteTime": {
     "end_time": "2023-11-19T05:43:05.513085500Z",
     "start_time": "2023-11-19T05:42:39.040900200Z"
    }
   },
   "id": "3841a1730b5ddb63"
  },
  {
   "cell_type": "code",
   "execution_count": 191,
   "outputs": [],
   "source": [],
   "metadata": {
    "collapsed": false,
    "ExecuteTime": {
     "end_time": "2023-11-19T05:43:05.514086400Z",
     "start_time": "2023-11-19T05:43:05.503085500Z"
    }
   },
   "id": "a2f87b841d7ab939"
  },
  {
   "cell_type": "markdown",
   "source": [],
   "metadata": {
    "collapsed": false
   },
   "id": "2efc5887fb2a5045"
  },
  {
   "cell_type": "code",
   "execution_count": 191,
   "outputs": [],
   "source": [],
   "metadata": {
    "collapsed": false,
    "ExecuteTime": {
     "end_time": "2023-11-19T05:43:05.514086400Z",
     "start_time": "2023-11-19T05:43:05.507088Z"
    }
   },
   "id": "a8ffad3b914085bd"
  },
  {
   "cell_type": "code",
   "execution_count": 191,
   "outputs": [],
   "source": [],
   "metadata": {
    "collapsed": false,
    "ExecuteTime": {
     "end_time": "2023-11-19T05:43:05.515086Z",
     "start_time": "2023-11-19T05:43:05.511085600Z"
    }
   },
   "id": "450c365fb7246a30"
  },
  {
   "cell_type": "code",
   "execution_count": 191,
   "outputs": [],
   "source": [],
   "metadata": {
    "collapsed": false,
    "ExecuteTime": {
     "end_time": "2023-11-19T05:43:05.526085100Z",
     "start_time": "2023-11-19T05:43:05.515086Z"
    }
   },
   "id": "d2f04929c325e9fe"
  }
 ],
 "metadata": {
  "kernelspec": {
   "display_name": "Python 3",
   "language": "python",
   "name": "python3"
  },
  "language_info": {
   "codemirror_mode": {
    "name": "ipython",
    "version": 2
   },
   "file_extension": ".py",
   "mimetype": "text/x-python",
   "name": "python",
   "nbconvert_exporter": "python",
   "pygments_lexer": "ipython2",
   "version": "2.7.6"
  }
 },
 "nbformat": 4,
 "nbformat_minor": 5
}
