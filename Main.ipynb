{
 "cells": [
  {
   "cell_type": "code",
   "execution_count": 13,
   "id": "initial_id",
   "metadata": {
    "collapsed": true,
    "ExecuteTime": {
     "end_time": "2023-10-31T14:30:45.696222500Z",
     "start_time": "2023-10-31T14:30:45.689221400Z"
    }
   },
   "outputs": [],
   "source": [
    "\n",
    "#procurar no buscape\n",
    "#verificar se estão no range\n",
    "#Salvar as ofertas boas num Dataframe\n",
    "#exportar para excel\n",
    "#enviar por email"
   ]
  },
  {
   "cell_type": "code",
   "execution_count": 1,
   "outputs": [],
   "source": [
    "#Criar um navegador\n",
    "#Observação: utilizar Edge ou Chrome\n",
    "from selenium import webdriver\n",
    "from selenium.webdriver.common.keys import Keys\n",
    "from webdriver_manager.microsoft import EdgeChromiumDriverManager \n",
    "\n",
    "from selenium.webdriver.edge.service import Service\n",
    "servico = Service(EdgeChromiumDriverManager().install())\n",
    "navegador = webdriver.Edge(service=servico)\n",
    "\n",
    "#importar base de dados\n",
    "import pandas as pd\n",
    "tabela_produtos = pd.read_excel('buscas.xlsx')\n"
   ],
   "metadata": {
    "collapsed": false,
    "ExecuteTime": {
     "end_time": "2023-10-31T21:48:23.679565600Z",
     "start_time": "2023-10-31T21:48:17.551442400Z"
    }
   },
   "id": "2bfad52f4890f58"
  },
  {
   "cell_type": "code",
   "execution_count": 8,
   "outputs": [
    {
     "name": "stdout",
     "output_type": "stream",
     "text": [
      "  https://www.google.com/url?url=https://www.fastshop.com.br/web/p/d/AEMGJ63BRABCO_PRD/iphone-12-branco-64gb-mgj63bra-fast/&rct=j&q=&esrc=s&opi=95576897&sa=U&ved=0ahUKEwi3-MOLq6GCAxXvrZUCHTM3C84QguUECIUL&usg=AOvVaw1sqGsXCIyVzCeIy4xOT_Xq\n",
      "R$ 2.769,00 Usado: iPhone 12 64GB Preto Bom - Trocafone https://www.google.com/url?url=https://www.casasbahia.com.br/usado-iphone-12-64gb-preto-bom-trocafone-1560060485/p/1560060485%3Futm_medium%3DCpc%26utm_source%3Dgoogle_freelisting%26IdSku%3D1560060485%26idLojista%3D33013%26tipoLojista%3D3P&rct=j&q=&esrc=s&opi=95576897&sa=U&ved=0ahUKEwi3-MOLq6GCAxXvrZUCHTM3C84QgOUECKAL&usg=AOvVaw1HxXTX5WKW5xZlkjx-n5XO\n",
      "R$ 2.432,95 Apple iPhone 12 64GB 5G - Vitrine - tela Super Retina XDR OLED 6.1\" - Roxo https://www.google.com/url?url=https://www.horizonplay.com.br/apple/iphone-seminovo/apple-iphone-12-64gb-5g-seminovo-tela-super-retina-xdr-oled-6-1%3Fvariant_id%3D22051%26parceiro%3D8926%26srsltid%3DAfmBOoqKuX6bwJksi_ndXIILUAV9mMDx7DMXQ53cF8VaIYynlz3hZ3yCuQ0&rct=j&q=&esrc=s&opi=95576897&sa=U&ved=0ahUKEwi3-MOLq6GCAxXvrZUCHTM3C84QgOUECLML&usg=AOvVaw2BHLMPVzjB-HAMQzaKG7rj\n",
      "R$ 2.999,00 Vitrine Iphone 12 64Gb Branco Tela 6,1 4G Câmera Traseira 12Mp https://www.google.com/url?url=https://www.carrefour.com.br/vitrine-iphone-12-64gb-branco-tela-61-4g-camera-traseira-12mp-mp932521352/p&rct=j&q=&esrc=s&opi=95576897&sa=U&ved=0ahUKEwi3-MOLq6GCAxXvrZUCHTM3C84QgOUECMML&usg=AOvVaw1DwQxPonEqsN-YAT6SSvYX\n",
      "R$ 2.999,00 Vitrine iPhone 12 64GB Roxo Tela 6,1 4G Câmera Traseira 12MP https://www.google.com/url?url=https://www.carrefour.com.br/vitrine-iphone-12-64gb-roxo-tela-61-4g-camera-traseira-12mp-mp932882255/p&rct=j&q=&esrc=s&opi=95576897&sa=U&ved=0ahUKEwi3-MOLq6GCAxXvrZUCHTM3C84QguUECNQL&usg=AOvVaw2hWDUbKJRor4tFHA3tRE8v\n",
      "R$ 2.800,00 iPhone 12 64gb Roxo Novo https://www.google.com/url?url=https://loja.switchphone.com.br/iphone-12-64gb-roxo-lacrado%3Fsrsltid%3DAfmBOooiezrppstoIckM-w3REMLg1PHjNXdD3H_Eq2GqPRGadeyrQlqrnYM&rct=j&q=&esrc=s&opi=95576897&sa=U&ved=0ahUKEwi3-MOLq6GCAxXvrZUCHTM3C84QgOUECOQL&usg=AOvVaw1W8CSgfS4oo_BK440CZOI1\n",
      "R$ 1.015,00 Iphone 12 64gb | Celular Apple | Usado https://www.google.com/url?url=https://www.enjoei.com.br/p/iphone-12-64gb-92339837%3Fg_campaign%3Dgoogle_shopping%26srsltid%3DAfmBOoo6w3Fra323mIuwdz7VLzmP0QYhE8EWkex1g0VE6S0KQxosI1GHqfk&rct=j&q=&esrc=s&opi=95576897&sa=U&ved=0ahUKEwi3-MOLq6GCAxXvrZUCHTM3C84QgOUECPQL&usg=AOvVaw3hoCxg0nqQK8-cgFkn630B\n",
      "R$ 3.099,00 Vitrine: iPhone 12 Apple 64GB Azul Tela 6,1 Câmera Traseira Dupla 12MP https://www.google.com/url?url=https://www.carrefour.com.br/iphone-12-apple-64gb-azul-vitrine-mp934935911/p&rct=j&q=&esrc=s&opi=95576897&sa=U&ved=0ahUKEwi3-MOLq6GCAxXvrZUCHTM3C84QguUECIUM&usg=AOvVaw3goFwIuEfXItAfbtaW0HZl\n",
      "R$ 4.819,42 iPhone 12 64GB Tela 6.1 Sem Carregador e Fone Apple - Preto https://www.google.com/url?url=https://www.buscape.com.br/lead%3Foid%3D707355148%26sortorder%3D-1%26index%3D%26searchterm%3Dnull%26pagesize%3D-1%26channel%3D%26pla%3D2023-10-31T16:38:14.945682&rct=j&q=&esrc=s&opi=95576897&sa=U&ved=0ahUKEwi3-MOLq6GCAxXvrZUCHTM3C84QgOUECJYM&usg=AOvVaw3WG8khBPg50caeDiKq3qgl\n",
      "R$ 2.299,00 iPhone 11 64 GB Branco Apple https://www.google.com/url?url=https://www.taqi.com.br/seminovo-iphone-11-apple-branco-64gb/220531%3Fsrsltid%3DAfmBOoo2wMsFiJM4O3xTqtaaRbGq24hDsj42SzmhBMvYx-AlofLPzMgKrq8&rct=j&q=&esrc=s&opi=95576897&sa=U&ved=0ahUKEwi3-MOLq6GCAxXvrZUCHTM3C84QguUECKgM&usg=AOvVaw0917O_EdvZ2K2GgY2vilAG\n",
      "R$ 2.789,99 Vitrine Iphone 12 Branco 64Gb https://www.google.com/url?url=https://www.carrefour.com.br/vitrine-iphone-12-branco-64gb-mp931605276/p&rct=j&q=&esrc=s&opi=95576897&sa=U&ved=0ahUKEwi3-MOLq6GCAxXvrZUCHTM3C84QgOUECLkM&usg=AOvVaw1Qbd_kshkM1b-5AYBZz17V\n",
      "R$ 3.209,00 Usado: iPhone 12 64GB Preto Excelente - Trocafone https://www.google.com/url?url=https://www.casasbahia.com.br/usado-iphone-12-64gb-preto-excelente-trocafone-1558397421/p/1558397421%3Futm_medium%3DCpc%26utm_source%3Dgoogle_freelisting%26IdSku%3D1558397421%26idLojista%3D33013%26tipoLojista%3D3P&rct=j&q=&esrc=s&opi=95576897&sa=U&ved=0ahUKEwi3-MOLq6GCAxXvrZUCHTM3C84QgOUECMoM&usg=AOvVaw0iJV52zbww34Q6zYIx0xWv\n",
      "R$ 2.899,00 Vitrine: iPhone 12 Apple 64GB Preto Tela 6,1 Câmera Traseira Dupla 12MP Ios https://www.google.com/url?url=https://www.carrefour.com.br/vitrine-iphone-12-apple-64gb-preto-tela-61-camera-traseira-dupla-12mp-ios-mp911874394/p&rct=j&q=&esrc=s&opi=95576897&sa=U&ved=0ahUKEwi3-MOLq6GCAxXvrZUCHTM3C84QguUECNwM&usg=AOvVaw2kQ4zkVKDq0W3qBK_1Uvyj\n",
      "R$ 2.800,00 iPhone 12 64gb Preto Novo https://www.google.com/url?url=https://loja.switchphone.com.br/iphone-12-64gb-preto-lacrado%3Fsrsltid%3DAfmBOooP-1VpZ1ZVHcUcQVs6_ae8LydRViy7kqBM5a6biXy6D0hTusqOe-E&rct=j&q=&esrc=s&opi=95576897&sa=U&ved=0ahUKEwi3-MOLq6GCAxXvrZUCHTM3C84QgOUECOwM&usg=AOvVaw1XRj9ocJ8F0IHeKaCQSBDZ\n",
      "R$ 2.467,90 iPhone 12 Apple 64GB Azul, Tela 6.1, Câmera 12MP + Selfie 12MP https://www.google.com/url?url=https://alojadocelular.com.br/products/iphone-12-apple-64gb-azul-tela-6-1-camera-12mp-selfie-12mp%3Fcurrency%3DBRL%26variant%3D47391912395029%26utm_medium%3Dcpc%26utm_source%3Dgoogle%26utm_campaign%3DGoogle%2520Shopping%26stkn%3D71366bfd3d0c&rct=j&q=&esrc=s&opi=95576897&sa=U&ved=0ahUKEwi3-MOLq6GCAxXvrZUCHTM3C84QgOUECPwM&usg=AOvVaw3LWCxyykk5EiU_NyIOmTBU\n",
      "R$ 2.899,00 Iphone 12 Apple 64Gb Roxo - Vitrine https://www.google.com/url?url=https://www.carrefour.com.br/iphone-12-apple-64gb-roxo-vitrine-mp932337971/p&rct=j&q=&esrc=s&opi=95576897&sa=U&ved=0ahUKEwi3-MOLq6GCAxXvrZUCHTM3C84QgOUECIwN&usg=AOvVaw0GRO9sdQtagy_9rjZywgsQ\n",
      "R$ 2.795,20 iPhone 12 64GB Roxo - SWAP https://www.google.com/url?url=https://malibushop.com.br/produto/iphone-12-64gb-roxo-swap/%3Fsrsltid%3DAfmBOooIV3HO7oErNIJEUju1pbXqwOFQxldCgqNezIjLHik3g_83uX4dlbU&rct=j&q=&esrc=s&opi=95576897&sa=U&ved=0ahUKEwi3-MOLq6GCAxXvrZUCHTM3C84QgOUECJwN&usg=AOvVaw383CkzXL_2s6DmeMqdRMPG\n",
      "R$ 2.800,00 iPhone 12 64gb Verde Novo https://www.google.com/url?url=https://loja.switchphone.com.br/iphone-12-64gb-verde-lacrado%3Fsrsltid%3DAfmBOooxYtMVFBs0JQ6vq-9BaTMpkHRceS6bD6vCfpL8NhURuSx06k96MVk&rct=j&q=&esrc=s&opi=95576897&sa=U&ved=0ahUKEwi3-MOLq6GCAxXvrZUCHTM3C84QgOUECKwN&usg=AOvVaw0dMMo1t3DQvREyR_MtYO6x\n",
      "R$ 2.735,10 iPhone 12 64GB - Verde - Estou Zerado https://www.google.com/url?url=https://www.trocafy.com.br/iphone-12-64gb-verde-sou-como-novo-2557/p%3Fidsku%3D987%26srsltid%3DAfmBOooObXJMx2pnRjRfR8hG4B_YDL7PQtyzLTxxnyFYQ_hnLaYM0ChCWlY&rct=j&q=&esrc=s&opi=95576897&sa=U&ved=0ahUKEwi3-MOLq6GCAxXvrZUCHTM3C84QguUECL4N&usg=AOvVaw0impt077WV3X84li3t6HqV\n",
      "R$ 3.421,58 iPhone 12 Apple 64GB Tela de 6.1 Polegadas Câmera 12MP iOS Azul https://www.google.com/url?url=https://www.lebiscuit.com.br/iphone-12-apple-64gb-tela-de-6-1-polegadas-camera-12mp-ios-16597al08l832478/p%3Fidsku%3D2147376583&rct=j&q=&esrc=s&opi=95576897&sa=U&ved=0ahUKEwi3-MOLq6GCAxXvrZUCHTM3C84QgOUECM4N&usg=AOvVaw24SEs6oMoB8J_l1TYGIj7p\n",
      "R$ 2.335,00 iPhone 12 Mini 64 GB - Preto Apple https://www.google.com/url?url=https://tiendamia.com/br/producto%3Famz%3DB08PPDJWC8&rct=j&q=&esrc=s&opi=95576897&sa=U&ved=0ahUKEwi3-MOLq6GCAxXvrZUCHTM3C84QguUECOAN&usg=AOvVaw1JO8X_VlXAdecxiz8Af7JL\n",
      "R$ 2.769,00 Usado: iPhone 12 64GB Azul Bom - Trocafone https://www.google.com/url?url=https://www.casasbahia.com.br/usado-iphone-12-64gb-azul-bom-trocafone-1561598215/p/1561598215%3Futm_medium%3DCpc%26utm_source%3Dgoogle_freelisting%26IdSku%3D1561598215%26idLojista%3D33013%26tipoLojista%3D3P&rct=j&q=&esrc=s&opi=95576897&sa=U&ved=0ahUKEwi3-MOLq6GCAxXvrZUCHTM3C84QgOUECPIN&usg=AOvVaw3cy2ujYh1WsqbDWzgNxmN5\n",
      "R$ 2.789,99 Vitrine Iphone 12 Vermelho 64Gb https://www.google.com/url?url=https://www.carrefour.com.br/vitrine-iphone-12-vermelho-64gb-mp931605275/p&rct=j&q=&esrc=s&opi=95576897&sa=U&ved=0ahUKEwi3-MOLq6GCAxXvrZUCHTM3C84QgOUECIIO&usg=AOvVaw28aK_F_3J3q7kdVxOvJrMK\n",
      "R$ 2.080,90 Iphone 12 mini telefone móvel, ios a14, tela de 5,4 polegadas, câmera 12mp, 64gb ... https://www.google.com/url?url=https://lacoinfinito.myshopify.com/products/iphone-12-mini-64gb-128gb-256gb-ios-a14-5-4-dual-12mp-iphone-12mini-cellphone%3Fvariant%3D46942993776921%26currency%3DBRL%26utm_medium%3Dproduct_sync%26utm_source%3Dgoogle%26utm_content%3Dsag_organic%26utm_campaign%3Dsag_organic%26srsltid%3DAfmBOoruncEe8VWh_tLqiH3v_0UB-SFjxmB4Fn-UoH_FYThK9oxLDtDEubw&rct=j&q=&esrc=s&opi=95576897&sa=U&ved=0ahUKEwi3-MOLq6GCAxXvrZUCHTM3C84QgOUECJIO&usg=AOvVaw1E94hB0rYpoMJRlqd5rPEV\n",
      "R$ 2.795,20 iPhone 12 64GB Branco - SWAP https://www.google.com/url?url=https://malibushop.com.br/produto/iphone-12-64gb-branco-swap/%3Fsrsltid%3DAfmBOopOIgfi55utmApRuawJRJ0ypwbKofZvBweWP9S1KqPNPEcs8Bpn79E&rct=j&q=&esrc=s&opi=95576897&sa=U&ved=0ahUKEwi3-MOLq6GCAxXvrZUCHTM3C84QgOUECKIO&usg=AOvVaw2ttr5clq1LWQDEBsazfxiP\n",
      "R$ 2.467,90 iPhone 12 Apple 64GB Branco, Tela 6.1, Câmera 12MP + Selfie 12MP https://www.google.com/url?url=https://alojadocelular.com.br/products/iphone-12-apple-64gb-branco-tela-6-1-camera-12mp-selfie-12mp%3Fcurrency%3DBRL%26variant%3D47391912329493%26utm_medium%3Dcpc%26utm_source%3Dgoogle%26utm_campaign%3DGoogle%2520Shopping%26stkn%3D71366bfd3d0c&rct=j&q=&esrc=s&opi=95576897&sa=U&ved=0ahUKEwi3-MOLq6GCAxXvrZUCHTM3C84QgOUECLIO&usg=AOvVaw0do1ythw2cdNCGUZ_jPHZU\n",
      "R$ 2.729,00 Usado: iPhone 12 Mini 64GB Vermelho Muito Bom - Trocafone - Apple https://www.google.com/url?url=https://www.magazineluiza.com.br/usado-iphone-12-mini-64gb-vermelho-muito-bom-trocafone-apple/p/dkb95kgg67/te/i12m/%3Fseller_id%3Dtrocafone%26srsltid%3DAfmBOoqYfwuN2VsPFKjXL8ZgfN5KLiTnmK54AvaJn15Hxbr_4gBw2S1LhFg&rct=j&q=&esrc=s&opi=95576897&sa=U&ved=0ahUKEwi3-MOLq6GCAxXvrZUCHTM3C84QgOUECMMO&usg=AOvVaw2dlQRV94SbQLlnqwc3xfTt\n",
      "R$ 2.800,00 iPhone 12 64gb Azul Novo https://www.google.com/url?url=http://loja.switchphone.com.br/iphone-12-64gb-azul-lacrado%3Fsrsltid%3DAfmBOooD9n3xdf2oeiIU4cAkf-mEGdlh43_bg9WWlN71QltDHybs3BvTqyc&rct=j&q=&esrc=s&opi=95576897&sa=U&ved=0ahUKEwi3-MOLq6GCAxXvrZUCHTM3C84QgOUECNMO&usg=AOvVaw218j5b8hFN9K7yl3b1PyRk\n",
      "R$ 3.100,00 IPHONE 12 - VITRINE https://www.google.com/url?url=https://atacadoventura.com.br/produto/iphone-12-vitrine/%3Fattribute_pa_memoria%3D256gb&rct=j&q=&esrc=s&opi=95576897&sa=U&ved=0ahUKEwi3-MOLq6GCAxXvrZUCHTM3C84QgOUECOMO&usg=AOvVaw3jiGwYrYgnUT9Z7EWaHcS6\n",
      "R$ 4.259,00 Usado: iPhone 12 64GB Roxo Muito Bom - Trocafone https://www.google.com/url?url=https://www.casasbahia.com.br/usado-iphone-12-64gb-roxo-muito-bom-trocafone-1562608845/p/1562608845%3Futm_medium%3DCpc%26utm_source%3Dgoogle_freelisting%26IdSku%3D1562608845%26idLojista%3D33013%26tipoLojista%3D3P&rct=j&q=&esrc=s&opi=95576897&sa=U&ved=0ahUKEwi3-MOLq6GCAxXvrZUCHTM3C84QgOUECPIO&usg=AOvVaw2rKZz62F_-ZPepjPbTzQo8\n",
      "R$ 3.399,00 iPhone 12 64GB Azul - Excelente https://www.google.com/url?url=https://www.trocafone.com.br/iphone-12-64gb-azul---excelente-70613/p%3Fidsku%3D39869&rct=j&q=&esrc=s&opi=95576897&sa=U&ved=0ahUKEwi3-MOLq6GCAxXvrZUCHTM3C84QguUECIIP&usg=AOvVaw3Fiwl737yQFWjHWUnOfDd4\n",
      "R$ 2.929,00 Usado iPhone 12 64GB Azul Muito Bom https://www.google.com/url?url=https://www.cea.com.br/usado--iphone-12-64gb-azul---muito-bom-4430029/p%3FskuId%3D6120060%26srsltid%3DAfmBOornCYXtP-vSc4VbBHb7bZjsciDRYtPrCh3Pv2oVTeZ7poPJeorWpWE&rct=j&q=&esrc=s&opi=95576897&sa=U&ved=0ahUKEwi3-MOLq6GCAxXvrZUCHTM3C84QgOUECJIP&usg=AOvVaw1NUGmZ_EDUfJF_xGYDaQAu\n",
      "R$ 2.795,20 iPhone 12 64GB Azul - SWAP https://www.google.com/url?url=https://malibushop.com.br/produto/iphone-12-64gb-azul-swap/%3Fsrsltid%3DAfmBOortZosjuxXmSyH_TWOhZhPjhiMeUYqOfJvcSUr682H_AL4LngLUt5g&rct=j&q=&esrc=s&opi=95576897&sa=U&ved=0ahUKEwi3-MOLq6GCAxXvrZUCHTM3C84QgOUECKIP&usg=AOvVaw3OlGnL5l-SWr_uCHtqfEqc\n",
      "R$ 2.498,99 iPhone 12 Mini Apple tela 5,4\" Câmera dupla 12MP iOS https://www.google.com/url?url=https://www.outletfone.com.br/iphone-12-mini-apple-tela-5-4-camera-dupla-12mp-ios.html&rct=j&q=&esrc=s&opi=95576897&sa=U&ved=0ahUKEwi3-MOLq6GCAxXvrZUCHTM3C84QgOUECLIP&usg=AOvVaw2rJvwoT-eP3W714dPali9h\n",
      "R$ 2.467,90 iPhone 12 Apple 64GB Vermelho, Tela 6.1, Câmera 12MP + Selfie 12MP https://www.google.com/url?url=https://alojadocelular.com.br/products/iphone-12-apple-64gb-vermelho-tela-6-1-camera-12mp-selfie-12mp%3Fcurrency%3DBRL%26variant%3D47391912165653%26utm_medium%3Dcpc%26utm_source%3Dgoogle%26utm_campaign%3DGoogle%2520Shopping%26stkn%3D71366bfd3d0c&rct=j&q=&esrc=s&opi=95576897&sa=U&ved=0ahUKEwi3-MOLq6GCAxXvrZUCHTM3C84QgOUECMIP&usg=AOvVaw0_UzpnniKgGw7V3sU6dfYg\n",
      "R$ 2.555,10 iPhone 12 64GB - Branco - Tenho minhas marcas de uso https://www.google.com/url?url=https://www.trocafy.com.br/iphone-12-64gb-branco-tenho-minhas-marcas-de-uso-2166/p%3Fidsku%3D862%26srsltid%3DAfmBOooB42vGPY9-2idKFzHtZdm1MIb3PLnnhaw-XwJPthRHR063Hv7_1BA&rct=j&q=&esrc=s&opi=95576897&sa=U&ved=0ahUKEwi3-MOLq6GCAxXvrZUCHTM3C84QgOUECNMP&usg=AOvVaw30ZsUiBVynhkmlHkLuyRDV\n",
      "R$ 2.800,00 iPhone 12 64gb Vermelho Novo https://www.google.com/url?url=https://loja.switchphone.com.br/iphone-12-64gb-vermelho-lacrado%3Fsrsltid%3DAfmBOop52VfdSVQRvep3G20CyNLSmvF3P_-X_5c_CfIYbAXDTD0o1CCWnx4&rct=j&q=&esrc=s&opi=95576897&sa=U&ved=0ahUKEwi3-MOLq6GCAxXvrZUCHTM3C84QgOUECOMP&usg=AOvVaw0rM6uT4boGHQV3LP-BuyuN\n",
      "R$ 2.699,00 iPhone 12 64gb Original Open Box Apple https://www.google.com/url?url=https://produto.mercadolivre.com.br/MLB-3496668873-iphone-12-64gb-original-open-box-_JM%3Fmatt_tool%3D18956390%26utm_source%3Dgoogle_shopping%26utm_medium%3Dorganic&rct=j&q=&esrc=s&opi=95576897&sa=U&ved=0ahUKEwi3-MOLq6GCAxXvrZUCHTM3C84QgOUECPYP&usg=AOvVaw27bo60u0ocfNxyMX4H5em2\n",
      "R$ 2.795,20 iPhone 12 64GB Preto - SWAP https://www.google.com/url?url=https://malibushop.com.br/produto/iphone-12-64gb-preto-swap/%3Fsrsltid%3DAfmBOooIGOU3oyLOx7qbMaYXGEijvrSxc5KySK99VfSiL8nP5mZ15M82rFk&rct=j&q=&esrc=s&opi=95576897&sa=U&ved=0ahUKEwi3-MOLq6GCAxXvrZUCHTM3C84QgOUECIYQ&usg=AOvVaw2_19zwz3zed-hZEEAHsved\n",
      "R$ 3.119,00 Usado: iPhone 12 64GB Preto - Excelente https://www.google.com/url?url=https://www.cea.com.br/usado--iphone-12-64gb-preto---excelente-4256307/p%3FskuId%3D5684085%26srsltid%3DAfmBOoo7laho7X7boMpoMZ8ZUqJSR1KOpkT4SplUnKicz9P0_p3-MD4FJRg&rct=j&q=&esrc=s&opi=95576897&sa=U&ved=0ahUKEwi3-MOLq6GCAxXvrZUCHTM3C84QgOUECJYQ&usg=AOvVaw3q_vfjbEu7Z3fB17DbzzXE\n",
      "R$ 2.999,00 iPhone 12 64GB Preto Tela 6,1 4G Câmera Traseira 12MP Vitrine https://www.google.com/url?url=https://www.carrefour.com.br/iphone-12-64gb-preto-tela-61-4g-camera-traseira-12mp-vitrine-mp934953490/p&rct=j&q=&esrc=s&opi=95576897&sa=U&ved=0ahUKEwi3-MOLq6GCAxXvrZUCHTM3C84QguUECKYQ&usg=AOvVaw02B5FVyQs347n0iHxv__d7\n",
      "R$ 3.299,00 Iphone 12 - Seminovo 64GB / Em até 20 dias úteis / Vermelho https://www.google.com/url?url=https://macuai.com.br/products/iphone-12-seminovo%3Fvariant%3D47607614669105%26currency%3DBRL%26utm_medium%3Dproduct_sync%26utm_source%3Dgoogle%26utm_content%3Dsag_organic%26utm_campaign%3Dsag_organic%26srsltid%3DAfmBOooDhB8L8TXucwLjPkxxLyWEuG_St-JRJo0Y23C83kRdxw10p_ozLFY&rct=j&q=&esrc=s&opi=95576897&sa=U&ved=0ahUKEwi3-MOLq6GCAxXvrZUCHTM3C84QgOUECLYQ&usg=AOvVaw0udm4pIaOCejMuehg5UIly\n",
      "R$ 3.289,00 Usado: iPhone 12 Mini 64GB Azul Muito Bom - Trocafone https://www.google.com/url?url=https://www.casasbahia.com.br/usado-iphone-12-mini-64gb-azul-muito-bom-trocafone-1562625345/p/1562625345%3Futm_medium%3DCpc%26utm_source%3Dgoogle_freelisting%26IdSku%3D1562625345%26idLojista%3D33013%26tipoLojista%3D3P&rct=j&q=&esrc=s&opi=95576897&sa=U&ved=0ahUKEwi3-MOLq6GCAxXvrZUCHTM3C84QgOUECMUQ&usg=AOvVaw3TCAJZVZPWFxcQSWe00UuN\n",
      "R$ 3.209,62 Apple iPhone 12 Pro 128GB - Seminovo De Vitrine - Tela Super Retina XDR Oled 6.1 ... https://www.google.com/url?url=https://www.horizonplay.com.br/apple/iphone-de-vitrine/apple-iphone-12-pro-128gb-azul-seminovo-de-vitrine-tela-super-retina-xdr-oled-6-1-polegadas%3Fvariant_id%3D21025%26srsltid%3DAfmBOopHeI8C1UaFSYwdzRPngQa9ANIwCY5wFgE8oD7eMcpEXhSTJil09Hw&rct=j&q=&esrc=s&opi=95576897&sa=U&ved=0ahUKEwi3-MOLq6GCAxXvrZUCHTM3C84QguUECNgQ&usg=AOvVaw2lO9itYiIDTR0ZQSEhLEuL\n",
      "R$ 2.615,00 Iphone 12 Apple | Celular Apple | Usado https://www.google.com/url?url=https://www.enjoei.com.br/p/iphone-12-apple-92027966%3Fg_campaign%3Dgoogle_shopping%26srsltid%3DAfmBOooCshGn0-Q89h2QNU2EX6K4Kd8O1dS2Fs3ICJd8GDFcE5GlKh_elvA&rct=j&q=&esrc=s&opi=95576897&sa=U&ved=0ahUKEwi3-MOLq6GCAxXvrZUCHTM3C84QgOUECOgQ&usg=AOvVaw2cr_sWDoAbJ-_IVa5KIMGy\n",
      "R$ 3.099,00 Iphone 12 Apple 64Gb Branco - Vitrine https://www.google.com/url?url=https://www.carrefour.com.br/iphone-12-apple-64gb-branco-vitrine-mp934935955/p&rct=j&q=&esrc=s&opi=95576897&sa=U&ved=0ahUKEwi3-MOLq6GCAxXvrZUCHTM3C84QgOUECPgQ&usg=AOvVaw0rdhrC1VQA89tThtg_7CE_\n",
      "R$ 3.209,62 Apple iPhone 12 Pro 128GB 5G - Vitrine - Tela Super Retina XDR OLED 6.1 ... https://www.google.com/url?url=https://www.horizonplay.com.br/apple/iphone-de-vitrine/apple-iphone-12-pro-128gb-azul-seminovo-de-vitrine-tela-super-retina-xdr-oled-6-1-polegadas%3Fvariant_id%3D21027%26parceiro%3D8926%26srsltid%3DAfmBOoqb1Vwil7kFqIeWgFOvsALlBbS9GX8dxx0EzoguZf876hqoe3AYxKc&rct=j&q=&esrc=s&opi=95576897&sa=U&ved=0ahUKEwi3-MOLq6GCAxXvrZUCHTM3C84QgOUECIoR&usg=AOvVaw0Kn_OhPcTuvzGkaIJYinhp\n",
      "R$ 3.194,99 Vitrine Iphone 12 Preto 128Gb https://www.google.com/url?url=https://www.carrefour.com.br/vitrine-iphone-12-preto-128gb-mp931588640/p&rct=j&q=&esrc=s&opi=95576897&sa=U&ved=0ahUKEwi3-MOLq6GCAxXvrZUCHTM3C84QgOUECJoR&usg=AOvVaw37y3R1Iw2CBXySkzNYtAqr\n",
      "R$ 2.916,00 iPhone 12 64 Gb Azul - Muito Bom https://www.google.com/url?url=https://www.cellularstore.com.br/MLB-4155532062-iphone-12-64-gb-azul-muito-bom-_JM&rct=j&q=&esrc=s&opi=95576897&sa=U&ved=0ahUKEwi3-MOLq6GCAxXvrZUCHTM3C84QgOUECKoR&usg=AOvVaw2sQy8VJpl_pRsKrE7fZCqN\n",
      "R$ 2.989,00 Usado: iPhone 12 Mini 64GB Vermelho Excelente - Trocafone https://www.google.com/url?url=https://www.casasbahia.com.br/usado-iphone-12-mini-64gb-vermelho-excelente-trocafone-1561968356/p/1561968356%3Futm_medium%3DCpc%26utm_source%3Dgoogle_freelisting%26IdSku%3D1561968356%26idLojista%3D33013%26tipoLojista%3D3P&rct=j&q=&esrc=s&opi=95576897&sa=U&ved=0ahUKEwi3-MOLq6GCAxXvrZUCHTM3C84QgOUECLoR&usg=AOvVaw1ttG-0S3sv6PG6rVVlPUyU\n",
      "R$ 2.494,12 Apple iphone 12 Mini 64GB Seminovo/Vitrine https://www.google.com/url?url=https://templodophone.com.br/produto/apple-iphone-12-mini-64gb-seminovo-vitrine/%3Fattribute_pa_cor%3Dverde%26srsltid%3DAfmBOorphMhSvxN3JZ3AdEAVFNvx4uNkbdzT99ss25B67oAG8hJWT7lZ1_g&rct=j&q=&esrc=s&opi=95576897&sa=U&ved=0ahUKEwi3-MOLq6GCAxXvrZUCHTM3C84QgOUECMsR&usg=AOvVaw2MnXr8K-gJ1ebwlNCR-ljN\n",
      "R$ 3.779,10 iPhone 12 Apple 64GB Preto Tela 6,1 12MP - iOS + Microsoft 365 Persona https://www.google.com/url?url=https://www.magazineluiza.com.br/iphone-12-apple-64gb-preto-tela-61-12mp-ios-microsoft-365-personal-office-365-apps-1tb/p/229753500/te/ip12/%3Futm_source%3Dgoogle%26utm_medium%3Dsmart_pla%26utm_campaign%3Dgoop_samsung_cadastra_smart_pla%26partner_id%3D65686%26seller_id%3Dmagazineluiza%26srsltid%3DAfmBOoqIvJ5qpfYx5AKjRBKe0172UyMlLi7U4C0dvlNoKJgO2jXbqlTXLFo&rct=j&q=&esrc=s&opi=95576897&sa=U&ved=0ahUKEwi3-MOLq6GCAxXvrZUCHTM3C84QgOUECNoR&usg=AOvVaw0UHA5kHbgde-7h9KZD4WTx\n",
      "R$ 7.885,00 iPhone 12 (64GB) Branco Tela 6,1 https://www.google.com/url?url=https://www.eletrosom.com/iphone-12-64gb-branco-tela-6-1-5g-camera-12mp-12mp-ios-apple.html%3Fsrsltid%3DAfmBOopCOx6yMSjQvuku8ylhwW235RqfxknW_waTcppwJ4yz9yRZTdHyLMk&rct=j&q=&esrc=s&opi=95576897&sa=U&ved=0ahUKEwi3-MOLq6GCAxXvrZUCHTM3C84QgOUECOoR&usg=AOvVaw09mrwxftu7RtPzU1HtGFjV\n",
      "R$ 6.299,90 iPhone 12 Apple 64GB Tela 6.1 Sem Carregador e Fone | Branco (S/V) https://www.google.com/url?url=https://www.lojasmm.com/iphone-12-apple-64gb-tela-6-1-sem-carregador-e-fone/p%3Fidsku%3D2774&rct=j&q=&esrc=s&opi=95576897&sa=U&ved=0ahUKEwi3-MOLq6GCAxXvrZUCHTM3C84QgOUECPoR&usg=AOvVaw2OLCSLcovrupbFzaWeM5Wb\n",
      "R$ 3.199,90 Vitrine Seminovo Apple iPhone 12 64 GB https://www.google.com/url?url=https://www.carrefour.com.br/vitrine-seminovo-apple-iphone-12-64-gb-mp931849728/p&rct=j&q=&esrc=s&opi=95576897&sa=U&ved=0ahUKEwi3-MOLq6GCAxXvrZUCHTM3C84QguUECIwS&usg=AOvVaw01i-0ZSQ37GmUT6jBNoRYQ\n",
      "R$ 3.789,00 iPhone 12 Azul, Apple, 64gb https://www.google.com/url?url=https://www.astroimportsoficial.com.br/iphone-12-azul-apple-64gb/p%3Fsrsltid%3DAfmBOooK5bl3gR9rgulUWHSjG3O4CrZFgz_gDBNqfipdHXjMy-NCIKUOHAY&rct=j&q=&esrc=s&opi=95576897&sa=U&ved=0ahUKEwi3-MOLq6GCAxXvrZUCHTM3C84QgOUECJsS&usg=AOvVaw0iaS9fy4PlzWwyNvThfUVQ\n",
      "R$ 3.704,87 iPhone 12 https://www.google.com/url?url=https://wantimport.com/produto/iphone-12/%3Fattribute_pa_gb%3D64-gb%26attribute_pa_cor%3Dcinza-espacial%26srsltid%3DAfmBOopXyfcW0VseFUq5V30bIQOr3cN3HDGI7Zj_MHU3vO5kXvWI5n6wqrQ&rct=j&q=&esrc=s&opi=95576897&sa=U&ved=0ahUKEwi3-MOLq6GCAxXvrZUCHTM3C84QgOUECKwS&usg=AOvVaw0_sj93NTLI2FtXY-q_zfux\n",
      "R$ 2.753,26 Usado: iPhone 12 64 GB Azul Muito Bom https://www.google.com/url?url=https://lojasimperio.com.br/produto/usado-iphone-12-64-gb-azul-muito-bom-50328.html&rct=j&q=&esrc=s&opi=95576897&sa=U&ved=0ahUKEwi3-MOLq6GCAxXvrZUCHTM3C84QgOUECLwS&usg=AOvVaw27qm2t_aIdSCd_W0RWoqtA\n",
      "R$ 2.699,00 iPhone 12 Apple 64GB Azul semi novo https://www.google.com/url?url=https://www.dvsperfectcell.com.br/iphone-12-apple-64gb-azul-semi-novo/%3Fsku%3D1878440.89016.186254%26srsltid%3DAfmBOop0MtLhI0LI1S_l514P0QFu3inlzUNYDdGJinwHWeGH3skAjHkAM6c&rct=j&q=&esrc=s&opi=95576897&sa=U&ved=0ahUKEwi3-MOLq6GCAxXvrZUCHTM3C84QgOUECMwS&usg=AOvVaw2kkxvahByiKNl-s_llXHE6\n",
      "R$ 3.879,90 iPhone 12 64GB Branco Apple Tela Super Retina XDR 6.1” Cam. Dupla 12MP Chip A14 ... https://www.google.com/url?url=https://www.smartsshop.com.br/iphone-12-64gb-branco-apple-tela-super-retina-xdr-6.1-cam.-dupla-12mp-chip-a14-bionic-5g%3Fsrsltid%3DAfmBOorb5kEqfyuaPmkPbZmd9o6ih_FBvnJ6roc28QW0Cg5TMLb3tWKpojA&rct=j&q=&esrc=s&opi=95576897&sa=U&ved=0ahUKEwi3-MOLq6GCAxXvrZUCHTM3C84QgOUECNwS&usg=AOvVaw3Lm23HCD7fMIVeEIPlIIR2\n",
      "R$ 2.799,00 (Seminovo) iPhone 12 Apple Verde, 64GB https://www.google.com/url?url=https://www.taqi.com.br/seminovo-apple-iphone-12-64gb-verde-taqi/222821%3Fsrsltid%3DAfmBOorfj_YQcqVdesvnHf5rON6223NsBdiTVB1bENT_AN6w-hj8MpIkNls&rct=j&q=&esrc=s&opi=95576897&sa=U&ved=0ahUKEwi3-MOLq6GCAxXvrZUCHTM3C84QgOUECO0S&usg=AOvVaw2C_Vy5z_oCxiN31pK1-nbw\n"
     ]
    }
   ],
   "source": [
    "#entrar no google\n",
    "navegador.get('https://www.google.com/')\n",
    "#pesquisar no google\n",
    "produto  = 'iphone 12 64gb'\n",
    "navegador.find_element('xpath', '//*[@id=\"APjFqb\"]').send_keys(produto)\n",
    "navegador.find_element('xpath', '//*[@id=\"APjFqb\"]').send_keys(Keys.ENTER)\n",
    "#entrar no google shopping com condicional\n",
    "elementos = navegador.find_elements('class name', 'hdtb-mitem')\n",
    "\n",
    "for item in elementos:\n",
    "    if \"Shopping\" in item.text:\n",
    "        item.click()\n",
    "        break\n",
    "\n",
    "#Pegar preços dos produtos google shopping \n",
    "lista_resultados = navegador.find_elements('class name', 'i0X6df')\n",
    "\n",
    "#a busca ocorre apenas dentro da classe i0X6df e naõ em no navegador inteiro\n",
    "\n",
    "for resultado in lista_resultados:\n",
    "    preco = resultado.find_element('class name', 'a8Pemb').text\n",
    "    nome = resultado.find_element('class name', 'tAxDx').text\n",
    "    \n",
    "    #Caso retornar None é necessário utilizar uma referencia\n",
    "    elemento_referencia = resultado.find_element('class name', 'bONr3b') #Elemento filho da classe do Link \n",
    "    elemento_pai = elemento_referencia.find_element('xpath', ('..'))#Elemento pai do elemento filho (..) serve para voltar um nível\n",
    "    link = elemento_pai.get_attribute('href') #retornando None em vez do link\n",
    "    print(preco, nome, link)\n",
    "    \n",
    "\n",
    "\n",
    "\n",
    "#verificar se estão no range"
   ],
   "metadata": {
    "collapsed": false,
    "ExecuteTime": {
     "end_time": "2023-10-31T22:29:59.340788200Z",
     "start_time": "2023-10-31T22:29:50.886498400Z"
    }
   },
   "id": "3841a1730b5ddb63"
  },
  {
   "cell_type": "code",
   "execution_count": 15,
   "outputs": [],
   "source": [],
   "metadata": {
    "collapsed": false,
    "ExecuteTime": {
     "end_time": "2023-10-31T14:31:05.430541500Z",
     "start_time": "2023-10-31T14:31:05.421528900Z"
    }
   },
   "id": "a69056214be8f217"
  },
  {
   "cell_type": "code",
   "execution_count": 15,
   "outputs": [],
   "source": [],
   "metadata": {
    "collapsed": false,
    "ExecuteTime": {
     "end_time": "2023-10-31T14:31:05.430541500Z",
     "start_time": "2023-10-31T14:31:05.426531700Z"
    }
   },
   "id": "a2f87b841d7ab939"
  },
  {
   "cell_type": "code",
   "execution_count": 15,
   "outputs": [],
   "source": [],
   "metadata": {
    "collapsed": false,
    "ExecuteTime": {
     "end_time": "2023-10-31T14:31:05.443537700Z",
     "start_time": "2023-10-31T14:31:05.429539600Z"
    }
   },
   "id": "a8ffad3b914085bd"
  },
  {
   "cell_type": "code",
   "execution_count": 15,
   "outputs": [],
   "source": [],
   "metadata": {
    "collapsed": false,
    "ExecuteTime": {
     "end_time": "2023-10-31T14:31:05.443537700Z",
     "start_time": "2023-10-31T14:31:05.432538700Z"
    }
   },
   "id": "450c365fb7246a30"
  }
 ],
 "metadata": {
  "kernelspec": {
   "display_name": "Python 3",
   "language": "python",
   "name": "python3"
  },
  "language_info": {
   "codemirror_mode": {
    "name": "ipython",
    "version": 2
   },
   "file_extension": ".py",
   "mimetype": "text/x-python",
   "name": "python",
   "nbconvert_exporter": "python",
   "pygments_lexer": "ipython2",
   "version": "2.7.6"
  }
 },
 "nbformat": 4,
 "nbformat_minor": 5
}
