{
 "cells": [
  {
   "cell_type": "markdown",
   "id": "bda4162a0fd34f6b",
   "metadata": {},
   "source": [
    "#Inicialização do navegador"
   ]
  },
  {
   "cell_type": "code",
   "execution_count": 19,
   "id": "2bfad52f4890f58",
   "metadata": {
    "ExecuteTime": {
     "end_time": "2023-12-15T19:30:53.736143500Z",
     "start_time": "2023-12-15T19:30:48.498771600Z"
    }
   },
   "outputs": [
    {
     "data": {
      "text/plain": "              Nome Termos Banidos  Preço mínimo  Preço máximo\n0  iphone 12 64 gb     mini watch          2500          4500\n1         rtx 2060          galax          1800          3500",
      "text/html": "<div>\n<style scoped>\n    .dataframe tbody tr th:only-of-type {\n        vertical-align: middle;\n    }\n\n    .dataframe tbody tr th {\n        vertical-align: top;\n    }\n\n    .dataframe thead th {\n        text-align: right;\n    }\n</style>\n<table border=\"1\" class=\"dataframe\">\n  <thead>\n    <tr style=\"text-align: right;\">\n      <th></th>\n      <th>Nome</th>\n      <th>Termos Banidos</th>\n      <th>Preço mínimo</th>\n      <th>Preço máximo</th>\n    </tr>\n  </thead>\n  <tbody>\n    <tr>\n      <th>0</th>\n      <td>iphone 12 64 gb</td>\n      <td>mini watch</td>\n      <td>2500</td>\n      <td>4500</td>\n    </tr>\n    <tr>\n      <th>1</th>\n      <td>rtx 2060</td>\n      <td>galax</td>\n      <td>1800</td>\n      <td>3500</td>\n    </tr>\n  </tbody>\n</table>\n</div>"
     },
     "metadata": {},
     "output_type": "display_data"
    }
   ],
   "source": [
    "#Criar um navegador\n",
    "#Observação: utilizar Edge ou Chrome\n",
    "from selenium import webdriver\n",
    "from selenium.webdriver.common.keys import Keys\n",
    "from webdriver_manager.microsoft import EdgeChromiumDriverManager \n",
    "import time\n",
    "\n",
    "from selenium.webdriver.edge.service import Service\n",
    "servico = Service(EdgeChromiumDriverManager().install())\n",
    "navegador = webdriver.Edge(service=servico)\n",
    "\n",
    "\n",
    "\n",
    "#importar base de dados\n",
    "import pandas as pd\n",
    "tabela_produtos = pd.read_excel('buscas.xlsx')\n",
    "\n",
    "display(tabela_produtos)\n"
   ]
  },
  {
   "cell_type": "markdown",
   "id": "6b63be8f15e00c9a",
   "metadata": {},
   "source": [
    "#Definição de função do Google Shopping e Buscapé"
   ]
  },
  {
   "cell_type": "code",
   "execution_count": 20,
   "id": "a69056214be8f217",
   "metadata": {
    "ExecuteTime": {
     "end_time": "2023-12-15T19:30:53.750146200Z",
     "start_time": "2023-12-15T19:30:53.730145600Z"
    }
   },
   "outputs": [],
   "source": [
    "def verificar_termos_banidos(lista_termos_banidos, nome):\n",
    "    tem_termos_banidos = False\n",
    "    for palavra in lista_termos_banidos:\n",
    "        if palavra in nome:\n",
    "            tem_termos_banidos = True\n",
    "    return tem_termos_banidos       \n",
    "\n",
    "def verificar_termos_nome_produto(lista_termos_nome_produto, nome):\n",
    "    tem_termos_nome_produto = True\n",
    "    for palavra in lista_termos_nome_produto:\n",
    "        if palavra not in nome:\n",
    "            tem_termos_nome_produto = False\n",
    "    return tem_termos_nome_produto\n",
    "\n",
    "def busca_google_shopping(navegador,produto, termos_banidos, preco_minimo, preco_maximo):\n",
    "    #tratar valores\n",
    "    produto = produto.lower() #garantir que os dados da tabela fiquem minusculos\n",
    "    termos_banidos = termos_banidos.lower()\n",
    "    lista_termos_banidos = termos_banidos.split(\" \")#transforma a string de termos banidos em lista\n",
    "    lista_termos_nome_produto = produto.split(\" \")#transforma a string de produtos em lista\n",
    "    lista_ofertas = [] # lista vazia para armazenar os resultados da busca\n",
    "    #transformar os dados do excel em float\n",
    "    preco_minimo = float(preco_minimo)\n",
    "    preco_maximo = float(preco_maximo)\n",
    "    \n",
    "    #entrar no google\n",
    "    navegador.get('https://www.google.com/')\n",
    "    \n",
    "    #busca o elemento pelo xpath e envia o produto\n",
    "    navegador.find_element('xpath', '//*[@id=\"APjFqb\"]').send_keys(produto)\n",
    "    navegador.find_element('xpath', '//*[@id=\"APjFqb\"]').send_keys(Keys.ENTER)\n",
    "    #entrar no google shopping com condicional\n",
    "    elementos2 = navegador.find_elements('class name', 'hdtb-mitem') #versao mais antiga\n",
    "    elementos = navegador.find_elements('class name', 'GKS7s') #versao mais nova\n",
    "    for item in elementos:\n",
    "        if \"Shopping\" in item.text:\n",
    "            print(\"v1 - \"+item.text)\n",
    "            item.click()\n",
    "            break\n",
    "        \n",
    "    for item2 in elementos2:\n",
    "        if \"Shopping\" in item2.text:\n",
    "            print(\"v2 - \"+item2.text)\n",
    "            item2.click()\n",
    "            break \n",
    "            \n",
    "\n",
    "    \n",
    "    #Pegar card dos produtos google shopping \n",
    "    lista_resultados = navegador.find_elements('class name', 'i0X6df')\n",
    "    \n",
    "    #a busca ocorre apenas dentro da classe i0X6df e naõ em no navegador inteiro\n",
    "    \n",
    "    for resultado in lista_resultados:\n",
    "        \n",
    "        nome = resultado.find_element('class name', 'tAxDx').text\n",
    "        nome = nome.lower()\n",
    "        #analisar se o nome não tem nenhum termo banido\n",
    "        tem_termos_banidos = verificar_termos_banidos(lista_termos_banidos, nome)\n",
    "                \n",
    "        #analisar se tem todos os termos buscados no nome do produto\n",
    "        tem_termos_nome_produto = verificar_termos_nome_produto(lista_termos_nome_produto, nome)\n",
    "        \n",
    "        #Tratamento preco\n",
    "        if not tem_termos_banidos and tem_termos_nome_produto:\n",
    "            preco = resultado.find_element('class name', 'a8Pemb').text\n",
    "            preco = preco.replace(\"R$\", \"\").replace(\" \", \"\").replace(\".\", \"\").replace(\",\", \".\").replace(\"+impostos\", \" \")\n",
    "            #remover o R$ ; remover o espaço; remover o ponto; trocar a virgula por ponto para reconhecer no float\n",
    "            preco = float(preco)\n",
    "            \n",
    "            \n",
    "            \n",
    "            \n",
    "            #Verificar se o preço está entre o preço minimo e maximo\n",
    "            if preco_minimo <= preco <= preco_maximo:\n",
    "                #Caso retornar None é necessário utilizar uma referencia\n",
    "                elemento_referencia = resultado.find_element('class name', 'bONr3b') #Elemento filho da classe do Link \n",
    "                elemento_pai = elemento_referencia.find_element('xpath', ('..'))#Elemento pai do elemento filho (..) serve para voltar um nível\n",
    "                link = elemento_pai.get_attribute('href') #retornando None em vez do link\n",
    "                lista_ofertas.append((nome,preco,link))\n",
    "\n",
    "    return lista_ofertas\n",
    "\n",
    "def busca_buscape(navegador,produto, termos_banidos, preco_minimo, preco_maximo):\n",
    "    \n",
    "    #trata valores\n",
    "    produto = produto.lower() #garantir que os dados da tabela fiquem minusculos\n",
    "    termos_banidos = termos_banidos.lower()\n",
    "    lista_termos_banidos = termos_banidos.split(\" \")#transforma a string de termos banidos em lista\n",
    "    lista_termos_nome_produto = produto.split(\" \")#transforma a string de produtos em lista\n",
    "    lista_ofertas = [] # lista vazia para armazenar os resultados da busca\n",
    "    preco_minimo = float(preco_minimo)#converte dados do excel em float\n",
    "    preco_maximo = float(preco_maximo)\n",
    "    #entrar no buscape\n",
    "    navegador.get('https://www.buscape.com.br/')\n",
    "\n",
    "    \n",
    "    #buscar o elemento pelo xpath e envia o produto\n",
    "    navegador.find_element('xpath', '//*[@id=\"new-header\"]/div[1]/div/div/div[3]/div/div/div[2]/div/div[1]/input').send_keys(produto)\n",
    "    navegador.find_element('xpath', '//*[@id=\"new-header\"]/div[1]/div/div/div[3]/div/div/div[2]/div/div[1]/input').send_keys(Keys.ENTER)\n",
    "    \n",
    "    #pegar os resultados do card do produto\n",
    "    lista_resultados = navegador.find_elements('class name', 'ProductCard_ProductCard_Inner__gapsh')\n",
    "    \n",
    "    for resultado in lista_resultados:\n",
    "        nome = resultado.find_element('class name', 'ProductCard_ProductCard_Name__U_mUQ').text\n",
    "        nome = nome.lower()\n",
    "        preco = resultado.find_element('class name', 'Text_MobileHeadingS__HEz7L').text\n",
    "        link = resultado.get_attribute('href')\n",
    "        print(nome, preco, link)\n",
    "    \n",
    "    #analisar se o nome não tem nenhum termo banido\n",
    "        tem_termos_banidos = verificar_termos_banidos(lista_termos_banidos, nome)\n",
    "    \n",
    "    #analisar se tem todos os termos buscados no nome do produto\n",
    "        tem_termos_nome_produto = verificar_termos_nome_produto(lista_termos_nome_produto, nome)\n",
    "    \n",
    "    #analisar range de preço determidado\n",
    "        if not tem_termos_banidos and tem_termos_nome_produto:\n",
    "            preco = preco.replace(\"R$\", \"\").replace(\" \", \"\").replace(\".\", \"\").replace(\",\", \".\")\n",
    "            #remover o R$ ; remover o espaço; remover o ponto; trocar a virgula por ponto para reconhecer no float\n",
    "            preco = float(preco)\n",
    "            \n",
    "            #Verificar se o preço está entre o preço minimo e maximo\n",
    "            if preco_minimo <= preco <= preco_maximo:\n",
    "                lista_ofertas.append((nome,preco,link))\n",
    "    \n",
    "    \n",
    "    #retorna lista de ofertas buscape\n",
    "    \n",
    "    return lista_ofertas\n"
   ]
  },
  {
   "cell_type": "markdown",
   "id": "b77a95308ef8b76c",
   "metadata": {},
   "source": [
    "#Construindo tabela de ofertas"
   ]
  },
  {
   "cell_type": "code",
   "execution_count": 21,
   "id": "3841a1730b5ddb63",
   "metadata": {
    "ExecuteTime": {
     "end_time": "2023-12-15T19:31:25.110188800Z",
     "start_time": "2023-12-15T19:30:53.749145800Z"
    }
   },
   "outputs": [
    {
     "name": "stdout",
     "output_type": "stream",
     "text": [
      "v2 - Shopping\n",
      "smartphone apple iphone 12 64gb câmera dupla R$ 2.994,00 https://www.buscape.com.br/celular/smartphone-apple-iphone-12-64gb-ios?_lc=88&searchterm=iphone%2012%2064%20gb\n",
      "smartphone apple iphone 12 vermelho 64gb câmera dupla R$ 3.099,00 https://www.buscape.com.br/celular/smartphone-apple-iphone-12-vermelho-64gb-ios?_lc=88&searchterm=iphone%2012%2064%20gb\n",
      "smartphone apple iphone 12 usado 64gb câmera dupla R$ 2.469,00 https://www.buscape.com.br/celular/smartphone-apple-iphone-12-usado-64gb-camera-dupla?_lc=88&searchterm=iphone%2012%2064%20gb\n",
      "smartphone apple iphone 12 mini usado 64gb câmera dupla R$ 2.799,00 https://www.buscape.com.br/celular/smartphone-apple-iphone-12-mini-usado-64gb-camera-dupla?_lc=88&searchterm=iphone%2012%2064%20gb\n",
      "smartphone apple iphone 12 mini 64gb câmera dupla R$ 5.639,00 https://www.buscape.com.br/celular/smartphone-apple-iphone-12-mini-64gb-ios-camera-dupla?_lc=88&searchterm=iphone%2012%2064%20gb\n",
      "v2 - Shopping\n",
      "placa de video nvidia geforce rtx 2060 super 8 gb gddr6 256 bits galax ?26isl6hp68ld R$ 2.209,79 https://www.buscape.com.br/placa-de-video/placa-de-video-nvidia-geforce-rtx-2060-super-8-gb-gddr6-256-bits-galax-26isl6hp68ld?_lc=88&searchterm=rtx%202060\n",
      "placa de video nvidia geforce rtx 2060 6 gb gddr6 192 bits galax 26nrl7hpx7oc R$ 3.299,00 https://www.buscape.com.br/placa-de-video/placa-de-video-nvidia-geforce-rtx-2060-6-gb-gddr6-192-bits-galax-26nrl7hpx7oc?_lc=88&searchterm=rtx%202060\n",
      "placa de video nvidia geforce rtx 2060 6 gb gddr6 192 bits asus dual-rtx2060-o6g-evo R$ 4.811,53 https://www.buscape.com.br/placa-de-video/placa-de-video-nvidia-geforce-rtx-2060-6-gb-gddr6-192-bits-asus-dual-rtx2060-o6g-evo?_lc=88&searchterm=rtx%202060\n",
      "placa de video nvidia geforce rtx 2060 6 gb gddr6 192 bits gigabyte gv-n2060d6-6gd-rev R$ 2.870,00 https://www.buscape.com.br/placa-de-video/placa-de-video-nvidia-geforce-rtx-2060-6-gb-gddr6-192-bits-gigabyte-gv-n2060d6-6gd-rev?_lc=88&searchterm=rtx%202060\n",
      "rtx 2060 6gb placa gráfica de mineração para jogos gddr6 192bit 12nm, placa de vídeo de desktop gpu rtx2060 R$ 1.769,99 https://www.buscape.com.br/lead?oid=819163206&channel=86&index=5&searchterm=rtx%202060\n",
      "placa de video nvidia geforce rtx 2060 gddr6 6gb 192 dual fan - full size- graffiti series – pa2060rtx6gdf – pcyes R$ 2.811,67 https://www.buscape.com.br/lead?oid=833745835&channel=86&index=1&searchterm=rtx%202060\n",
      "placa de video gigabyte geforce rtx 2060 12gb gddr6 - gv-n2060d6-12gd, 3304807593 R$ 2.843,64 https://www.buscape.com.br/lead?oid=869745149&channel=86&index=2&searchterm=rtx%202060\n",
      "evga placa de vídeo nvidia geforce rtx 2060 6gb gddr6 R$ 3.167,90 https://www.buscape.com.br/lead?oid=1139015123&channel=86&index=3&searchterm=rtx%202060\n",
      "placa de vídeo gigabyte nvidia geforce rtx 2060 d6 6g, gddr6 - gv-n2060d6-6gd R$ 7.605,42 https://www.buscape.com.br/lead?oid=1200291936&channel=86&index=9&searchterm=rtx%202060\n",
      "evga placa gráfica geforce rtx 2060 sc gaming, 6gb gddr6, hdb fan 06g-p4-2062-kr R$ 3.575,09 https://www.buscape.com.br/lead?oid=841411028&channel=86&index=1&searchterm=rtx%202060\n",
      "placa de video nvidia rtx 2060 oc 6gb gddr6 192 bits dual-fan graffiti series - ppgf2060dr6192 pcyes R$ 4.150,03 https://www.buscape.com.br/lead?oid=859255973&channel=86&index=2&searchterm=rtx%202060\n",
      "placa de vídeo gigabyte - geforce rtx 2060, windforce oc, 12gb gddr6 R$ 3.903,35 https://www.buscape.com.br/lead?oid=744581714&channel=86&index=3&searchterm=rtx%202060\n",
      "geforce rtx 2060 d6 6gb ddr6 192bits - windforce 2x - gigabyte gv-n2060d6-6gd R$ 4.707,05 https://www.buscape.com.br/lead?oid=675170010&channel=86&index=13&searchterm=rtx%202060\n",
      "placa de video evga geforce rtx 2060 6gb ko ultra gaming pci 3.0 ddr6 192bit - 06g-p4-2068-kr R$ 5.999,00 https://www.buscape.com.br/lead?oid=602781612&channel=86&index=1&searchterm=rtx%202060\n",
      "placa de vídeo asus nvidia geforce rtx 2060 - 6gb gddr6 192 bits dual R$ 4.779,89 https://www.buscape.com.br/lead?oid=380418835&channel=86&index=2&searchterm=rtx%202060\n",
      "placa de vídeo gigabyte nvidia geforce rtx 2060 d6 6g, gddr6 R$ 4.826,85 https://www.buscape.com.br/lead?oid=747134524&channel=86&index=3&searchterm=rtx%202060\n",
      "asus placa de vídeo dual-rtx2060-o12g-evo 90yv0ch7m0na00i R$ 4.498,00 https://www.buscape.com.br/lead?oid=686748309&channel=86&index=4&searchterm=rtx%202060\n"
     ]
    },
    {
     "data": {
      "text/plain": "                                                Nome    Preço  \\\n0       smartphone apple iphone 12 64gb câmera dupla  2994.00   \n1  smartphone apple iphone 12 vermelho 64gb câmer...  3099.00   \n0  placa de video nvidia geforce rtx 2060 6 gb gd...  2870.00   \n1  placa de video nvidia geforce rtx 2060 gddr6 6...  2811.67   \n2  placa de video gigabyte geforce rtx 2060 12gb ...  2843.64   \n3  evga placa de vídeo nvidia geforce rtx 2060 6g...  3167.90   \n\n                                                Link  \n0  https://www.buscape.com.br/celular/smartphone-...  \n1  https://www.buscape.com.br/celular/smartphone-...  \n0  https://www.buscape.com.br/placa-de-video/plac...  \n1  https://www.buscape.com.br/lead?oid=833745835&...  \n2  https://www.buscape.com.br/lead?oid=869745149&...  \n3  https://www.buscape.com.br/lead?oid=1139015123...  ",
      "text/html": "<div>\n<style scoped>\n    .dataframe tbody tr th:only-of-type {\n        vertical-align: middle;\n    }\n\n    .dataframe tbody tr th {\n        vertical-align: top;\n    }\n\n    .dataframe thead th {\n        text-align: right;\n    }\n</style>\n<table border=\"1\" class=\"dataframe\">\n  <thead>\n    <tr style=\"text-align: right;\">\n      <th></th>\n      <th>Nome</th>\n      <th>Preço</th>\n      <th>Link</th>\n    </tr>\n  </thead>\n  <tbody>\n    <tr>\n      <th>0</th>\n      <td>smartphone apple iphone 12 64gb câmera dupla</td>\n      <td>2994.00</td>\n      <td>https://www.buscape.com.br/celular/smartphone-...</td>\n    </tr>\n    <tr>\n      <th>1</th>\n      <td>smartphone apple iphone 12 vermelho 64gb câmer...</td>\n      <td>3099.00</td>\n      <td>https://www.buscape.com.br/celular/smartphone-...</td>\n    </tr>\n    <tr>\n      <th>0</th>\n      <td>placa de video nvidia geforce rtx 2060 6 gb gd...</td>\n      <td>2870.00</td>\n      <td>https://www.buscape.com.br/placa-de-video/plac...</td>\n    </tr>\n    <tr>\n      <th>1</th>\n      <td>placa de video nvidia geforce rtx 2060 gddr6 6...</td>\n      <td>2811.67</td>\n      <td>https://www.buscape.com.br/lead?oid=833745835&amp;...</td>\n    </tr>\n    <tr>\n      <th>2</th>\n      <td>placa de video gigabyte geforce rtx 2060 12gb ...</td>\n      <td>2843.64</td>\n      <td>https://www.buscape.com.br/lead?oid=869745149&amp;...</td>\n    </tr>\n    <tr>\n      <th>3</th>\n      <td>evga placa de vídeo nvidia geforce rtx 2060 6g...</td>\n      <td>3167.90</td>\n      <td>https://www.buscape.com.br/lead?oid=1139015123...</td>\n    </tr>\n  </tbody>\n</table>\n</div>"
     },
     "metadata": {},
     "output_type": "display_data"
    }
   ],
   "source": [
    "tabela_ofertas = pd.DataFrame()#tabela para receber as ofertas\n",
    "\n",
    "#dados da tabela\n",
    "for linha in tabela_produtos.index:\n",
    "    \n",
    "    produto  = tabela_produtos.loc[linha, \"Nome\"]\n",
    "    termos_banidos = tabela_produtos.loc[linha, \"Termos Banidos\"]\n",
    "    preco_minimo = tabela_produtos.loc[linha, \"Preço mínimo\"]\n",
    "    preco_maximo = tabela_produtos.loc[linha, \"Preço máximo\"]\n",
    "    \n",
    "    lista_ofertas_google_shopping = busca_google_shopping(navegador,produto, termos_banidos, preco_minimo, preco_maximo)\n",
    "    #verifica se está vazio\n",
    "    if lista_ofertas_google_shopping:\n",
    "        #transformar em dataframe\n",
    "        tabela_google_shopping = pd.DataFrame(lista_ofertas_google_shopping, columns=['Nome', 'Preço', 'Link'])\n",
    "        tabela_ofertas = pd.concat([tabela_ofertas, tabela_google_shopping])\n",
    "    else:\n",
    "        tabela_google_shopping = None #para sempre definir a tabela para na mescla não misturar produtos\n",
    "    \n",
    "    time.sleep(5)\n",
    "    lista_ofertas_buscape = busca_buscape(navegador,produto, termos_banidos, preco_minimo, preco_maximo)\n",
    "    #verifica se está vazio\n",
    "    if lista_ofertas_buscape:\n",
    "        #transformar em dataframe\n",
    "        tabela_buscape = pd.DataFrame(lista_ofertas_buscape, columns=['Nome', 'Preço', 'Link'])\n",
    "        tabela_ofertas = pd.concat([tabela_ofertas, tabela_buscape])\n",
    "    else:\n",
    "        tabela_buscape = None\n",
    "    \n",
    " \n",
    "display(tabela_ofertas)\n"
   ]
  },
  {
   "cell_type": "markdown",
   "id": "fcd18a42a2160c88",
   "metadata": {},
   "source": [
    "#Exportando tabela de ofertas para excel"
   ]
  },
  {
   "cell_type": "code",
   "execution_count": 22,
   "id": "a8ffad3b914085bd",
   "metadata": {
    "ExecuteTime": {
     "end_time": "2023-12-15T19:31:25.120187300Z",
     "start_time": "2023-12-15T19:31:25.106090400Z"
    }
   },
   "outputs": [],
   "source": [
    "#exportar tabela de ofertas para excel\n",
    "tabela_ofertas.to_excel('Ofertas.xlsx', index=False)"
   ]
  },
  {
   "cell_type": "markdown",
   "id": "6935591106f0066e",
   "metadata": {},
   "source": [
    "#Enviando por email GMail"
   ]
  },
  {
   "cell_type": "code",
   "execution_count": 23,
   "id": "4ae66b2a4a85c03b",
   "metadata": {
    "ExecuteTime": {
     "end_time": "2023-12-15T19:31:30.196412200Z",
     "start_time": "2023-12-15T19:31:25.121192Z"
    }
   },
   "outputs": [
    {
     "name": "stdout",
     "output_type": "stream",
     "text": [
      "Email enviado\n"
     ]
    }
   ],
   "source": [
    "#enviar pelo gmail\n",
    "import smtplib\n",
    "import email.message\n",
    "\n",
    "if len(tabela_ofertas) > 0:\n",
    "    \n",
    "    corpo_email = f'''\n",
    "    <p>Segue abaixo as ofertas encontradas na faixa de preço desejada:</p>\n",
    "    {tabela_ofertas.to_html(index=False)}\n",
    "    <p>Att,Rapha TCC</p>\n",
    "    '''\n",
    "    msg = email.message.Message()\n",
    "    msg['Subject'] = 'Ofertas encontradas na faixa de preço desejada'\n",
    "    msg['From'] = 'raphaelvictor40@gmail.com'\n",
    "    msg['To'] = 'raphaelvictor40@gmail.com'\n",
    "    password = \"ubthvlcuzixmrvba\"\n",
    "    msg.add_header('Content-Type', 'text/html')\n",
    "    msg.set_payload(corpo_email )\n",
    "    \n",
    "    s = smtplib.SMTP('smtp.gmail.com: 587')\n",
    "    s.starttls()\n",
    "    s.login(msg['From'], password)\n",
    "    s.sendmail(msg['From'], [msg['To']], msg.as_string().encode('utf-8'))\n",
    "    print('Email enviado')\n",
    "    "
   ]
  }
 ],
 "metadata": {
  "kernelspec": {
   "display_name": "Python 3 (ipykernel)",
   "language": "python",
   "name": "python3"
  },
  "language_info": {
   "codemirror_mode": {
    "name": "ipython",
    "version": 3
   },
   "file_extension": ".py",
   "mimetype": "text/x-python",
   "name": "python",
   "nbconvert_exporter": "python",
   "pygments_lexer": "ipython3",
   "version": "3.10.4"
  }
 },
 "nbformat": 4,
 "nbformat_minor": 5
}
