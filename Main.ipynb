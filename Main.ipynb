{
 "cells": [
  {
   "cell_type": "code",
   "execution_count": 1,
   "id": "initial_id",
   "metadata": {
    "collapsed": true,
    "ExecuteTime": {
     "end_time": "2023-11-13T15:15:26.733470900Z",
     "start_time": "2023-11-13T15:15:26.730469Z"
    }
   },
   "outputs": [],
   "source": [
    "\n",
    "#procurar no buscape\n",
    "#verificar se estão no range\n",
    "#Salvar as ofertas boas num Dataframe\n",
    "#exportar para excel\n",
    "#enviar por email"
   ]
  },
  {
   "cell_type": "code",
   "execution_count": 1,
   "outputs": [],
   "source": [],
   "metadata": {
    "collapsed": false,
    "ExecuteTime": {
     "end_time": "2023-11-13T15:15:26.733470900Z",
     "start_time": "2023-11-13T15:15:26.731467800Z"
    }
   },
   "id": "438d01b1026bf6c3"
  },
  {
   "cell_type": "code",
   "execution_count": 5,
   "outputs": [
    {
     "data": {
      "text/plain": "             Nome Termos Banidos  Preço mínimo  Preço máximo\n0  iphone 12 64gb     mini watch          3000          3500\n1        rtx 2060          galax          1800          2500",
      "text/html": "<div>\n<style scoped>\n    .dataframe tbody tr th:only-of-type {\n        vertical-align: middle;\n    }\n\n    .dataframe tbody tr th {\n        vertical-align: top;\n    }\n\n    .dataframe thead th {\n        text-align: right;\n    }\n</style>\n<table border=\"1\" class=\"dataframe\">\n  <thead>\n    <tr style=\"text-align: right;\">\n      <th></th>\n      <th>Nome</th>\n      <th>Termos Banidos</th>\n      <th>Preço mínimo</th>\n      <th>Preço máximo</th>\n    </tr>\n  </thead>\n  <tbody>\n    <tr>\n      <th>0</th>\n      <td>iphone 12 64gb</td>\n      <td>mini watch</td>\n      <td>3000</td>\n      <td>3500</td>\n    </tr>\n    <tr>\n      <th>1</th>\n      <td>rtx 2060</td>\n      <td>galax</td>\n      <td>1800</td>\n      <td>2500</td>\n    </tr>\n  </tbody>\n</table>\n</div>"
     },
     "metadata": {},
     "output_type": "display_data"
    }
   ],
   "source": [
    "#Criar um navegador\n",
    "#Observação: utilizar Edge ou Chrome\n",
    "from selenium import webdriver\n",
    "from selenium.webdriver.common.keys import Keys\n",
    "from webdriver_manager.microsoft import EdgeChromiumDriverManager \n",
    "\n",
    "from selenium.webdriver.edge.service import Service\n",
    "servico = Service(EdgeChromiumDriverManager().install())\n",
    "navegador = webdriver.Edge(service=servico)\n",
    "\n",
    "#importar base de dados\n",
    "import pandas as pd\n",
    "tabela_produtos = pd.read_excel('buscas.xlsx')\n",
    "display(tabela_produtos)\n"
   ],
   "metadata": {
    "collapsed": false,
    "ExecuteTime": {
     "end_time": "2023-11-13T15:15:58.996921Z",
     "start_time": "2023-11-13T15:15:55.803113300Z"
    }
   },
   "id": "2bfad52f4890f58"
  },
  {
   "cell_type": "code",
   "execution_count": 14,
   "outputs": [
    {
     "name": "stdout",
     "output_type": "stream",
     "text": [
      "Shopping\n",
      "3099.0 vitrine: iphone 12 apple 64gb azul tela 6,1 câmera traseira dupla 12mp https://www.google.com/url?url=https://www.carrefour.com.br/iphone-12-apple-64gb-azul-vitrine-mp934935911/p&rct=j&q=&esrc=s&opi=95576897&sa=U&ved=0ahUKEwj5ofzXw8KCAxWiJ7kGHdmADz4QguUECOoL&usg=AOvVaw1hwAlBNtdYKBEBBTNm4UNE\n",
      "3390.64 iphone 12 apple 64gb tela de 6.1 polegadas câmera 12mp ios azul https://www.google.com/url?url=https://www.lebiscuit.com.br/iphone-12-apple-64gb-tela-de-6-1-polegadas-camera-12mp-ios-16597al08l832478/p%3Fidsku%3D2147376583&rct=j&q=&esrc=s&opi=95576897&sa=U&ved=0ahUKEwj5ofzXw8KCAxWiJ7kGHdmADz4QgOUECIUN&usg=AOvVaw0lEBYA0q9zAZtbuLlhtKPZ\n",
      "3215.0 iphone 12 64gb | celular iphone | usado https://www.google.com/url?url=https://www.enjoei.com.br/p/iphone-12-64gb-91001315%3Fg_campaign%3Dgoogle_shopping%26srsltid%3DAfmBOorvBX0kyv3qzZ1ohEpV29daV72Hg1RGwrDUOIGU7_VhDNk7sxq9-Sg&rct=j&q=&esrc=s&opi=95576897&sa=U&ved=0ahUKEwj5ofzXw8KCAxWiJ7kGHdmADz4QgOUECJkR&usg=AOvVaw36lxLJ4qwsnIeE7BkS_fEB\n",
      "3415.0 iphone 12 intacto 64gb | celular apple | usado https://www.google.com/url?url=https://www.enjoei.com.br/p/iphone-12-intacto-64gb-86967057%3Fg_campaign%3Dgoogle_shopping%26srsltid%3DAfmBOopX5kT6N6JeCd4HuC74fJbt4MZq2srRNo171u-AkNFeqOdkiuxHZI0&rct=j&q=&esrc=s&opi=95576897&sa=U&ved=0ahUKEwj5ofzXw8KCAxWiJ7kGHdmADz4QgOUECNkR&usg=AOvVaw3rc29xkDRyyL1Y8aQ0PGsv\n",
      "3399.0 iphone 12 64gb azul - excelente - seminovo https://www.google.com/url?url=https://www.casasbahia.com.br/iphone-12-64gb-azul-excelente-seminovo-1562812405/p/1562812405%3Futm_medium%3DCpc%26utm_source%3Dgoogle_freelisting%26IdSku%3D1562812405%26idLojista%3D224479%26tipoLojista%3D3P&rct=j&q=&esrc=s&opi=95576897&sa=U&ved=0ahUKEwj5ofzXw8KCAxWiJ7kGHdmADz4QgOUECJcS&usg=AOvVaw2-ANDDasqIi4NOh5tvBUpN\n",
      "3099.0 iphone 12 apple 64gb roxo - vitrine https://www.google.com/url?url=https://www.carrefour.com.br/iphone-12-apple-64gb-roxo-vitrine-mp934935934/p&rct=j&q=&esrc=s&opi=95576897&sa=U&ved=0ahUKEwj5ofzXw8KCAxWiJ7kGHdmADz4QgOUECNcS&usg=AOvVaw2aC_bLu3sJmgq-wz0ypeHG\n"
     ]
    }
   ],
   "source": [
    "#entrar no google\n",
    "navegador.get('https://www.google.com/')\n",
    "#pesquisar no google\n",
    "produto  = \"iphone 12 64 gb\"\n",
    "produto = produto.lower() #garantir que os dados da tabela fiquem minusculos\n",
    "termos_banidos = \"mini watch\"\n",
    "termos_banidos = termos_banidos.lower()\n",
    "lista_termos_banidos = termos_banidos.split(\" \")#transforma a string de termos banidos em lista\n",
    "lista_termos_nome_produto = produto.split(\" \")#transforma a string de produtos em lista\n",
    "preco_minimo = 3000\n",
    "preco_maximo = 3500\n",
    "\n",
    "\n",
    "navegador.find_element('xpath', '//*[@id=\"APjFqb\"]').send_keys(produto)\n",
    "navegador.find_element('xpath', '//*[@id=\"APjFqb\"]').send_keys(Keys.ENTER)\n",
    "#entrar no google shopping com condicional\n",
    "elementos = navegador.find_elements('class name', 'hdtb-mitem')\n",
    "for item in elementos:\n",
    "    if \"Shopping\" in item.text:\n",
    "        print(item.text)\n",
    "        item.click()\n",
    "        break\n",
    "\n",
    "#Pegar preços dos produtos google shopping \n",
    "lista_resultados = navegador.find_elements('class name', 'i0X6df')\n",
    "\n",
    "#a busca ocorre apenas dentro da classe i0X6df e naõ em no navegador inteiro\n",
    "#esse elemento é o card do produto\n",
    "\n",
    "for resultado in lista_resultados:\n",
    "    \n",
    "    nome = resultado.find_element('class name', 'tAxDx').text\n",
    "    nome = nome.lower()\n",
    "    #analisar se o nome não tem nenhum termo banido\n",
    "    tem_termos_banidos = False\n",
    "    for palavra in lista_termos_banidos:\n",
    "        if palavra in nome:\n",
    "            tem_termos_banidos = True\n",
    "            \n",
    "    #analisar se tem todos os termos buscados no nome do produto\n",
    "    tem_termos_nome_produto = True\n",
    "    for palavra in lista_termos_nome_produto:\n",
    "        if palavra not in nome:\n",
    "            tem_termos_nome_produto = False\n",
    "    \n",
    "    #Tratamento preco\n",
    "    if not tem_termos_banidos and tem_termos_nome_produto:\n",
    "        preco = resultado.find_element('class name', 'a8Pemb').text\n",
    "        preco = preco.replace(\"R$\", \"\").replace(\" \", \"\").replace(\".\", \"\").replace(\",\", \".\")\n",
    "        #remover o R$ ; remover o espaço; remover o ponto; trocar a virgula por ponto para reconhecer no float\n",
    "        preco = float(preco)\n",
    "        \n",
    "        \n",
    "        #transformar os dados do excel em float por garantia\n",
    "        preco_minimo = float(preco_minimo)\n",
    "        preco_maximo = float(preco_maximo)\n",
    "        \n",
    "        #Verificar se o preço está entre o preço minimo e maximo\n",
    "        if preco_minimo <= preco <= preco_maximo:\n",
    "            #Caso retornar None é necessário utilizar uma referencia\n",
    "            elemento_referencia = resultado.find_element('class name', 'bONr3b') #Elemento filho da classe do Link \n",
    "            elemento_pai = elemento_referencia.find_element('xpath', ('..'))#Elemento pai do elemento filho (..) serve para voltar um nível\n",
    "            link = elemento_pai.get_attribute('href') #retornando None em vez do link\n",
    "            print(preco, nome, link)\n",
    "        \n",
    "        \n",
    "        \n",
    "        \n",
    "        \n",
    "    \n",
    "\n",
    "\n",
    "\n",
    "#verificar se estão no range"
   ],
   "metadata": {
    "collapsed": false,
    "ExecuteTime": {
     "end_time": "2023-11-14T03:17:48.642838400Z",
     "start_time": "2023-11-14T03:17:40.625820400Z"
    }
   },
   "id": "3841a1730b5ddb63"
  },
  {
   "cell_type": "code",
   "execution_count": 3,
   "outputs": [],
   "source": [],
   "metadata": {
    "collapsed": false,
    "ExecuteTime": {
     "end_time": "2023-11-13T15:15:34.033503200Z",
     "start_time": "2023-11-13T15:15:34.026500Z"
    }
   },
   "id": "a69056214be8f217"
  },
  {
   "cell_type": "code",
   "execution_count": 3,
   "outputs": [],
   "source": [],
   "metadata": {
    "collapsed": false,
    "ExecuteTime": {
     "end_time": "2023-11-13T15:15:34.042504400Z",
     "start_time": "2023-11-13T15:15:34.030502900Z"
    }
   },
   "id": "a2f87b841d7ab939"
  },
  {
   "cell_type": "code",
   "execution_count": 3,
   "outputs": [],
   "source": [],
   "metadata": {
    "collapsed": false,
    "ExecuteTime": {
     "end_time": "2023-11-13T15:15:34.043501600Z",
     "start_time": "2023-11-13T15:15:34.035503500Z"
    }
   },
   "id": "a8ffad3b914085bd"
  },
  {
   "cell_type": "code",
   "execution_count": 3,
   "outputs": [],
   "source": [],
   "metadata": {
    "collapsed": false,
    "ExecuteTime": {
     "end_time": "2023-11-13T15:15:34.043501600Z",
     "start_time": "2023-11-13T15:15:34.039500200Z"
    }
   },
   "id": "450c365fb7246a30"
  }
 ],
 "metadata": {
  "kernelspec": {
   "display_name": "Python 3",
   "language": "python",
   "name": "python3"
  },
  "language_info": {
   "codemirror_mode": {
    "name": "ipython",
    "version": 2
   },
   "file_extension": ".py",
   "mimetype": "text/x-python",
   "name": "python",
   "nbconvert_exporter": "python",
   "pygments_lexer": "ipython2",
   "version": "2.7.6"
  }
 },
 "nbformat": 4,
 "nbformat_minor": 5
}
