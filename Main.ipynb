{
 "cells": [
  {
   "cell_type": "code",
   "execution_count": 121,
   "id": "initial_id",
   "metadata": {
    "collapsed": true,
    "ExecuteTime": {
     "end_time": "2023-11-19T03:36:25.899980400Z",
     "start_time": "2023-11-19T03:36:25.894243500Z"
    }
   },
   "outputs": [],
   "source": [
    "\n",
    "#procurar no buscape\n",
    "#verificar se estão no range\n",
    "#Salvar as ofertas boas num Dataframe\n",
    "#exportar para excel\n",
    "#enviar por email"
   ]
  },
  {
   "cell_type": "code",
   "execution_count": 134,
   "outputs": [
    {
     "data": {
      "text/plain": "              Nome Termos Banidos  Preço mínimo  Preço máximo\n0  iphone 12 64 gb     mini watch          3000          3500\n1         rtx 2060          galax          1800          2500",
      "text/html": "<div>\n<style scoped>\n    .dataframe tbody tr th:only-of-type {\n        vertical-align: middle;\n    }\n\n    .dataframe tbody tr th {\n        vertical-align: top;\n    }\n\n    .dataframe thead th {\n        text-align: right;\n    }\n</style>\n<table border=\"1\" class=\"dataframe\">\n  <thead>\n    <tr style=\"text-align: right;\">\n      <th></th>\n      <th>Nome</th>\n      <th>Termos Banidos</th>\n      <th>Preço mínimo</th>\n      <th>Preço máximo</th>\n    </tr>\n  </thead>\n  <tbody>\n    <tr>\n      <th>0</th>\n      <td>iphone 12 64 gb</td>\n      <td>mini watch</td>\n      <td>3000</td>\n      <td>3500</td>\n    </tr>\n    <tr>\n      <th>1</th>\n      <td>rtx 2060</td>\n      <td>galax</td>\n      <td>1800</td>\n      <td>2500</td>\n    </tr>\n  </tbody>\n</table>\n</div>"
     },
     "metadata": {},
     "output_type": "display_data"
    }
   ],
   "source": [
    "#Criar um navegador\n",
    "#Observação: utilizar Edge ou Chrome\n",
    "from selenium import webdriver\n",
    "from selenium.webdriver.common.keys import Keys\n",
    "from webdriver_manager.microsoft import EdgeChromiumDriverManager \n",
    "\n",
    "from selenium.webdriver.edge.service import Service\n",
    "servico = Service(EdgeChromiumDriverManager().install())\n",
    "navegador = webdriver.Edge(service=servico)\n",
    "\n",
    "#importar base de dados\n",
    "import pandas as pd\n",
    "tabela_produtos = pd.read_excel('buscas.xlsx')\n",
    "display(tabela_produtos)\n"
   ],
   "metadata": {
    "collapsed": false,
    "ExecuteTime": {
     "end_time": "2023-11-19T03:54:52.568606900Z",
     "start_time": "2023-11-19T03:54:47.784936700Z"
    }
   },
   "id": "2bfad52f4890f58"
  },
  {
   "cell_type": "markdown",
   "source": [
    "Definição de função do Google Shopping e Buscapé"
   ],
   "metadata": {
    "collapsed": false
   },
   "id": "6b63be8f15e00c9a"
  },
  {
   "cell_type": "code",
   "execution_count": 135,
   "outputs": [],
   "source": [
    "def busca_google_shopping(navegador,produto, termos_banidos, preco_minimo, preco_maximo):\n",
    "    #tratar valores\n",
    "    produto = produto.lower() #garantir que os dados da tabela fiquem minusculos\n",
    "    termos_banidos = termos_banidos.lower()\n",
    "    lista_termos_banidos = termos_banidos.split(\" \")#transforma a string de termos banidos em lista\n",
    "    lista_termos_nome_produto = produto.split(\" \")#transforma a string de produtos em lista\n",
    "    lista_ofertas = [] # lista vazia para armazenar os resultados da busca\n",
    "    #transformar os dados do excel em float\n",
    "    preco_minimo = float(preco_minimo)\n",
    "    preco_maximo = float(preco_maximo)\n",
    "    \n",
    "    #entrar no google\n",
    "    navegador.get('https://www.google.com/')\n",
    "    \n",
    "    #busca o elemento pelo xpath e envia o produto\n",
    "    navegador.find_element('xpath', '//*[@id=\"APjFqb\"]').send_keys(produto)\n",
    "    navegador.find_element('xpath', '//*[@id=\"APjFqb\"]').send_keys(Keys.ENTER)\n",
    "    #entrar no google shopping com condicional\n",
    "    elementos2 = navegador.find_elements('class name', 'hdtb-mitem') #versao mais antiga\n",
    "    elementos = navegador.find_elements('class name', 'GKS7s') #versao mais nova\n",
    "    for item in elementos:\n",
    "        if \"Shopping\" in item.text:\n",
    "            print(\"v1 - \"+item.text)\n",
    "            item.click()\n",
    "            break\n",
    "        \n",
    "    for item2 in elementos2:\n",
    "        if \"Shopping\" in item2.text:\n",
    "            print(\"v2 - \"+item2.text)\n",
    "            item2.click()\n",
    "            break \n",
    "            \n",
    "           \n",
    "    \n",
    "    #Pegar preços dos produtos google shopping \n",
    "    lista_resultados = navegador.find_elements('class name', 'i0X6df')\n",
    "    \n",
    "    #a busca ocorre apenas dentro da classe i0X6df e naõ em no navegador inteiro\n",
    "    #esse elemento é o card do produto\n",
    "    \n",
    "    for resultado in lista_resultados:\n",
    "        \n",
    "        nome = resultado.find_element('class name', 'tAxDx').text\n",
    "        nome = nome.lower()\n",
    "        #analisar se o nome não tem nenhum termo banido\n",
    "        tem_termos_banidos = False\n",
    "        for palavra in lista_termos_banidos:\n",
    "            if palavra in nome:\n",
    "                tem_termos_banidos = True\n",
    "                \n",
    "        #analisar se tem todos os termos buscados no nome do produto\n",
    "        tem_termos_nome_produto = True\n",
    "        for palavra in lista_termos_nome_produto:\n",
    "            if palavra not in nome:\n",
    "                tem_termos_nome_produto = False\n",
    "        \n",
    "        #Tratamento preco\n",
    "        if not tem_termos_banidos and tem_termos_nome_produto:\n",
    "            preco = resultado.find_element('class name', 'a8Pemb').text\n",
    "            preco = preco.replace(\"R$\", \"\").replace(\" \", \"\").replace(\".\", \"\").replace(\",\", \".\").replace(\"+impostos\", \" \")\n",
    "            #remover o R$ ; remover o espaço; remover o ponto; trocar a virgula por ponto para reconhecer no float\n",
    "            preco = float(preco)\n",
    "            \n",
    "            \n",
    "            \n",
    "            \n",
    "            #Verificar se o preço está entre o preço minimo e maximo\n",
    "            if preco_minimo <= preco <= preco_maximo:\n",
    "                #Caso retornar None é necessário utilizar uma referencia\n",
    "                elemento_referencia = resultado.find_element('class name', 'bONr3b') #Elemento filho da classe do Link \n",
    "                elemento_pai = elemento_referencia.find_element('xpath', ('..'))#Elemento pai do elemento filho (..) serve para voltar um nível\n",
    "                link = elemento_pai.get_attribute('href') #retornando None em vez do link\n",
    "                lista_ofertas.append((nome,preco,link))\n",
    "\n",
    "    return lista_ofertas\n",
    "\n",
    "def busca_buscape(navegador,produto, termos_banidos, preco_minimo, preco_maximo):\n",
    "    #trata valores\n",
    "    produto = produto.lower() #garantir que os dados da tabela fiquem minusculos\n",
    "    termos_banidos = termos_banidos.lower()\n",
    "    lista_termos_banidos = termos_banidos.split(\" \")#transforma a string de termos banidos em lista\n",
    "    lista_termos_nome_produto = produto.split(\" \")#transforma a string de produtos em lista\n",
    "    lista_ofertas = [] # lista vazia para armazenar os resultados da busca\n",
    "    preco_minimo = float(preco_minimo)#converte dados do excel em float\n",
    "    preco_maximo = float(preco_maximo)\n",
    "    #entrar no buscape\n",
    "    navegador.get(\"https://www.buscape.com.br/\")\n",
    "    \n",
    "    #buscar o elemento pelo xpath e envia o produto\n",
    "    navegador.find_element('xpath', '//*[@id=\"new-header\"]/div[1]/div/div/div[3]/div/div/div[2]/div/div[1]/input').send_keys(produto)\n",
    "    navegador.find_element('xpath', '//*[@id=\"new-header\"]/div[1]/div/div/div[3]/div/div/div[2]/div/div[1]/input').send_keys(Keys.ENTER)\n",
    "    \n",
    "    #pegar os resultados\n",
    "    \n",
    "    #analisar se o resultado tem termo banidos e todos termos do produto\n",
    "    \n",
    "    #analisar range de preço determidado\n",
    "    \n",
    "    #retorna lista de ofertas buscape"
   ],
   "metadata": {
    "collapsed": false,
    "ExecuteTime": {
     "end_time": "2023-11-19T03:54:53.897208600Z",
     "start_time": "2023-11-19T03:54:53.882208800Z"
    }
   },
   "id": "a69056214be8f217"
  },
  {
   "cell_type": "code",
   "execution_count": 136,
   "outputs": [],
   "source": [
    "#Dados do produto\n",
    "produto  = \"iphone 12 64 gb\"\n",
    "termos_banidos = \"mini watch\"\n",
    "preco_minimo = 3000\n",
    "preco_maximo = 3500\n",
    "\n",
    "busca_buscape(navegador,produto, termos_banidos, preco_minimo, preco_maximo)\n"
   ],
   "metadata": {
    "collapsed": false,
    "ExecuteTime": {
     "end_time": "2023-11-19T03:55:02.128855100Z",
     "start_time": "2023-11-19T03:54:55.783247800Z"
    }
   },
   "id": "3841a1730b5ddb63"
  },
  {
   "cell_type": "code",
   "execution_count": 128,
   "outputs": [
    {
     "name": "stdout",
     "output_type": "stream",
     "text": [
      "v2 - Shopping\n"
     ]
    }
   ],
   "source": [
    "lista_ofertas_google_shopping = busca_google_shopping(navegador,produto, termos_banidos, preco_minimo, preco_maximo)"
   ],
   "metadata": {
    "collapsed": false,
    "ExecuteTime": {
     "end_time": "2023-11-19T03:45:21.788010700Z",
     "start_time": "2023-11-19T03:45:14.859281600Z"
    }
   },
   "id": "a2f87b841d7ab939"
  },
  {
   "cell_type": "markdown",
   "source": [],
   "metadata": {
    "collapsed": false
   },
   "id": "2efc5887fb2a5045"
  },
  {
   "cell_type": "code",
   "execution_count": 129,
   "outputs": [
    {
     "name": "stdout",
     "output_type": "stream",
     "text": [
      "[('iphone 12 apple 64gb tela de 6.1 polegadas câmera 12mp ios azul', 3390.64, 'https://www.google.com/url?url=https://www.lebiscuit.com.br/iphone-12-apple-64gb-tela-de-6-1-polegadas-camera-12mp-ios-16597al08l832478/p%3Fidsku%3D2147376583&rct=j&q=&esrc=s&opi=95576897&sa=U&ved=0ahUKEwi_mo-Vk8-CAxX8LbkGHflfCxEQgOUECPAN&usg=AOvVaw3aXmVzkM-BEQx3lzco5ZxI'), ('iphone 12 64gb azul - excelente', 3299.0, 'https://www.google.com/url?url=https://www.trocafone.com.br/iphone-12-64gb-azul---excelente-70613/p%3Fidsku%3D39869&rct=j&q=&esrc=s&opi=95576897&sa=U&ved=0ahUKEwi_mo-Vk8-CAxX8LbkGHflfCxEQguUECMAP&usg=AOvVaw34E-2JoB1C5D5hWcN8oo8c'), ('iphone 12 64gb preto, super conservado! | celular iphone | usado', 3454.0, 'https://www.google.com/url?url=https://www.enjoei.com.br/p/iphone-12-64gb-preto-super-conservado-92855609%3Fg_campaign%3Dgoogle_shopping%26srsltid%3DAfmBOooPNaPanvoQr-F_HmPJJ-mEO6oCZBbvmuGFD16cHW115H6IvYzB6Cs&rct=j&q=&esrc=s&opi=95576897&sa=U&ved=0ahUKEwi_mo-Vk8-CAxX8LbkGHflfCxEQgOUECO8P&usg=AOvVaw2bsHQcAdfmDG9iQAZmPeW-'), ('iphone 12 intacto 64gb | celular apple | usado', 3415.0, 'https://www.google.com/url?url=https://www.enjoei.com.br/p/iphone-12-intacto-64gb-86967057%3Fg_campaign%3Dgoogle_shopping%26srsltid%3DAfmBOopHsIr2sOT8MNJBtWMJ5fQp8co74DRJH0LFvD3usuKbV_q0w4tH27U&rct=j&q=&esrc=s&opi=95576897&sa=U&ved=0ahUKEwi_mo-Vk8-CAxX8LbkGHflfCxEQgOUECN0Q&usg=AOvVaw29z5DBmHssft8Kz7VUDeWk'), ('usado: iphone 12 64gb branco excelente - trocafone', 3209.0, 'https://www.google.com/url?url=https://www.extra.com.br/usado-iphone-12-64gb-branco-excelente-trocafone-1561610772/p/1561610772%3Futm_medium%3Dcpc%26utm_source%3Dgoogle_freelisting%26IdSku%3D1561610772%26idLojista%3D33013%26tipoLojista%3D3P&rct=j&q=&esrc=s&opi=95576897&sa=U&ved=0ahUKEwi_mo-Vk8-CAxX8LbkGHflfCxEQgOUECOsR&usg=AOvVaw2f17pbPQQqi6r3Uh-pKEbi'), ('vitrine iphone 12 preto 64gb', 3099.9, 'https://www.google.com/url?url=https://www.carrefour.com.br/vitrine-iphone-12-preto-64gb-mp929837648/p&rct=j&q=&esrc=s&opi=95576897&sa=U&ved=0ahUKEwi_mo-Vk8-CAxX8LbkGHflfCxEQgOUECPsR&usg=AOvVaw2WfuAShARHW4v74SesU-04')]\n"
     ]
    }
   ],
   "source": [
    "print(lista_ofertas_google_shopping)"
   ],
   "metadata": {
    "collapsed": false,
    "ExecuteTime": {
     "end_time": "2023-11-19T03:45:24.551566200Z",
     "start_time": "2023-11-19T03:45:24.540583300Z"
    }
   },
   "id": "a8ffad3b914085bd"
  },
  {
   "cell_type": "code",
   "execution_count": 132,
   "outputs": [],
   "source": [],
   "metadata": {
    "collapsed": false,
    "ExecuteTime": {
     "end_time": "2023-11-19T03:51:48.247524400Z",
     "start_time": "2023-11-19T03:51:48.238528800Z"
    }
   },
   "id": "450c365fb7246a30"
  },
  {
   "cell_type": "code",
   "execution_count": null,
   "outputs": [],
   "source": [],
   "metadata": {
    "collapsed": false
   },
   "id": "d2f04929c325e9fe"
  }
 ],
 "metadata": {
  "kernelspec": {
   "display_name": "Python 3",
   "language": "python",
   "name": "python3"
  },
  "language_info": {
   "codemirror_mode": {
    "name": "ipython",
    "version": 2
   },
   "file_extension": ".py",
   "mimetype": "text/x-python",
   "name": "python",
   "nbconvert_exporter": "python",
   "pygments_lexer": "ipython2",
   "version": "2.7.6"
  }
 },
 "nbformat": 4,
 "nbformat_minor": 5
}
