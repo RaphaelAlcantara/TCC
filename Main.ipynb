{
 "cells": [
  {
   "cell_type": "code",
   "execution_count": 42,
   "id": "initial_id",
   "metadata": {
    "collapsed": true,
    "ExecuteTime": {
     "end_time": "2023-11-17T02:38:08.750758700Z",
     "start_time": "2023-11-17T02:38:08.731763600Z"
    }
   },
   "outputs": [],
   "source": [
    "\n",
    "#procurar no buscape\n",
    "#verificar se estão no range\n",
    "#Salvar as ofertas boas num Dataframe\n",
    "#exportar para excel\n",
    "#enviar por email"
   ]
  },
  {
   "cell_type": "code",
   "execution_count": 43,
   "outputs": [
    {
     "data": {
      "text/plain": "              Nome Termos Banidos  Preço mínimo  Preço máximo\n0  iphone 12 64 gb     mini watch          3000          3500\n1         rtx 2060          galax          1800          2500",
      "text/html": "<div>\n<style scoped>\n    .dataframe tbody tr th:only-of-type {\n        vertical-align: middle;\n    }\n\n    .dataframe tbody tr th {\n        vertical-align: top;\n    }\n\n    .dataframe thead th {\n        text-align: right;\n    }\n</style>\n<table border=\"1\" class=\"dataframe\">\n  <thead>\n    <tr style=\"text-align: right;\">\n      <th></th>\n      <th>Nome</th>\n      <th>Termos Banidos</th>\n      <th>Preço mínimo</th>\n      <th>Preço máximo</th>\n    </tr>\n  </thead>\n  <tbody>\n    <tr>\n      <th>0</th>\n      <td>iphone 12 64 gb</td>\n      <td>mini watch</td>\n      <td>3000</td>\n      <td>3500</td>\n    </tr>\n    <tr>\n      <th>1</th>\n      <td>rtx 2060</td>\n      <td>galax</td>\n      <td>1800</td>\n      <td>2500</td>\n    </tr>\n  </tbody>\n</table>\n</div>"
     },
     "metadata": {},
     "output_type": "display_data"
    }
   ],
   "source": [
    "#Criar um navegador\n",
    "#Observação: utilizar Edge ou Chrome\n",
    "from selenium import webdriver\n",
    "from selenium.webdriver.common.keys import Keys\n",
    "from webdriver_manager.microsoft import EdgeChromiumDriverManager \n",
    "\n",
    "from selenium.webdriver.edge.service import Service\n",
    "servico = Service(EdgeChromiumDriverManager().install())\n",
    "navegador = webdriver.Edge(service=servico)\n",
    "\n",
    "#importar base de dados\n",
    "import pandas as pd\n",
    "tabela_produtos = pd.read_excel('buscas.xlsx')\n",
    "display(tabela_produtos)\n"
   ],
   "metadata": {
    "collapsed": false,
    "ExecuteTime": {
     "end_time": "2023-11-17T02:38:14.069263600Z",
     "start_time": "2023-11-17T02:38:08.738761800Z"
    }
   },
   "id": "2bfad52f4890f58"
  },
  {
   "cell_type": "markdown",
   "source": [
    "Definição de função do Google Shopping e Buscapé"
   ],
   "metadata": {
    "collapsed": false
   },
   "id": "6b63be8f15e00c9a"
  },
  {
   "cell_type": "code",
   "execution_count": 44,
   "outputs": [],
   "source": [
    "def busca_google_shopping(navegador,produto, termos_banidos, preco_minimo, preco_maximo):\n",
    "    \n",
    "    produto = produto.lower() #garantir que os dados da tabela fiquem minusculos\n",
    "    termos_banidos = termos_banidos.lower()\n",
    "    lista_termos_banidos = termos_banidos.split(\" \")#transforma a string de termos banidos em lista\n",
    "    lista_termos_nome_produto = produto.split(\" \")#transforma a string de produtos em lista\n",
    "\n",
    "    lista_ofertas = [] # lista vazia para armazenar os resultados da busca\n",
    "    \n",
    "    #entrar no google\n",
    "    navegador.get('https://www.google.com/')\n",
    "    \n",
    "    #busca o elemento pelo xpath e envia o produto\n",
    "    navegador.find_element('xpath', '//*[@id=\"APjFqb\"]').send_keys(produto)\n",
    "    navegador.find_element('xpath', '//*[@id=\"APjFqb\"]').send_keys(Keys.ENTER)\n",
    "    #entrar no google shopping com condicional\n",
    "    elementos = navegador.find_elements('class name', 'hdtb-mitem')\n",
    "    for item in elementos:\n",
    "        if \"Shopping\" in item.text:\n",
    "            #print(item.text)\n",
    "            item.click()\n",
    "            break\n",
    "    \n",
    "    #Pegar preços dos produtos google shopping \n",
    "    lista_resultados = navegador.find_elements('class name', 'i0X6df')\n",
    "    \n",
    "    #a busca ocorre apenas dentro da classe i0X6df e naõ em no navegador inteiro\n",
    "    #esse elemento é o card do produto\n",
    "    \n",
    "    for resultado in lista_resultados:\n",
    "        \n",
    "        nome = resultado.find_element('class name', 'tAxDx').text\n",
    "        nome = nome.lower()\n",
    "        #analisar se o nome não tem nenhum termo banido\n",
    "        tem_termos_banidos = False\n",
    "        for palavra in lista_termos_banidos:\n",
    "            if palavra in nome:\n",
    "                tem_termos_banidos = True\n",
    "                \n",
    "        #analisar se tem todos os termos buscados no nome do produto\n",
    "        tem_termos_nome_produto = True\n",
    "        for palavra in lista_termos_nome_produto:\n",
    "            if palavra not in nome:\n",
    "                tem_termos_nome_produto = False\n",
    "        \n",
    "        #Tratamento preco\n",
    "        if not tem_termos_banidos and tem_termos_nome_produto:\n",
    "            preco = resultado.find_element('class name', 'a8Pemb').text\n",
    "            preco = preco.replace(\"R$\", \"\").replace(\" \", \"\").replace(\".\", \"\").replace(\",\", \".\").replace(\"+impostos\", \" \")\n",
    "            #remover o R$ ; remover o espaço; remover o ponto; trocar a virgula por ponto para reconhecer no float\n",
    "            preco = float(preco)\n",
    "            \n",
    "            \n",
    "            #transformar os dados do excel em float por garantia\n",
    "            preco_minimo = float(preco_minimo)\n",
    "            preco_maximo = float(preco_maximo)\n",
    "            \n",
    "            #Verificar se o preço está entre o preço minimo e maximo\n",
    "            if preco_minimo <= preco <= preco_maximo:\n",
    "                #Caso retornar None é necessário utilizar uma referencia\n",
    "                elemento_referencia = resultado.find_element('class name', 'bONr3b') #Elemento filho da classe do Link \n",
    "                elemento_pai = elemento_referencia.find_element('xpath', ('..'))#Elemento pai do elemento filho (..) serve para voltar um nível\n",
    "                link = elemento_pai.get_attribute('href') #retornando None em vez do link\n",
    "                lista_ofertas.append((nome,preco,link))\n",
    "\n",
    "    return lista_ofertas"
   ],
   "metadata": {
    "collapsed": false,
    "ExecuteTime": {
     "end_time": "2023-11-17T02:38:14.077266100Z",
     "start_time": "2023-11-17T02:38:14.066265100Z"
    }
   },
   "id": "a69056214be8f217"
  },
  {
   "cell_type": "code",
   "execution_count": 45,
   "outputs": [],
   "source": [
    "#Dados do produto\n",
    "produto  = \"iphone 12 64 gb\"\n",
    "termos_banidos = \"mini watch\"\n",
    "preco_minimo = 3000\n",
    "preco_maximo = 3500\n"
   ],
   "metadata": {
    "collapsed": false,
    "ExecuteTime": {
     "end_time": "2023-11-17T02:38:14.085266600Z",
     "start_time": "2023-11-17T02:38:14.079262300Z"
    }
   },
   "id": "3841a1730b5ddb63"
  },
  {
   "cell_type": "code",
   "execution_count": 46,
   "outputs": [],
   "source": [
    "lista_ofertas_google_shopping = busca_google_shopping(navegador,produto, termos_banidos, preco_minimo, preco_maximo)"
   ],
   "metadata": {
    "collapsed": false,
    "ExecuteTime": {
     "end_time": "2023-11-17T02:38:21.652808300Z",
     "start_time": "2023-11-17T02:38:14.086263300Z"
    }
   },
   "id": "a2f87b841d7ab939"
  },
  {
   "cell_type": "code",
   "execution_count": 47,
   "outputs": [
    {
     "name": "stdout",
     "output_type": "stream",
     "text": [
      "[('iphone 12 apple 64gb tela de 6.1 polegadas câmera 12mp ios azul', 3482.28, 'https://www.google.com/url?url=https://www.lebiscuit.com.br/iphone-12-apple-64gb-tela-de-6-1-polegadas-camera-12mp-ios-16597al08l832478/p%3Fidsku%3D2147376583&rct=j&q=&esrc=s&opi=95576897&sa=U&ved=0ahUKEwjv0bu7gMqCAxVZDbkGHWWOA9MQgOUECIIO&usg=AOvVaw1NPINR6SQ-mr2uQ-q2iA-k'), ('usado: iphone 12 64gb preto - excelente', 3089.0, 'https://www.google.com/url?url=https://www.cea.com.br/usado--iphone-12-64gb-preto---excelente-4256307/p%3FskuId%3D5684085%26srsltid%3DAfmBOorcxLRzqjxFgtELGz5UqZF7MnQSDYbzN2uOOVIhApq7zeZBqvwgmX8&rct=j&q=&esrc=s&opi=95576897&sa=U&ved=0ahUKEwjv0bu7gMqCAxVZDbkGHWWOA9MQgOUECOYQ&usg=AOvVaw3yKvQ3NxqiMPponCIfCzf1'), ('iphone 12 64gb preto, super conservado! | celular iphone | usado', 3454.0, 'https://www.google.com/url?url=https://www.enjoei.com.br/p/iphone-12-64gb-preto-super-conservado-92855609%3Fg_campaign%3Dgoogle_shopping%26srsltid%3DAfmBOoqv4hg5eNqHB68lMzAT5sx7hX6QdjqGaiD2SnnE4e0aoZQ7EGkQ6Xc&rct=j&q=&esrc=s&opi=95576897&sa=U&ved=0ahUKEwjv0bu7gMqCAxVZDbkGHWWOA9MQgOUECLcR&usg=AOvVaw1dd_WW7h40INxuaeV0zZBZ')]\n"
     ]
    }
   ],
   "source": [
    "print(lista_ofertas_google_shopping)"
   ],
   "metadata": {
    "collapsed": false,
    "ExecuteTime": {
     "end_time": "2023-11-17T02:38:21.659807600Z",
     "start_time": "2023-11-17T02:38:21.652808300Z"
    }
   },
   "id": "a8ffad3b914085bd"
  },
  {
   "cell_type": "code",
   "execution_count": 47,
   "outputs": [],
   "source": [],
   "metadata": {
    "collapsed": false,
    "ExecuteTime": {
     "end_time": "2023-11-17T02:38:21.659807600Z",
     "start_time": "2023-11-17T02:38:21.657807300Z"
    }
   },
   "id": "450c365fb7246a30"
  }
 ],
 "metadata": {
  "kernelspec": {
   "display_name": "Python 3",
   "language": "python",
   "name": "python3"
  },
  "language_info": {
   "codemirror_mode": {
    "name": "ipython",
    "version": 2
   },
   "file_extension": ".py",
   "mimetype": "text/x-python",
   "name": "python",
   "nbconvert_exporter": "python",
   "pygments_lexer": "ipython2",
   "version": "2.7.6"
  }
 },
 "nbformat": 4,
 "nbformat_minor": 5
}
