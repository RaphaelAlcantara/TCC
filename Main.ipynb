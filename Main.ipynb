{
 "cells": [
  {
   "cell_type": "code",
   "execution_count": 158,
   "id": "initial_id",
   "metadata": {
    "collapsed": true,
    "ExecuteTime": {
     "end_time": "2023-11-19T04:55:09.752373900Z",
     "start_time": "2023-11-19T04:55:09.740363400Z"
    }
   },
   "outputs": [],
   "source": [
    "\n",
    "#procurar no buscape\n",
    "#verificar se estão no range\n",
    "#Salvar as ofertas boas num Dataframe\n",
    "#exportar para excel\n",
    "#enviar por email"
   ]
  },
  {
   "cell_type": "code",
   "execution_count": 159,
   "outputs": [
    {
     "data": {
      "text/plain": "              Nome Termos Banidos  Preço mínimo  Preço máximo\n0  iphone 12 64 gb     mini watch          3000          3500\n1         rtx 2060          galax          1800          2500",
      "text/html": "<div>\n<style scoped>\n    .dataframe tbody tr th:only-of-type {\n        vertical-align: middle;\n    }\n\n    .dataframe tbody tr th {\n        vertical-align: top;\n    }\n\n    .dataframe thead th {\n        text-align: right;\n    }\n</style>\n<table border=\"1\" class=\"dataframe\">\n  <thead>\n    <tr style=\"text-align: right;\">\n      <th></th>\n      <th>Nome</th>\n      <th>Termos Banidos</th>\n      <th>Preço mínimo</th>\n      <th>Preço máximo</th>\n    </tr>\n  </thead>\n  <tbody>\n    <tr>\n      <th>0</th>\n      <td>iphone 12 64 gb</td>\n      <td>mini watch</td>\n      <td>3000</td>\n      <td>3500</td>\n    </tr>\n    <tr>\n      <th>1</th>\n      <td>rtx 2060</td>\n      <td>galax</td>\n      <td>1800</td>\n      <td>2500</td>\n    </tr>\n  </tbody>\n</table>\n</div>"
     },
     "metadata": {},
     "output_type": "display_data"
    }
   ],
   "source": [
    "#Criar um navegador\n",
    "#Observação: utilizar Edge ou Chrome\n",
    "from selenium import webdriver\n",
    "from selenium.webdriver.common.keys import Keys\n",
    "from webdriver_manager.microsoft import EdgeChromiumDriverManager \n",
    "\n",
    "from selenium.webdriver.edge.service import Service\n",
    "servico = Service(EdgeChromiumDriverManager().install())\n",
    "navegador = webdriver.Edge(service=servico)\n",
    "\n",
    "#importar base de dados\n",
    "import pandas as pd\n",
    "tabela_produtos = pd.read_excel('buscas.xlsx')\n",
    "display(tabela_produtos)\n"
   ],
   "metadata": {
    "collapsed": false,
    "ExecuteTime": {
     "end_time": "2023-11-19T04:55:14.597620400Z",
     "start_time": "2023-11-19T04:55:09.744375500Z"
    }
   },
   "id": "2bfad52f4890f58"
  },
  {
   "cell_type": "markdown",
   "source": [
    "Definição de função do Google Shopping e Buscapé"
   ],
   "metadata": {
    "collapsed": false
   },
   "id": "6b63be8f15e00c9a"
  },
  {
   "cell_type": "code",
   "execution_count": 160,
   "outputs": [],
   "source": [
    "def verificar_termos_banidos(lista_termos_banidos, nome):\n",
    "    tem_termos_banidos = False\n",
    "    for palavra in lista_termos_banidos:\n",
    "        if palavra in nome:\n",
    "            tem_termos_banidos = True\n",
    "    return tem_termos_banidos       \n",
    "\n",
    "def verificar_termos_nome_produto(lista_termos_nome_produto, nome):\n",
    "    tem_termos_nome_produto = True\n",
    "    for palavra in lista_termos_nome_produto:\n",
    "        if palavra not in nome:\n",
    "            tem_termos_nome_produto = False\n",
    "    return tem_termos_nome_produto\n",
    "\n",
    "def busca_google_shopping(navegador,produto, termos_banidos, preco_minimo, preco_maximo):\n",
    "    #tratar valores\n",
    "    produto = produto.lower() #garantir que os dados da tabela fiquem minusculos\n",
    "    termos_banidos = termos_banidos.lower()\n",
    "    lista_termos_banidos = termos_banidos.split(\" \")#transforma a string de termos banidos em lista\n",
    "    lista_termos_nome_produto = produto.split(\" \")#transforma a string de produtos em lista\n",
    "    lista_ofertas = [] # lista vazia para armazenar os resultados da busca\n",
    "    #transformar os dados do excel em float\n",
    "    preco_minimo = float(preco_minimo)\n",
    "    preco_maximo = float(preco_maximo)\n",
    "    \n",
    "    #entrar no google\n",
    "    navegador.get('https://www.google.com/')\n",
    "    \n",
    "    #busca o elemento pelo xpath e envia o produto\n",
    "    navegador.find_element('xpath', '//*[@id=\"APjFqb\"]').send_keys(produto)\n",
    "    navegador.find_element('xpath', '//*[@id=\"APjFqb\"]').send_keys(Keys.ENTER)\n",
    "    #entrar no google shopping com condicional\n",
    "    elementos2 = navegador.find_elements('class name', 'hdtb-mitem') #versao mais antiga\n",
    "    elementos = navegador.find_elements('class name', 'GKS7s') #versao mais nova\n",
    "    for item in elementos:\n",
    "        if \"Shopping\" in item.text:\n",
    "            print(\"v1 - \"+item.text)\n",
    "            item.click()\n",
    "            break\n",
    "        \n",
    "    for item2 in elementos2:\n",
    "        if \"Shopping\" in item2.text:\n",
    "            print(\"v2 - \"+item2.text)\n",
    "            item2.click()\n",
    "            break \n",
    "            \n",
    "           \n",
    "    \n",
    "    #Pegar card dos produtos google shopping \n",
    "    lista_resultados = navegador.find_elements('class name', 'i0X6df')\n",
    "    \n",
    "    #a busca ocorre apenas dentro da classe i0X6df e naõ em no navegador inteiro\n",
    "    \n",
    "    for resultado in lista_resultados:\n",
    "        \n",
    "        nome = resultado.find_element('class name', 'tAxDx').text\n",
    "        nome = nome.lower()\n",
    "        #analisar se o nome não tem nenhum termo banido\n",
    "        tem_termos_banidos = verificar_termos_banidos(lista_termos_banidos, nome)\n",
    "                \n",
    "        #analisar se tem todos os termos buscados no nome do produto\n",
    "        tem_termos_nome_produto = verificar_termos_nome_produto(lista_termos_nome_produto, nome)\n",
    "        \n",
    "        #Tratamento preco\n",
    "        if not tem_termos_banidos and tem_termos_nome_produto:\n",
    "            preco = resultado.find_element('class name', 'a8Pemb').text\n",
    "            preco = preco.replace(\"R$\", \"\").replace(\" \", \"\").replace(\".\", \"\").replace(\",\", \".\").replace(\"+impostos\", \" \")\n",
    "            #remover o R$ ; remover o espaço; remover o ponto; trocar a virgula por ponto para reconhecer no float\n",
    "            preco = float(preco)\n",
    "            \n",
    "            \n",
    "            \n",
    "            \n",
    "            #Verificar se o preço está entre o preço minimo e maximo\n",
    "            if preco_minimo <= preco <= preco_maximo:\n",
    "                #Caso retornar None é necessário utilizar uma referencia\n",
    "                elemento_referencia = resultado.find_element('class name', 'bONr3b') #Elemento filho da classe do Link \n",
    "                elemento_pai = elemento_referencia.find_element('xpath', ('..'))#Elemento pai do elemento filho (..) serve para voltar um nível\n",
    "                link = elemento_pai.get_attribute('href') #retornando None em vez do link\n",
    "                lista_ofertas.append((nome,preco,link))\n",
    "\n",
    "    return lista_ofertas\n",
    "\n",
    "def busca_buscape(navegador,produto, termos_banidos, preco_minimo, preco_maximo):\n",
    "    #trata valores\n",
    "    produto = produto.lower() #garantir que os dados da tabela fiquem minusculos\n",
    "    termos_banidos = termos_banidos.lower()\n",
    "    lista_termos_banidos = termos_banidos.split(\" \")#transforma a string de termos banidos em lista\n",
    "    lista_termos_nome_produto = produto.split(\" \")#transforma a string de produtos em lista\n",
    "    lista_ofertas = [] # lista vazia para armazenar os resultados da busca\n",
    "    preco_minimo = float(preco_minimo)#converte dados do excel em float\n",
    "    preco_maximo = float(preco_maximo)\n",
    "    #entrar no buscape\n",
    "    navegador.get(\"https://www.buscape.com.br/\")\n",
    "    \n",
    "    #buscar o elemento pelo xpath e envia o produto\n",
    "    navegador.find_element('xpath', '//*[@id=\"new-header\"]/div[1]/div/div/div[3]/div/div/div[2]/div/div[1]/input').send_keys(produto)\n",
    "    navegador.find_element('xpath', '//*[@id=\"new-header\"]/div[1]/div/div/div[3]/div/div/div[2]/div/div[1]/input').send_keys(Keys.ENTER)\n",
    "    \n",
    "    #pegar os resultados do card do produto\n",
    "    lista_resultados = navegador.find_elements('class name', 'ProductCard_ProductCard_Inner__tsD4M')\n",
    "    \n",
    "    for resultado in lista_resultados:\n",
    "        nome = resultado.find_element('class name', 'ProductCard_ProductCard_Name__LT7hv').text\n",
    "        nome = nome.lower()\n",
    "        preco = resultado.find_element('class name', 'Text_MobileHeadingS__Zxam2').text\n",
    "        link = resultado.get_attribute('href')\n",
    "        # print(nome, preco, link)\n",
    "    \n",
    "    #analisar se o nome não tem nenhum termo banido\n",
    "        tem_termos_banidos = verificar_termos_banidos(lista_termos_banidos, nome)\n",
    "    \n",
    "    #analisar se tem todos os termos buscados no nome do produto\n",
    "        tem_termos_nome_produto = verificar_termos_nome_produto(lista_termos_nome_produto, nome)\n",
    "    \n",
    "    #analisar range de preço determidado\n",
    "        if not tem_termos_banidos and tem_termos_nome_produto:\n",
    "            preco = preco.replace(\"R$\", \"\").replace(\" \", \"\").replace(\".\", \"\").replace(\",\", \".\")\n",
    "            #remover o R$ ; remover o espaço; remover o ponto; trocar a virgula por ponto para reconhecer no float\n",
    "            preco = float(preco)\n",
    "            \n",
    "            #Verificar se o preço está entre o preço minimo e maximo\n",
    "            if preco_minimo <= preco <= preco_maximo:\n",
    "                lista_ofertas.append((nome,preco,link))\n",
    "    \n",
    "    \n",
    "    #retorna lista de ofertas buscape\n",
    "    return lista_ofertas"
   ],
   "metadata": {
    "collapsed": false,
    "ExecuteTime": {
     "end_time": "2023-11-19T04:55:14.606622300Z",
     "start_time": "2023-11-19T04:55:14.601621800Z"
    }
   },
   "id": "a69056214be8f217"
  },
  {
   "cell_type": "code",
   "execution_count": 161,
   "outputs": [
    {
     "name": "stdout",
     "output_type": "stream",
     "text": [
      "v2 - Shopping\n",
      "[('usado: iphone 12 64gb preto muito bom - trocafone - apple', 2609.1, 'https://www.google.com/url?url=https://www.magazineluiza.com.br/usado-iphone-12-64gb-preto-muito-bom-trocafone-apple/p/ccg0461d77/te/ip12/%3Fseller_id%3Dtrocafone%26srsltid%3DAfmBOoqlHFkSagH2a-F7-jyUB6zWe3GcVdsUW71ue5HuuN6fj_7sagv3W6w&rct=j&q=&esrc=s&opi=95576897&sa=U&ved=0ahUKEwiNhO_nos-CAxX-JrkGHavbBDsQgOUECPQL&usg=AOvVaw2GC3yQ5NmAQR3sENE5rams'), ('usado: iphone 12 64gb preto muito bom - trocafone', 2899.0, 'https://www.google.com/url?url=https://www.casasbahia.com.br/usado-iphone-12-64gb-preto-muito-bom-trocafone-1562258625/p/1562258625%3Futm_medium%3DCpc%26utm_source%3Dgoogle_freelisting%26IdSku%3D1562258625%26idLojista%3D33013%26tipoLojista%3D3P&rct=j&q=&esrc=s&opi=95576897&sa=U&ved=0ahUKEwiNhO_nos-CAxX-JrkGHavbBDsQgOUECKgM&usg=AOvVaw21XKJtAPCflNY1iWz052Lk'), ('iphone 12 apple 64gb roxo - vitrine', 2969.0, 'https://www.google.com/url?url=https://www.carrefour.com.br/iphone-12-apple-64gb-roxo-vitrine-mp932337971/p&rct=j&q=&esrc=s&opi=95576897&sa=U&ved=0ahUKEwiNhO_nos-CAxX-JrkGHavbBDsQgOUECMsM&usg=AOvVaw3x22rxb8KSmUoeNjHmZ5Ot'), ('vitrine iphone 12 branco 64gb', 2789.99, 'https://www.google.com/url?url=https://www.carrefour.com.br/vitrine-iphone-12-branco-64gb-mp931605276/p&rct=j&q=&esrc=s&opi=95576897&sa=U&ved=0ahUKEwiNhO_nos-CAxX-JrkGHavbBDsQgOUECN0M&usg=AOvVaw1QOZJEJpadT3z16d_E0g_b'), ('vitrine: iphone 12 apple 64gb azul tela 6,1 câmera traseira dupla 12mp', 2979.0, 'https://www.google.com/url?url=https://www.carrefour.com.br/iphone-12-apple-64gb-azul-vitrine-mp934935911/p&rct=j&q=&esrc=s&opi=95576897&sa=U&ved=0ahUKEwiNhO_nos-CAxX-JrkGHavbBDsQguUECO4M&usg=AOvVaw0XY8hplzqb0GyK7iE-kEIy'), ('vitrine iphone 12 64gb roxo tela 6,1 4g câmera traseira 12mp', 2849.0, 'https://www.google.com/url?url=https://www.carrefour.com.br/vitrine-iphone-12-64gb-roxo-tela-61-4g-camera-traseira-12mp-mp932882255/p&rct=j&q=&esrc=s&opi=95576897&sa=U&ved=0ahUKEwiNhO_nos-CAxX-JrkGHavbBDsQguUECI8N&usg=AOvVaw0Htcva7_4BjJ_pxLW4newv'), ('apple iphone 12 64 gb branco americano celular i-phone', 2899.25, 'https://www.google.com/url?url=https://produto.mercadolivre.com.br/MLB-4195748272-apple-iphone-12-64-gb-branco-americano-_JM%3Fmatt_tool%3D18956390%26utm_source%3Dgoogle_shopping%26utm_medium%3Dorganic&rct=j&q=&esrc=s&opi=95576897&sa=U&ved=0ahUKEwiNhO_nos-CAxX-JrkGHavbBDsQgOUECKMN&usg=AOvVaw2SUPQVK6yj01QmQ14mk8I6'), ('iphone 12 64gb - preto - estou zerado', 2713.08, 'https://www.google.com/url?url=https://www.trocafy.com.br/iphone-12-64gb-preto-sou-como-novo-2551/p%3Fidsku%3D971%26srsltid%3DAfmBOoqzpoQS-k-_xS3pQXmD4jxfavwS_5H9_KEJOhv2eFDiVrdg9S1AB2E&rct=j&q=&esrc=s&opi=95576897&sa=U&ved=0ahUKEwiNhO_nos-CAxX-JrkGHavbBDsQguUECLUN&usg=AOvVaw2L6N9LROHtRmDBtDIdEtyH'), ('iphone 12 apple 64gb azul, tela 6.1, câmera 12mp + selfie 12mp', 2899.9, 'https://www.google.com/url?url=https://zonatec.com.br/products/iphone-12-apple-64gb-azul-tela-6-1-camera-12mp-selfie-12mp%3Fcurrency%3DBRL%26variant%3D47194008617243%26utm_medium%3Dcpc%26utm_source%3Dgoogle%26utm_campaign%3DGoogle%2520Shopping%26stkn%3Dbc74b8549938&rct=j&q=&esrc=s&opi=95576897&sa=U&ved=0ahUKEwiNhO_nos-CAxX-JrkGHavbBDsQgOUECMUN&usg=AOvVaw0Ta9myBJrVjF8wTIUtfgID'), ('usado: iphone 12 64gb verde muito bom - trocafone - apple', 2899.0, 'https://www.google.com/url?url=https://www.magazineluiza.com.br/usado-iphone-12-64gb-verde-muito-bom-trocafone-apple/p/gbe66d467a/te/ip12/%3Fseller_id%3Dtrocafone%26srsltid%3DAfmBOoo_Fh_A2jYcGSWH5FoIHw25ydUPBy5dHCarBQw3gAYEaCi0LnA1vgU&rct=j&q=&esrc=s&opi=95576897&sa=U&ved=0ahUKEwiNhO_nos-CAxX-JrkGHavbBDsQgOUECOgN&usg=AOvVaw1yJkLBOLJM6mPZVaqogLsx'), ('vitrine iphone 12 64gb branco tela 6,1 4g câmera traseira 12mp', 2899.0, 'https://www.google.com/url?url=https://www.carrefour.com.br/vitrine-iphone-12-64gb-branco-tela-61-4g-camera-traseira-12mp-mp932521352/p&rct=j&q=&esrc=s&opi=95576897&sa=U&ved=0ahUKEwiNhO_nos-CAxX-JrkGHavbBDsQgOUECPgN&usg=AOvVaw3Huzj50CBcT00mvwE8T0XT'), ('iphone 12 4g ram 64gb/128gb/256gb azul / 128gb standard', 2699.9, 'https://www.google.com/url?url=https://lacoinfinito.myshopify.com/products/unlocked-iphone-12-face-id-6-1-4g-ram-64gb-128gb-256gb-rom-smartphone-a14-bionic-chip-12mp-iphone12-cellphone%3Fvariant%3D47289483493657%26currency%3DBRL%26utm_medium%3Dproduct_sync%26utm_source%3Dgoogle%26utm_content%3Dsag_organic%26utm_campaign%3Dsag_organic%26srsltid%3DAfmBOoqo5hhDueEtoAFPf-ywftYKM5Qch4eDmLiXI2dfolkrkg_zDWUEzw0&rct=j&q=&esrc=s&opi=95576897&sa=U&ved=0ahUKEwiNhO_nos-CAxX-JrkGHavbBDsQgOUECIgO&usg=AOvVaw3IQLE7yfTsiqRn3V5_q2Nd'), ('iphone 12 apple 64gb tela de 6.1 polegadas câmera 12mp ios azul', 3390.64, 'https://www.google.com/url?url=https://www.lebiscuit.com.br/iphone-12-apple-64gb-tela-de-6-1-polegadas-camera-12mp-ios-16597al08l832478/p%3Fidsku%3D2147376583&rct=j&q=&esrc=s&opi=95576897&sa=U&ved=0ahUKEwiNhO_nos-CAxX-JrkGHavbBDsQgOUECJgO&usg=AOvVaw3oAIKuxBAyR8KzkbWiQMlT'), ('usado: iphone 12 64gb preto - muito bom', 2899.0, 'https://www.google.com/url?url=https://www.cea.com.br/usado-iphone-12-64gb-preto-muito-bom-4434807/p%3FskuId%3D6133383%26srsltid%3DAfmBOorzlggQfIFN-rnbP_pQZKmmTAhIvfH9WmIyJiQ32YTzecFjGaoQskA&rct=j&q=&esrc=s&opi=95576897&sa=U&ved=0ahUKEwiNhO_nos-CAxX-JrkGHavbBDsQgOUECKgO&usg=AOvVaw0enV_mbmPG-Q72QqFiB-Yf'), ('vitrine: iphone 12 apple 64gb preto tela 6,1 câmera traseira dupla 12mp ios', 2969.0, 'https://www.google.com/url?url=https://www.carrefour.com.br/vitrine-iphone-12-apple-64gb-preto-tela-61-camera-traseira-dupla-12mp-ios-mp911874394/p&rct=j&q=&esrc=s&opi=95576897&sa=U&ved=0ahUKEwiNhO_nos-CAxX-JrkGHavbBDsQguUECLoO&usg=AOvVaw3K39d53AQPxY1kqoWKsDA-'), ('usado: iphone 12 64gb preto excelente - trocafone', 2718.32, 'https://www.google.com/url?url=https://www.casasbahia.com.br/usado-iphone-12-64gb-preto-excelente-trocafone-1558397421/p/1558397421%3Futm_medium%3DCpc%26utm_source%3Dgoogle_freelisting%26IdSku%3D1558397421%26idLojista%3D33013%26tipoLojista%3D3P&rct=j&q=&esrc=s&opi=95576897&sa=U&ved=0ahUKEwiNhO_nos-CAxX-JrkGHavbBDsQgOUECM0O&usg=AOvVaw1FMOgUiG1HziEKh8Itd1-i'), ('iphone 12 64 gb preto excelente', 2780.1, 'https://www.google.com/url?url=https://www.trocafone.com.br/iphone-12-64-gb/p%3Fidsku%3D26086&rct=j&q=&esrc=s&opi=95576897&sa=U&ved=0ahUKEwiNhO_nos-CAxX-JrkGHavbBDsQgOUECOAO&usg=AOvVaw1dUnKmPUvf6fKfkMArW4X-'), ('iphone 12 64gb branco - swap', 2795.2, 'https://www.google.com/url?url=https://malibushop.com.br/produto/iphone-12-64gb-branco-swap/%3Fsrsltid%3DAfmBOoojsUhDp55asbbecwZJtEsoNVfm1OTFKNPEVhLm2KeQqeOTtqrq4Zk&rct=j&q=&esrc=s&opi=95576897&sa=U&ved=0ahUKEwiNhO_nos-CAxX-JrkGHavbBDsQgOUECPAO&usg=AOvVaw33JYgUqwb8rwWpu-rLAPDb'), ('iphone 12 apple 64gb branco, tela 6.1, câmera 12mp + selfie 12mp', 2899.9, 'https://www.google.com/url?url=https://zonatec.com.br/products/iphone-12-apple-64gb-branco-tela-6-1-camera-12mp-selfie-12mp%3Fcurrency%3DBRL%26variant%3D47194010059035%26utm_medium%3Dcpc%26utm_source%3Dgoogle%26utm_campaign%3DGoogle%2520Shopping%26stkn%3Dbc74b8549938&rct=j&q=&esrc=s&opi=95576897&sa=U&ved=0ahUKEwiNhO_nos-CAxX-JrkGHavbBDsQgOUECIAP&usg=AOvVaw1NZdZXIFgia62fheODQucz'), ('vitrine seminovo apple iphone 12 64 gb', 2699.9, 'https://www.google.com/url?url=https://www.carrefour.com.br/vitrine-seminovo-apple-iphone-12-64-gb-mp931849723/p&rct=j&q=&esrc=s&opi=95576897&sa=U&ved=0ahUKEwiNhO_nos-CAxX-JrkGHavbBDsQguUECJIP&usg=AOvVaw2NR00TKIUBQN9j-zV5ef5O'), ('iphone 12 64gb roxo - swap', 2795.2, 'https://www.google.com/url?url=https://malibushop.com.br/produto/iphone-12-64gb-roxo-swap/%3Fsrsltid%3DAfmBOoo7pPc_8PViXF_BWsfTkMxsEonFKm9sTID9hl9XoOfJTR49m_Zbkn8&rct=j&q=&esrc=s&opi=95576897&sa=U&ved=0ahUKEwiNhO_nos-CAxX-JrkGHavbBDsQgOUECMQP&usg=AOvVaw3_HZgzWIrcxgkFJdJ_-PgJ'), ('iphone 12 64gb preto - swap', 2795.2, 'https://www.google.com/url?url=https://malibushop.com.br/produto/iphone-12-64gb-preto-swap/%3Fsrsltid%3DAfmBOoqmrzE__kSqGAXuD9FZs_g4FoH3ZTI_UN8KSLTqXv3BNTiVi6Z5tyA&rct=j&q=&esrc=s&opi=95576897&sa=U&ved=0ahUKEwiNhO_nos-CAxX-JrkGHavbBDsQgOUECIMQ&usg=AOvVaw2Wcx66sjl3USRoTBedkwvb'), ('iphone 12 64gb preto, super conservado! | celular iphone | usado', 3454.0, 'https://www.google.com/url?url=https://www.enjoei.com.br/p/iphone-12-64gb-preto-super-conservado-92855609%3Fg_campaign%3Dgoogle_shopping%26srsltid%3DAfmBOop7Hhv5LAebnRjqedY1RBKfZYSVU-DtwsXPYG-LamQLU1CkIylX_Zk&rct=j&q=&esrc=s&opi=95576897&sa=U&ved=0ahUKEwiNhO_nos-CAxX-JrkGHavbBDsQgOUECNEQ&usg=AOvVaw1eZ63pyvJCJ9yzGgu-9zhj'), ('iphone 12 64gb azul - excelente', 3299.0, 'https://www.google.com/url?url=https://www.trocafone.com.br/iphone-12-64gb-azul---excelente-70613/p%3Fidsku%3D39869&rct=j&q=&esrc=s&opi=95576897&sa=U&ved=0ahUKEwiNhO_nos-CAxX-JrkGHavbBDsQguUECIAR&usg=AOvVaw0dz-htsX3HueAjPuun-VY4'), ('iphone 12 apple 64gb vermelho, tela 6.1, câmera 12mp + selfie 12mp', 2899.9, 'https://www.google.com/url?url=https://zonatec.com.br/products/iphone-12-apple-64gb-vermelho-tela-6-1-camera-12mp-selfie-12mp%3Fcurrency%3DBRL%26variant%3D47194011271451%26utm_medium%3Dcpc%26utm_source%3Dgoogle%26utm_campaign%3DGoogle%2520Shopping%26stkn%3Dbc74b8549938&rct=j&q=&esrc=s&opi=95576897&sa=U&ved=0ahUKEwiNhO_nos-CAxX-JrkGHavbBDsQgOUECKAR&usg=AOvVaw2kB1eU4LF55J5Vhwm3qCoQ'), ('iphone 12 64 gb azul - muito bom', 2916.0, 'https://www.google.com/url?url=https://www.cellularstore.com.br/MLB-4155532062-iphone-12-64-gb-azul-muito-bom-_JM&rct=j&q=&esrc=s&opi=95576897&sa=U&ved=0ahUKEwiNhO_nos-CAxX-JrkGHavbBDsQgOUECOER&usg=AOvVaw2ERct2SbZKAu8reyr2VAWi'), ('vitrine iphone 12 preto 64gb', 3099.9, 'https://www.google.com/url?url=https://www.carrefour.com.br/vitrine-iphone-12-preto-64gb-mp929837648/p&rct=j&q=&esrc=s&opi=95576897&sa=U&ved=0ahUKEwiNhO_nos-CAxX-JrkGHavbBDsQgOUECPER&usg=AOvVaw3eVMwlGr6_tb3UPDorPgS2'), ('iphone 12 apple 64gb branco - vitrine', 2969.0, 'https://www.google.com/url?url=https://www.carrefour.com.br/iphone-12-apple-64gb-branco-vitrine-mp932985542/p&rct=j&q=&esrc=s&opi=95576897&sa=U&ved=0ahUKEwiNhO_nos-CAxX-JrkGHavbBDsQgOUECIES&usg=AOvVaw1HpTOG2Rqra1LYRcz3Eiqj'), ('iphone 12 64gb - branco - sou como novo', 2713.08, 'https://www.google.com/url?url=https://www.trocafy.com.br/iphone-12-64gb-branco-sou-como-novo-2530/p%3Fidsku%3D905%26srsltid%3DAfmBOopnOrU96D3wDBJasmx-swk5xgkr2vdXKxrHNoVVltG0NFzNOmt5DxI&rct=j&q=&esrc=s&opi=95576897&sa=U&ved=0ahUKEwiNhO_nos-CAxX-JrkGHavbBDsQgOUECJIS&usg=AOvVaw2jPgjbM621GmNr797zK7ZM'), ('iphone 12 64gb azul - swap', 2795.2, 'https://www.google.com/url?url=https://malibushop.com.br/produto/iphone-12-64gb-azul-swap/%3Fsrsltid%3DAfmBOoqlY4ovyR9I9ydO2zdVampF8zWBuyWDTMByBicbMKnakyaCcBLWZ24&rct=j&q=&esrc=s&opi=95576897&sa=U&ved=0ahUKEwiNhO_nos-CAxX-JrkGHavbBDsQgOUECKIS&usg=AOvVaw0YKZ-8j6-Q5CS_gAsrLXt3'), ('vitrine iphone 12 64gb verde tela 6,1 4g câmera traseira 12mp', 2899.0, 'https://www.google.com/url?url=https://www.carrefour.com.br/vitrine-iphone-12-64gb-verde-tela-61-4g-camera-traseira-12mp-mp934626262/p&rct=j&q=&esrc=s&opi=95576897&sa=U&ved=0ahUKEwiNhO_nos-CAxX-JrkGHavbBDsQgOUECLIS&usg=AOvVaw2sYFZnxw-Lir2o6mKYQZs9'), ('vitrine iphone 12 azul 64gb', 2789.99, 'https://www.google.com/url?url=https://www.carrefour.com.br/vitrine-iphone-12-azul-64gb-mp928489206/p&rct=j&q=&esrc=s&opi=95576897&sa=U&ved=0ahUKEwiNhO_nos-CAxX-JrkGHavbBDsQgOUECMIS&usg=AOvVaw3gz3pP4glM8VyjySqevd1w'), ('iphone 12 apple 64gb azul semi novo', 2699.0, 'https://www.google.com/url?url=https://www.dvsperfectcell.com.br/iphone-12-apple-64gb-azul-semi-novo/%3Fsku%3D1878440.89016.186254%26srsltid%3DAfmBOorEwEzxHxPl5Mf1rpVd8rCqIjn58JFMl1ClEw2--OTF1MF7ttc8J5E&rct=j&q=&esrc=s&opi=95576897&sa=U&ved=0ahUKEwiNhO_nos-CAxX-JrkGHavbBDsQgOUECNIS&usg=AOvVaw30_PnMd1E_yz4NIzPf5RcK'), ('iphone 12 intacto 64gb | celular apple | usado', 3415.0, 'https://www.google.com/url?url=https://www.enjoei.com.br/p/iphone-12-intacto-64gb-86967057%3Fg_campaign%3Dgoogle_shopping%26srsltid%3DAfmBOoqjAmMKK5s0vxGE-OoYw3z_3T4hGHOxdcYtuQ59vlRjIBIoDxG7iOw&rct=j&q=&esrc=s&opi=95576897&sa=U&ved=0ahUKEwiNhO_nos-CAxX-JrkGHavbBDsQgOUECIMT&usg=AOvVaw2v2yd60eAsurLCad92CPIr'), ('apple iphone 12 64gb tela de 6.1 polegadas câmera 12mp black/preto (vitrine)', 2946.22, 'https://www.google.com/url?url=https://www.carrefour.com.br/apple-iphone-12-64gb-tela-de-61-polegadas-camera-12mp-blackpreto-vitrine-mp935192950/p&rct=j&q=&esrc=s&opi=95576897&sa=U&ved=0ahUKEwiNhO_nos-CAxX-JrkGHavbBDsQgOUECJMT&usg=AOvVaw33Hqct67V1GnDpJ5YozYp_'), ('vitrine iphone 12 vermelho 64gb', 2789.99, 'https://www.google.com/url?url=https://www.carrefour.com.br/vitrine-iphone-12-vermelho-64gb-mp931605275/p&rct=j&q=&esrc=s&opi=95576897&sa=U&ved=0ahUKEwiNhO_nos-CAxX-JrkGHavbBDsQgOUECKMT&usg=AOvVaw2WQhtrrJOqgoMw6ALiwXe6'), ('(seminovo) iphone 12 apple preto, 64gb', 2699.0, 'https://www.google.com/url?url=https://www.taqi.com.br/seminovo-iphone12-64gbpreto-internacional/220672%3Fsrsltid%3DAfmBOopiRJlYVqHTXPSTr0MzIkVnzxJL9g5BjxvKqtsj2yQkJ00bNoXfxP8&rct=j&q=&esrc=s&opi=95576897&sa=U&ved=0ahUKEwiNhO_nos-CAxX-JrkGHavbBDsQgOUECMQT&usg=AOvVaw2L9lhe7GXVt0W-ijAI-McU')] [('smartphone apple iphone 12 64gb câmera dupla', 2969.99, 'https://www.buscape.com.br/celular/smartphone-apple-iphone-12-64gb-ios?_lc=88&searchterm=iphone%2012%2064%20gb'), ('smartphone apple iphone 12 vermelho 64gb câmera dupla', 3099.0, 'https://www.buscape.com.br/celular/smartphone-apple-iphone-12-vermelho-64gb-ios?_lc=88&searchterm=iphone%2012%2064%20gb')]\n"
     ]
    }
   ],
   "source": [
    "#Dados do produto\n",
    "produto  = \"iphone 12 64 gb\"\n",
    "termos_banidos = \"mini watch\"\n",
    "preco_minimo = 2500\n",
    "preco_maximo = 3500\n",
    "\n",
    "\n",
    "lista_ofertas_google_shopping = busca_google_shopping(navegador,produto, termos_banidos, preco_minimo, preco_maximo)\n",
    "lista_ofertas_buscape = busca_buscape(navegador,produto, termos_banidos, preco_minimo, preco_maximo)\n",
    "print(lista_ofertas_google_shopping, lista_ofertas_buscape)"
   ],
   "metadata": {
    "collapsed": false,
    "ExecuteTime": {
     "end_time": "2023-11-19T04:55:29.265062100Z",
     "start_time": "2023-11-19T04:55:14.606622300Z"
    }
   },
   "id": "3841a1730b5ddb63"
  },
  {
   "cell_type": "code",
   "execution_count": 161,
   "outputs": [],
   "source": [],
   "metadata": {
    "collapsed": false,
    "ExecuteTime": {
     "end_time": "2023-11-19T04:55:29.265062100Z",
     "start_time": "2023-11-19T04:55:29.258067300Z"
    }
   },
   "id": "a2f87b841d7ab939"
  },
  {
   "cell_type": "markdown",
   "source": [],
   "metadata": {
    "collapsed": false
   },
   "id": "2efc5887fb2a5045"
  },
  {
   "cell_type": "code",
   "execution_count": 161,
   "outputs": [],
   "source": [],
   "metadata": {
    "collapsed": false,
    "ExecuteTime": {
     "end_time": "2023-11-19T04:55:29.276063300Z",
     "start_time": "2023-11-19T04:55:29.263064Z"
    }
   },
   "id": "a8ffad3b914085bd"
  },
  {
   "cell_type": "code",
   "execution_count": 161,
   "outputs": [],
   "source": [],
   "metadata": {
    "collapsed": false,
    "ExecuteTime": {
     "end_time": "2023-11-19T04:55:29.276063300Z",
     "start_time": "2023-11-19T04:55:29.267063700Z"
    }
   },
   "id": "450c365fb7246a30"
  },
  {
   "cell_type": "code",
   "execution_count": 161,
   "outputs": [],
   "source": [],
   "metadata": {
    "collapsed": false,
    "ExecuteTime": {
     "end_time": "2023-11-19T04:55:29.276063300Z",
     "start_time": "2023-11-19T04:55:29.270064200Z"
    }
   },
   "id": "d2f04929c325e9fe"
  }
 ],
 "metadata": {
  "kernelspec": {
   "display_name": "Python 3",
   "language": "python",
   "name": "python3"
  },
  "language_info": {
   "codemirror_mode": {
    "name": "ipython",
    "version": 2
   },
   "file_extension": ".py",
   "mimetype": "text/x-python",
   "name": "python",
   "nbconvert_exporter": "python",
   "pygments_lexer": "ipython2",
   "version": "2.7.6"
  }
 },
 "nbformat": 4,
 "nbformat_minor": 5
}
