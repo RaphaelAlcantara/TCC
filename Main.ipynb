{
 "cells": [
  {
   "cell_type": "code",
   "execution_count": 13,
   "id": "initial_id",
   "metadata": {
    "collapsed": true,
    "ExecuteTime": {
     "end_time": "2023-10-31T14:30:45.696222500Z",
     "start_time": "2023-10-31T14:30:45.689221400Z"
    }
   },
   "outputs": [],
   "source": [
    "\n",
    "#procurar no buscape\n",
    "#verificar se estão no range\n",
    "#Salvar as ofertas boas num Dataframe\n",
    "#exportar para excel\n",
    "#enviar por email"
   ]
  },
  {
   "cell_type": "code",
   "execution_count": 1,
   "outputs": [],
   "source": [
    "#Criar um navegador\n",
    "#Observação: utilizar Edge ou Chrome\n",
    "from selenium import webdriver\n",
    "from selenium.webdriver.common.keys import Keys\n",
    "from webdriver_manager.microsoft import EdgeChromiumDriverManager \n",
    "\n",
    "from selenium.webdriver.edge.service import Service\n",
    "servico = Service(EdgeChromiumDriverManager().install())\n",
    "navegador = webdriver.Edge(service=servico)\n",
    "\n",
    "#importar base de dados\n",
    "import pandas as pd\n",
    "tabela_produtos = pd.read_excel('buscas.xlsx')\n"
   ],
   "metadata": {
    "collapsed": false,
    "ExecuteTime": {
     "end_time": "2023-10-31T21:48:23.679565600Z",
     "start_time": "2023-10-31T21:48:17.551442400Z"
    }
   },
   "id": "2bfad52f4890f58"
  },
  {
   "cell_type": "code",
   "execution_count": 7,
   "outputs": [
    {
     "name": "stdout",
     "output_type": "stream",
     "text": [
      "  None\n",
      "R$ 2.769,00 Usado: iPhone 12 64GB Preto Bom - Trocafone None\n",
      "R$ 2.432,95 Apple iPhone 12 64GB 5G - Vitrine - tela Super Retina XDR OLED 6.1\" - Roxo None\n",
      "R$ 2.999,00 Vitrine Iphone 12 64Gb Branco Tela 6,1 4G Câmera Traseira 12Mp None\n",
      "R$ 2.999,00 Vitrine iPhone 12 64GB Roxo Tela 6,1 4G Câmera Traseira 12MP None\n",
      "R$ 2.800,00 iPhone 12 64gb Roxo Novo None\n",
      "R$ 1.015,00 Iphone 12 64gb | Celular Apple | Usado None\n",
      "R$ 3.099,00 Vitrine: iPhone 12 Apple 64GB Azul Tela 6,1 Câmera Traseira Dupla 12MP None\n",
      "R$ 2.299,00 iPhone 11 64 GB Branco Apple None\n",
      "R$ 2.789,99 Vitrine Iphone 12 Branco 64Gb None\n",
      "R$ 3.209,00 Usado: iPhone 12 64GB Preto Excelente - Trocafone None\n",
      "R$ 2.577,52 Usado: iPhone 12 64GB Branco Muito Bom - Trocafone None\n",
      "R$ 2.899,00 Vitrine: iPhone 12 Apple 64GB Preto Tela 6,1 Câmera Traseira Dupla 12MP Ios None\n",
      "R$ 2.800,00 iPhone 12 64gb Preto Novo None\n",
      "R$ 2.467,90 iPhone 12 Apple 64GB Azul, Tela 6.1, Câmera 12MP + Selfie 12MP None\n",
      "R$ 2.899,00 Iphone 12 Apple 64Gb Roxo - Vitrine None\n",
      "R$ 2.795,20 iPhone 12 64GB Roxo - SWAP None\n",
      "R$ 2.800,00 iPhone 12 64gb Verde Novo None\n",
      "R$ 2.735,10 iPhone 12 64GB - Verde - Estou Zerado None\n",
      "R$ 3.421,58 iPhone 12 Apple 64GB Tela de 6.1 Polegadas Câmera 12MP iOS Azul None\n",
      "R$ 2.335,00 iPhone 12 Mini 64 GB - Preto Apple None\n",
      "R$ 2.769,00 Usado: iPhone 12 64GB Azul Bom - Trocafone None\n",
      "R$ 2.789,99 Vitrine Iphone 12 Vermelho 64Gb None\n",
      "R$ 2.080,90 Iphone 12 mini telefone móvel, ios a14, tela de 5,4 polegadas, câmera 12mp, 64gb ... None\n",
      "R$ 2.795,20 iPhone 12 64GB Branco - SWAP None\n",
      "R$ 2.467,90 iPhone 12 Apple 64GB Branco, Tela 6.1, Câmera 12MP + Selfie 12MP None\n",
      "R$ 2.729,00 Usado: iPhone 12 Mini 64GB Vermelho Muito Bom - Trocafone - Apple None\n",
      "R$ 2.800,00 iPhone 12 64gb Azul Novo None\n",
      "R$ 3.100,00 IPHONE 12 - VITRINE None\n",
      "R$ 4.259,00 Usado: iPhone 12 64GB Roxo Muito Bom - Trocafone None\n",
      "R$ 3.399,00 iPhone 12 64GB Azul - Excelente None\n",
      "R$ 2.929,00 Usado iPhone 12 64GB Azul Muito Bom None\n",
      "R$ 2.795,20 iPhone 12 64GB Azul - SWAP None\n",
      "R$ 2.498,99 iPhone 12 Mini Apple tela 5,4\" Câmera dupla 12MP iOS None\n",
      "R$ 2.467,90 iPhone 12 Apple 64GB Vermelho, Tela 6.1, Câmera 12MP + Selfie 12MP None\n",
      "R$ 2.555,10 iPhone 12 64GB - Branco - Tenho minhas marcas de uso None\n",
      "R$ 2.800,00 iPhone 12 64gb Vermelho Novo None\n",
      "R$ 2.699,00 iPhone 12 64gb Original Open Box Apple None\n",
      "R$ 2.795,20 iPhone 12 64GB Preto - SWAP None\n",
      "R$ 3.119,00 Usado: iPhone 12 64GB Preto - Excelente None\n",
      "R$ 2.999,00 iPhone 12 64GB Preto Tela 6,1 4G Câmera Traseira 12MP Vitrine None\n",
      "R$ 3.299,00 Iphone 12 - Seminovo 64GB / Em até 20 dias úteis / Vermelho None\n",
      "R$ 3.289,00 Usado: iPhone 12 Mini 64GB Azul Muito Bom - Trocafone None\n",
      "R$ 3.209,62 Apple iPhone 12 Pro 128GB - Seminovo De Vitrine - Tela Super Retina XDR Oled 6.1 ... None\n",
      "R$ 2.615,00 Iphone 12 Apple | Celular Apple | Usado None\n",
      "R$ 3.099,00 Iphone 12 Apple 64Gb Branco - Vitrine None\n",
      "R$ 3.209,62 Apple iPhone 12 Pro 128GB 5G - Vitrine - Tela Super Retina XDR OLED 6.1 ... None\n",
      "R$ 3.194,99 Vitrine Iphone 12 Preto 128Gb None\n",
      "R$ 2.916,00 iPhone 12 64 Gb Azul - Muito Bom None\n",
      "R$ 2.989,00 Usado: iPhone 12 Mini 64GB Vermelho Excelente - Trocafone None\n",
      "R$ 2.494,12 Apple iphone 12 Mini 64GB Seminovo/Vitrine None\n",
      "R$ 3.779,10 iPhone 12 Apple 64GB Preto Tela 6,1 12MP - iOS + Microsoft 365 Persona None\n",
      "R$ 7.885,00 iPhone 12 (64GB) Branco Tela 6,1 None\n",
      "R$ 6.299,90 iPhone 12 Apple 64GB Tela 6.1 Sem Carregador e Fone | Branco (S/V) None\n",
      "R$ 3.199,90 Vitrine Seminovo Apple iPhone 12 64 GB None\n",
      "R$ 3.789,00 iPhone 12 Azul, Apple, 64gb None\n",
      "R$ 3.704,87 iPhone 12 None\n",
      "R$ 2.753,26 Usado: iPhone 12 64 GB Azul Muito Bom None\n",
      "R$ 2.699,00 iPhone 12 Apple 64GB Azul semi novo None\n",
      "R$ 3.879,90 iPhone 12 64GB Branco Apple Tela Super Retina XDR 6.1” Cam. Dupla 12MP Chip A14 ... None\n",
      "R$ 2.799,00 (Seminovo) iPhone 12 Apple Verde, 64GB None\n"
     ]
    }
   ],
   "source": [
    "#entrar no google\n",
    "navegador.get('https://www.google.com/')\n",
    "#pesquisar no google\n",
    "produto  = 'iphone 12 64gb'\n",
    "navegador.find_element('xpath', '//*[@id=\"APjFqb\"]').send_keys(produto)\n",
    "navegador.find_element('xpath', '//*[@id=\"APjFqb\"]').send_keys(Keys.ENTER)\n",
    "#entrar no google shopping com condicional\n",
    "elementos = navegador.find_elements(\"class name\", \"hdtb-mitem\")\n",
    "\n",
    "for item in elementos:\n",
    "    if \"Shopping\" in item.text:\n",
    "        item.click()\n",
    "        break\n",
    "\n",
    "#Pegar preços dos produtos google shopping \n",
    "lista_resultados = navegador.find_elements(\"class name\", \"i0X6df\")\n",
    "\n",
    "#a busca ocorre apenas dentro da classe i0X6df e naõ em no navegador inteiro\n",
    "\n",
    "for resultado in lista_resultados:\n",
    "    preco = resultado.find_element(\"class name\", \"a8Pemb\").text\n",
    "    nome = resultado.find_element(\"class name\", \"tAxDx\").text\n",
    "    link = resultado.find_element(\"class name\", \"shntl\").get_attribute('href')\n",
    "    print(preco, nome, link)\n",
    "    \n",
    "\n",
    "\n",
    "\n",
    "#verificar se estão no range"
   ],
   "metadata": {
    "collapsed": false,
    "ExecuteTime": {
     "end_time": "2023-10-31T22:15:42.397402200Z",
     "start_time": "2023-10-31T22:15:32.831365300Z"
    }
   },
   "id": "3841a1730b5ddb63"
  },
  {
   "cell_type": "code",
   "execution_count": 15,
   "outputs": [],
   "source": [],
   "metadata": {
    "collapsed": false,
    "ExecuteTime": {
     "end_time": "2023-10-31T14:31:05.430541500Z",
     "start_time": "2023-10-31T14:31:05.421528900Z"
    }
   },
   "id": "a69056214be8f217"
  },
  {
   "cell_type": "code",
   "execution_count": 15,
   "outputs": [],
   "source": [],
   "metadata": {
    "collapsed": false,
    "ExecuteTime": {
     "end_time": "2023-10-31T14:31:05.430541500Z",
     "start_time": "2023-10-31T14:31:05.426531700Z"
    }
   },
   "id": "a2f87b841d7ab939"
  },
  {
   "cell_type": "code",
   "execution_count": 15,
   "outputs": [],
   "source": [],
   "metadata": {
    "collapsed": false,
    "ExecuteTime": {
     "end_time": "2023-10-31T14:31:05.443537700Z",
     "start_time": "2023-10-31T14:31:05.429539600Z"
    }
   },
   "id": "a8ffad3b914085bd"
  },
  {
   "cell_type": "code",
   "execution_count": 15,
   "outputs": [],
   "source": [],
   "metadata": {
    "collapsed": false,
    "ExecuteTime": {
     "end_time": "2023-10-31T14:31:05.443537700Z",
     "start_time": "2023-10-31T14:31:05.432538700Z"
    }
   },
   "id": "450c365fb7246a30"
  }
 ],
 "metadata": {
  "kernelspec": {
   "display_name": "Python 3",
   "language": "python",
   "name": "python3"
  },
  "language_info": {
   "codemirror_mode": {
    "name": "ipython",
    "version": 2
   },
   "file_extension": ".py",
   "mimetype": "text/x-python",
   "name": "python",
   "nbconvert_exporter": "python",
   "pygments_lexer": "ipython2",
   "version": "2.7.6"
  }
 },
 "nbformat": 4,
 "nbformat_minor": 5
}
