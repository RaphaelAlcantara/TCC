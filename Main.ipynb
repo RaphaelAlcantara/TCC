{
 "cells": [
  {
   "cell_type": "code",
   "execution_count": 1,
   "id": "initial_id",
   "metadata": {
    "collapsed": true,
    "ExecuteTime": {
     "end_time": "2023-11-08T14:17:08.750256500Z",
     "start_time": "2023-11-08T14:17:08.733227700Z"
    }
   },
   "outputs": [],
   "source": [
    "\n",
    "#procurar no buscape\n",
    "#verificar se estão no range\n",
    "#Salvar as ofertas boas num Dataframe\n",
    "#exportar para excel\n",
    "#enviar por email"
   ]
  },
  {
   "cell_type": "code",
   "execution_count": 2,
   "outputs": [
    {
     "name": "stderr",
     "output_type": "stream",
     "text": [
      "[WDM] - Downloading: 100%|██████████| 8.00M/8.00M [00:00<00:00, 14.9MB/s]\n"
     ]
    },
    {
     "data": {
      "text/plain": "             Nome Termos Banidos  Preço mínimo  Preço máximo\n0  iphone 12 64gb     mini watch          3000          3500\n1        rtx 2060          galax          1800          2500",
      "text/html": "<div>\n<style scoped>\n    .dataframe tbody tr th:only-of-type {\n        vertical-align: middle;\n    }\n\n    .dataframe tbody tr th {\n        vertical-align: top;\n    }\n\n    .dataframe thead th {\n        text-align: right;\n    }\n</style>\n<table border=\"1\" class=\"dataframe\">\n  <thead>\n    <tr style=\"text-align: right;\">\n      <th></th>\n      <th>Nome</th>\n      <th>Termos Banidos</th>\n      <th>Preço mínimo</th>\n      <th>Preço máximo</th>\n    </tr>\n  </thead>\n  <tbody>\n    <tr>\n      <th>0</th>\n      <td>iphone 12 64gb</td>\n      <td>mini watch</td>\n      <td>3000</td>\n      <td>3500</td>\n    </tr>\n    <tr>\n      <th>1</th>\n      <td>rtx 2060</td>\n      <td>galax</td>\n      <td>1800</td>\n      <td>2500</td>\n    </tr>\n  </tbody>\n</table>\n</div>"
     },
     "metadata": {},
     "output_type": "display_data"
    }
   ],
   "source": [
    "#Criar um navegador\n",
    "#Observação: utilizar Edge ou Chrome\n",
    "from selenium import webdriver\n",
    "from selenium.webdriver.common.keys import Keys\n",
    "from webdriver_manager.microsoft import EdgeChromiumDriverManager \n",
    "\n",
    "from selenium.webdriver.edge.service import Service\n",
    "servico = Service(EdgeChromiumDriverManager().install())\n",
    "navegador = webdriver.Edge(service=servico)\n",
    "\n",
    "#importar base de dados\n",
    "import pandas as pd\n",
    "tabela_produtos = pd.read_excel('buscas.xlsx')\n",
    "display(tabela_produtos)\n"
   ],
   "metadata": {
    "collapsed": false,
    "ExecuteTime": {
     "end_time": "2023-11-08T14:17:15.539425Z",
     "start_time": "2023-11-08T14:17:08.735222300Z"
    }
   },
   "id": "2bfad52f4890f58"
  },
  {
   "cell_type": "code",
   "execution_count": 3,
   "outputs": [
    {
     "name": "stdout",
     "output_type": "stream",
     "text": [
      "  https://www.google.com/url?url=https://lojaonline.tim.com.br/produto/apple-iphone-12-64gb-35035%3Fplano%3Dapenas-aparelho&rct=j&q=&esrc=s&opi=95576897&sa=U&ved=0ahUKEwi977f2y7SCAxU_qZUCHSSXASMQguUECIwL&usg=AOvVaw1xjO2KoePeC9WMRPx6aKsu\n",
      "R$ 2.432,95 Apple iPhone 12 64GB 5G - Vitrine - tela Super Retina XDR OLED 6.1\" - Roxo https://www.google.com/url?url=https://www.horizonplay.com.br/apple/iphone-seminovo/apple-iphone-12-64gb-5g-seminovo-tela-super-retina-xdr-oled-6-1%3Fvariant_id%3D22051%26parceiro%3D8926%26srsltid%3DAfmBOooi6565kla-9D7uFtBEgWsEo98s6f_SatKxrJlYUeEMhDwC8EmNY-A&rct=j&q=&esrc=s&opi=95576897&sa=U&ved=0ahUKEwi977f2y7SCAxU_qZUCHSSXASMQgOUECKAL&usg=AOvVaw3_5JBS5zi9YYiNy8LriMHj\n",
      "R$ 2.789,99 Vitrine Iphone 12 Branco 64Gb https://www.google.com/url?url=https://www.carrefour.com.br/vitrine-iphone-12-branco-64gb-mp931605276/p&rct=j&q=&esrc=s&opi=95576897&sa=U&ved=0ahUKEwi977f2y7SCAxU_qZUCHSSXASMQgOUECLAL&usg=AOvVaw07iuYY6OilwAqHaGn95sD5\n",
      "R$ 2.492,10 Usado: iPhone 12 64GB Preto Bom - Trocafone https://www.google.com/url?url=https://www.casasbahia.com.br/usado-iphone-12-64gb-preto-bom-trocafone-1560060485/p/1560060485%3Futm_medium%3DCpc%26utm_source%3Dgoogle_freelisting%26IdSku%3D1560060485%26idLojista%3D33013%26tipoLojista%3D3P&rct=j&q=&esrc=s&opi=95576897&sa=U&ved=0ahUKEwi977f2y7SCAxU_qZUCHSSXASMQgOUECMML&usg=AOvVaw2UhEK3VSeAm4cBANxzEZ7Z\n",
      "R$ 915,00 Iphone 12 64gb | Celular Apple | Usado https://www.google.com/url?url=https://www.enjoei.com.br/p/iphone-12-64gb-92139279%3Fg_campaign%3Dgoogle_shopping%26srsltid%3DAfmBOoq_YRTLMsWpKGlcWcZOh9aOoGfaJl6cU_4wXhAAZO_qoP3qtja6_0Y&rct=j&q=&esrc=s&opi=95576897&sa=U&ved=0ahUKEwi977f2y7SCAxU_qZUCHSSXASMQgOUECNQL&usg=AOvVaw0sIf89D3PevqXDqrDjPY3U\n",
      "R$ 2.949,00 Vitrine Iphone 12 64Gb Branco Tela 6,1 4G Câmera Traseira 12Mp https://www.google.com/url?url=https://www.carrefour.com.br/vitrine-iphone-12-64gb-branco-tela-61-4g-camera-traseira-12mp-mp932521352/p&rct=j&q=&esrc=s&opi=95576897&sa=U&ved=0ahUKEwi977f2y7SCAxU_qZUCHSSXASMQgOUECOQL&usg=AOvVaw1P-85_FykJlB9mefP-GICS\n",
      "R$ 3.199,00 iPhone 12 64gb Roxo Novo https://www.google.com/url?url=https://loja.switchphone.com.br/iphone-12-64gb-roxo-lacrado%3Fsrsltid%3DAfmBOormmLxsvv83oPgCsMCKZlVq0h2aWn2quKDVOiQC6JktVKGeZgfdRJk&rct=j&q=&esrc=s&opi=95576897&sa=U&ved=0ahUKEwi977f2y7SCAxU_qZUCHSSXASMQgOUECPQL&usg=AOvVaw0hk1J0joANeZs9xPbIt3lz\n",
      "R$ 2.526,05 Usado: Iphone 12 64Gb Preto Bom - Trocafone https://www.google.com/url?url=https://www.carrefour.com.br/usado-iphone-12-64gb-preto-bom-trocafone-mp930839701/p&rct=j&q=&esrc=s&opi=95576897&sa=U&ved=0ahUKEwi977f2y7SCAxU_qZUCHSSXASMQgOUECIYM&usg=AOvVaw3KGw5USssXFeNdlZcAAnxA\n",
      "R$ 2.899,00 (Seminovo) Apple iPhone 12 (64GB) - Branco https://www.google.com/url?url=https://www.iplace.com.br/seminovo-apple-iphone12-64gb-internacional/218037E%3Fsrsltid%3DAfmBOorFcUwu6JtQSx7doZeCEm23WHXO9SXS6JO3TWL6_yq2jExRKdNVHME&rct=j&q=&esrc=s&opi=95576897&sa=U&ved=0ahUKEwi977f2y7SCAxU_qZUCHSSXASMQgOUECJUM&usg=AOvVaw0RIcui0ebFH3CnyFukf1DG\n",
      "R$ 2.899,00 Vitrine iPhone 12 64GB Roxo Tela 6,1 4G Câmera Traseira 12MP https://www.google.com/url?url=https://www.carrefour.com.br/vitrine-iphone-12-64gb-roxo-tela-61-4g-camera-traseira-12mp-mp932882255/p&rct=j&q=&esrc=s&opi=95576897&sa=U&ved=0ahUKEwi977f2y7SCAxU_qZUCHSSXASMQguUECKUM&usg=AOvVaw2Vw4sFhgg_gMlDG7JclSMP\n",
      "R$ 2.899,00 (Seminovo) Apple iPhone 12 (64GB) - Preto https://www.google.com/url?url=https://www.iplace.com.br/seminovo-apple-iphone-12-64gb-preto-nacional/217936E%3Fsrsltid%3DAfmBOorxEs57Rv0w5w1DbxZurjjnt-KBCH4Ei5tlIbuT73tzVyZofEg6gcQ&rct=j&q=&esrc=s&opi=95576897&sa=U&ved=0ahUKEwi977f2y7SCAxU_qZUCHSSXASMQgOUECLQM&usg=AOvVaw0kFXwzWlvfE1v8k3UTmGm4\n",
      "R$ 2.299,00 iPhone 11 64 GB Branco Apple https://www.google.com/url?url=https://www.taqi.com.br/seminovo-iphone-11-apple-branco-64gb/220531%3Fsrsltid%3DAfmBOoo8SbFCnIeDmeJ4IfHmalq1zXxYA1TPifxobtQpRrP5f0UaaEPnwCg&rct=j&q=&esrc=s&opi=95576897&sa=U&ved=0ahUKEwi977f2y7SCAxU_qZUCHSSXASMQguUECMYM&usg=AOvVaw1_UNsH8vMZS4RYLixxa1YO\n",
      "R$ 3.099,00 Vitrine: iPhone 12 Apple 64GB Azul Tela 6,1 Câmera Traseira Dupla 12MP https://www.google.com/url?url=https://www.carrefour.com.br/iphone-12-apple-64gb-azul-vitrine-mp934935911/p&rct=j&q=&esrc=s&opi=95576897&sa=U&ved=0ahUKEwi977f2y7SCAxU_qZUCHSSXASMQguUECNgM&usg=AOvVaw3bhEjCFIHdZsbPdGuemkQs\n",
      "R$ 4.559,00 iPhone 12 Apple (64GB) Azul Tela De 6,1\" 5G E Câmera Dupla De 12 MP https://www.google.com/url?url=https://www.americanas.com.br/produto/2290963411/iphone-12-apple-64gb-azul-tela-6-1-camera-dupla-12mp-ios%3Fopn%3DYSMESP%26offerId%3D62bccebe2376eb9c7200aac7%26srsltid%3DAfmBOoqfeesfp9ubV07uMP9pUHQ0Pllg2glkWmVk2VjJckXE-Bdulat-rp4&rct=j&q=&esrc=s&opi=95576897&sa=U&ved=0ahUKEwi977f2y7SCAxU_qZUCHSSXASMQguUECOoM&usg=AOvVaw3jiO0G108bXugPH9iwoKpl\n",
      "R$ 2.899,00 (Seminovo) Apple iPhone 12 (64GB) - Verde https://www.google.com/url?url=https://www.iplace.com.br/seminovo-apple-iphone-12-64gb-verde/217947E%3Fsrsltid%3DAfmBOoq1Lf31ohdX8p6z0OROzPnsoWMbdtQCSe4XFIbbNlmvfj8N61vK-60&rct=j&q=&esrc=s&opi=95576897&sa=U&ved=0ahUKEwi977f2y7SCAxU_qZUCHSSXASMQgOUECPoM&usg=AOvVaw1bXauokuV_yXGqLAHzCh7F\n",
      "R$ 3.199,00 iPhone 12 64gb Preto Novo https://www.google.com/url?url=https://loja.switchphone.com.br/iphone-12-64gb-preto-lacrado%3Fsrsltid%3DAfmBOopkWs7I4YSIoMBSZXBq371VwqT4YfpNdat1Kb9jiDc1AGn-2Opam-Q&rct=j&q=&esrc=s&opi=95576897&sa=U&ved=0ahUKEwi977f2y7SCAxU_qZUCHSSXASMQgOUECIoN&usg=AOvVaw3o4QwgC8ryePTOx-0w5-Wg\n",
      "R$ 2.479,00 Usado: iPhone 12 Mini 64GB Azul Bom - Trocafone https://www.google.com/url?url=https://www.buscape.com.br/lead%3Foid%3D1187241013%26sortorder%3D-1%26index%3D%26searchterm%3Dnull%26pagesize%3D-1%26channel%3D%26pla%3D2023-11-07T21:37:37.175557&rct=j&q=&esrc=s&opi=95576897&sa=U&ved=0ahUKEwi977f2y7SCAxU_qZUCHSSXASMQgOUECJsN&usg=AOvVaw1i2ngBAGRn9BOvh1OOw55y\n",
      "R$ 3.019,00 Usado: iPhone 12 64GB Branco Muito Bom - Trocafone https://www.google.com/url?url=https://www.extra.com.br/usado-iphone-12-64gb-branco-muito-bom-trocafone-1562257753/p/1562257753%3Futm_medium%3Dcpc%26utm_source%3Dgoogle_freelisting%26IdSku%3D1562257753%26idLojista%3D33013%26tipoLojista%3D3P&rct=j&q=&esrc=s&opi=95576897&sa=U&ved=0ahUKEwi977f2y7SCAxU_qZUCHSSXASMQgOUECKsN&usg=AOvVaw2mgGUWhHfVQ4JubQ9UUq-5\n",
      "R$ 2.795,88 iPhone 12 64GB - Azul - Sou Como Novo https://www.google.com/url?url=https://www.trocafy.com.br/iphone-12-64gb-azul-sou-como-novo-2552/p%3Fidsku%3D966%26srsltid%3DAfmBOoqzYDOQsXlEMGpNLgpraIJuTrMiTbhiws7AAtNrA002EaMd_hVB1Dw&rct=j&q=&esrc=s&opi=95576897&sa=U&ved=0ahUKEwi977f2y7SCAxU_qZUCHSSXASMQguUECL0N&usg=AOvVaw09LMIPSEeYjwm2tTQ7j3Us\n",
      "R$ 2.429,10 iPhone 12 Mini 64 GB - (PRODUCT)RED Apple https://www.google.com/url?url=https://www.magazineluiza.com.br/usado-iphone-12-mini-64gb-vermelho-muito-bom-trocafone-apple/p/dkb95kgg67/te/i12m/%3Fseller_id%3Dtrocafone%26srsltid%3DAfmBOoo4yxvKraVqrDxTBuW_GQifGshr_CWBaDGFyrpkv4jUDj53VaijXik&rct=j&q=&esrc=s&opi=95576897&sa=U&ved=0ahUKEwi977f2y7SCAxU_qZUCHSSXASMQguUECM8N&usg=AOvVaw3lxhNpwrFPqLnXdqRwluO2\n",
      "R$ 2.789,99 Vitrine Iphone 12 Vermelho 64Gb https://www.google.com/url?url=https://www.carrefour.com.br/vitrine-iphone-12-vermelho-64gb-mp931605275/p&rct=j&q=&esrc=s&opi=95576897&sa=U&ved=0ahUKEwi977f2y7SCAxU_qZUCHSSXASMQgOUECN8N&usg=AOvVaw0nhD84ILEjjfaFHxlDI43N\n",
      "R$ 3.399,00 Apple iPhone 12 Pro, 128GB - Grafite https://www.google.com/url?url=https://tiendamia.com/br/producto%3Famz%3DB08PNP5YGV&rct=j&q=&esrc=s&opi=95576897&sa=U&ved=0ahUKEwi977f2y7SCAxU_qZUCHSSXASMQguUECPEN&usg=AOvVaw1lIRO22Svk1GbOmJQ2-p8U\n",
      "R$ 2.599,00 (Seminovo) Apple iPhone 12 mini (64GB) - Azul https://www.google.com/url?url=https://www.iplace.com.br/apple-iphone-12-mini-64gb-azul-usado-nacional/217960E%3Fsrsltid%3DAfmBOoq9BQ89oV22qG2WKXZeg-UlxuaiUUi-R6sah6ClUEmlH6n_Us4cLy0&rct=j&q=&esrc=s&opi=95576897&sa=U&ved=0ahUKEwi977f2y7SCAxU_qZUCHSSXASMQgOUECIEO&usg=AOvVaw0wuuvvui-CJIJWB8zlORnT\n",
      "R$ 2.899,00 Usado: iPhone 12 64GB Preto Muito Bom - Trocafone https://www.google.com/url?url=https://www.extra.com.br/usado-iphone-12-64gb-preto-muito-bom-trocafone-1562258625/p/1562258625%3Futm_medium%3Dcpc%26utm_source%3Dgoogle_freelisting%26IdSku%3D1562258625%26idLojista%3D33013%26tipoLojista%3D3P&rct=j&q=&esrc=s&opi=95576897&sa=U&ved=0ahUKEwi977f2y7SCAxU_qZUCHSSXASMQgOUECJEO&usg=AOvVaw03sPVRPusglQnDvZFJSrXL\n",
      "R$ 2.795,20 iPhone 12 64GB Roxo - SWAP https://www.google.com/url?url=https://malibushop.com.br/produto/iphone-12-64gb-roxo-swap/%3Fsrsltid%3DAfmBOoqLFtBK8aCTGO30726Y2DBfiWYo7PlI5Wm2i732TaO4D4s0XAQKW2U&rct=j&q=&esrc=s&opi=95576897&sa=U&ved=0ahUKEwi977f2y7SCAxU_qZUCHSSXASMQgOUECKEO&usg=AOvVaw1a71NnWsSFKN3PtY8l-IA9\n",
      "R$ 2.599,00 (Seminovo) Apple iPhone 12 mini (64GB) - Roxo https://www.google.com/url?url=https://www.iplace.com.br/seminovo-iphone-12-mini-64gb-roxo/218959E%3Fsrsltid%3DAfmBOopyQA-TOv3JbSmFh9BxtXA_deySPTCco9lY5HPFhrM3VKqh_msaWwo&rct=j&q=&esrc=s&opi=95576897&sa=U&ved=0ahUKEwi977f2y7SCAxU_qZUCHSSXASMQgOUECLAO&usg=AOvVaw1bjQ0LKlQ6pv3Wft_QM-j3\n",
      "R$ 2.888,10 Usado: iPhone 12 64GB Azul Excelente - Trocafone https://www.google.com/url?url=https://www.casasbahia.com.br/usado-iphone-12-64gb-azul-excelente-trocafone-1558397422/p/1558397422%3Futm_medium%3DCpc%26utm_source%3Dgoogle_freelisting%26IdSku%3D1558397422%26idLojista%3D33013%26tipoLojista%3D3P&rct=j&q=&esrc=s&opi=95576897&sa=U&ved=0ahUKEwi977f2y7SCAxU_qZUCHSSXASMQgOUECMMO&usg=AOvVaw32D68LQwX9SbHrvBqZ2_Bn\n",
      "R$ 2.648,17 Apple iPhone 12 128GB 5G - Vitrine - tela Super Retina XDR OLED 6.1\" - Roxo https://www.google.com/url?url=https://www.horizonplay.com.br/apple/iphone-seminovo/apple-iphone-12-128gb-5g-seminovo-tela-super-retina-xdr-oled-6-1%3Fvariant_id%3D22039%26parceiro%3D8926%26srsltid%3DAfmBOooKOm2KW4jhs3oTXPf5nDasZiRJHcpNbW0tzGtxWxJuWrjyoIlXvh4&rct=j&q=&esrc=s&opi=95576897&sa=U&ved=0ahUKEwi977f2y7SCAxU_qZUCHSSXASMQgOUECNUO&usg=AOvVaw2WyxIXmT8oLEPMJ-EdY0xq\n",
      "R$ 3.595,48 iPhone 12 Apple 64GB Tela de 6.1 Polegadas Câmera 12MP iOS Azul https://www.google.com/url?url=https://www.lebiscuit.com.br/iphone-12-apple-64gb-tela-de-6-1-polegadas-camera-12mp-ios-16597al08l832478/p%3Fidsku%3D2147376583&rct=j&q=&esrc=s&opi=95576897&sa=U&ved=0ahUKEwi977f2y7SCAxU_qZUCHSSXASMQgOUECOUO&usg=AOvVaw3_l7OFiHs4C_kaCwFs3Stv\n",
      "R$ 2.599,00 (Seminovo) Apple iPhone 12 Mini (64GB) - Branco https://www.google.com/url?url=https://www.iplace.com.br/seminovo-apple-iphone-12-mini-64gb-branco/217977E%3Fsrsltid%3DAfmBOor5vf59Bql7iGjspVeH0kY3xv-7DPWzHReBgVMzM1eUiUsKwib_dz0&rct=j&q=&esrc=s&opi=95576897&sa=U&ved=0ahUKEwi977f2y7SCAxU_qZUCHSSXASMQgOUECPQO&usg=AOvVaw1kP81Z7N1Klz0QZRryejrA\n",
      "R$ 3.199,00 iPhone 12 64gb Azul Novo https://www.google.com/url?url=http://loja.switchphone.com.br/iphone-12-64gb-azul-lacrado%3Fsrsltid%3DAfmBOoqeAJj0Wl6AUjvGpalrUjVbDi5axtD9hdYuq7lEPvlcnWtDt1wA8Xk&rct=j&q=&esrc=s&opi=95576897&sa=U&ved=0ahUKEwi977f2y7SCAxU_qZUCHSSXASMQgOUECIQP&usg=AOvVaw0HZqXwPJz_4kWEZQ6koBRH\n",
      "R$ 2.899,00 Iphone 12 Apple 64Gb Roxo - Vitrine https://www.google.com/url?url=https://www.carrefour.com.br/iphone-12-apple-64gb-roxo-vitrine-mp932337971/p&rct=j&q=&esrc=s&opi=95576897&sa=U&ved=0ahUKEwi977f2y7SCAxU_qZUCHSSXASMQgOUECJQP&usg=AOvVaw2LIweWr3MlabGlc5cHGLD2\n",
      "R$ 2.582,10 Usado: iPhone 12 Mini 64GB Branco Excelente - Trocafone - Apple https://www.google.com/url?url=https://www.magazineluiza.com.br/usado-iphone-12-mini-64gb-branco-excelente-trocafone-apple/p/cf8haekf1j/te/i12m/%3Fseller_id%3Dtrocafone%26srsltid%3DAfmBOopxxKFKox49HRp9i9bTJjzbZQM41YMysSq10nrX76j907AHemGUXCo&rct=j&q=&esrc=s&opi=95576897&sa=U&ved=0ahUKEwi977f2y7SCAxU_qZUCHSSXASMQgOUECKQP&usg=AOvVaw1tmqUE8MOsurbqrupurlyv\n",
      "R$ 2.611,88 iPhone 12 64GB - Branco - Tenho minhas marcas de uso https://www.google.com/url?url=https://www.trocafy.com.br/iphone-12-64gb-branco-tenho-minhas-marcas-de-uso-2166/p%3Fidsku%3D862%26srsltid%3DAfmBOoqEC-DIk4a2HFijBPYWMhhaXJkd8IISouFILGBvyAEIzAqPNmncfn8&rct=j&q=&esrc=s&opi=95576897&sa=U&ved=0ahUKEwi977f2y7SCAxU_qZUCHSSXASMQgOUECLUP&usg=AOvVaw1BxxIuJ7iKDmXCLQDMi6h9\n",
      "R$ 3.199,00 iPhone 12 64gb Verde Novo https://www.google.com/url?url=https://loja.switchphone.com.br/iphone-12-64gb-verde-lacrado%3Fsrsltid%3DAfmBOoqDtW1Iv0NREnwobd1lhPolMjtcqccVHKGGhD4TPx8hoqHK8wSmUQs&rct=j&q=&esrc=s&opi=95576897&sa=U&ved=0ahUKEwi977f2y7SCAxU_qZUCHSSXASMQgOUECMUP&usg=AOvVaw1gNFnSPrQMMdRaTOgwmez1\n",
      "R$ 2.899,00 (Seminovo) Apple iPhone 12 (64GB) - Azul https://www.google.com/url?url=https://www.iplace.com.br/usado-iphone-12-apple-azul-64gb-nacional/217942E%3Fsrsltid%3DAfmBOoq1Rfgw7NWcyil6G3I38CdVD1tfrHZXg8pNXrDNW9J-jvNLrQwk9QY&rct=j&q=&esrc=s&opi=95576897&sa=U&ved=0ahUKEwi977f2y7SCAxU_qZUCHSSXASMQgOUECNQP&usg=AOvVaw2Dx83eC6jdhbjMKpFAcKaS\n",
      "R$ 2.609,10 Usado: iPhone 12 64GB Vermelho Muito Bom - Trocafone https://www.google.com/url?url=https://www.casasbahia.com.br/usado-iphone-12-64gb-vermelho-muito-bom-trocafone-1562260892/p/1562260892%3Futm_medium%3DCpc%26utm_source%3Dgoogle_freelisting%26IdSku%3D1562260892%26idLojista%3D33013%26tipoLojista%3D3P&rct=j&q=&esrc=s&opi=95576897&sa=U&ved=0ahUKEwi977f2y7SCAxU_qZUCHSSXASMQgOUECOUP&usg=AOvVaw3I_OW8qMEBZkE6riYHllKa\n",
      "R$ 2.099,00 iPhone 12 Mini Apple tela 5,4\" Câmera dupla 12MP iOS https://www.google.com/url?url=https://www.outletfone.com.br/iphone-12-mini-apple-tela-5-4-camera-dupla-12mp-ios.html&rct=j&q=&esrc=s&opi=95576897&sa=U&ved=0ahUKEwi977f2y7SCAxU_qZUCHSSXASMQgOUECPUP&usg=AOvVaw0YGW9EbVXuiwc-_oayW8hd\n",
      "R$ 3.699,00 Aparelho Apple Iphone 12 64gb Branco Vitrine/Semi-Novo com Acessorios https://www.google.com/url?url=https://www.riachuelo.com.br/produto/aparelho-apple-iphone-12-64gb-branco-vitrine-semi-novo-com-acessorios-82ca2a1444c94e379e1b366bf0590112%3Fsku%3DIp-12-B-00&rct=j&q=&esrc=s&opi=95576897&sa=U&ved=0ahUKEwi977f2y7SCAxU_qZUCHSSXASMQgOUECIUQ&usg=AOvVaw199p99Pz9bdkpj3mVeyeg3\n",
      "R$ 3.869,10 Iphone 12 64gb 5g 6.1 Super Retina Xdr Oled Câmera Dupla 12mp Selfie 12mp Ios 15 ... https://www.google.com/url?url=https://www.kabum.com.br/produto/348312/iphone-12-64gb-5g-6-1-super-retina-xdr-oled-camera-dupla-12mp-selfie-12mp-ios-15-apple%3Fsrsltid%3DAfmBOoonbT2pB45BZIw2TiK_lx8WL0e9LyHm4Z5bFcjRCWQXbJDCspwGW1w&rct=j&q=&esrc=s&opi=95576897&sa=U&ved=0ahUKEwi977f2y7SCAxU_qZUCHSSXASMQgOUECJcQ&usg=AOvVaw2XsHMdviAbIbygjIw0zhr_\n",
      "R$ 2.999,00 iPhone 12 (64 Gb) Branco + Brinde CELULAR I-PHONE https://www.google.com/url?url=https://produto.mercadolivre.com.br/MLB-3497120851-iphone-12-64-gb-branco-brinde-_JM%3Fmatt_tool%3D18956390%26utm_source%3Dgoogle_shopping%26utm_medium%3Dorganic&rct=j&q=&esrc=s&opi=95576897&sa=U&ved=0ahUKEwi977f2y7SCAxU_qZUCHSSXASMQgOUECKoQ&usg=AOvVaw39B-jb9FhK33pces07elHY\n",
      "R$ 2.795,20 iPhone 12 64GB Branco - SWAP https://www.google.com/url?url=https://malibushop.com.br/produto/iphone-12-64gb-branco-swap/%3Fsrsltid%3DAfmBOopxilNhtfxdLIAOhPguFHEkEyAo-C42Yk2KQyUAxh3DtuTPvIiKJpk&rct=j&q=&esrc=s&opi=95576897&sa=U&ved=0ahUKEwi977f2y7SCAxU_qZUCHSSXASMQgOUECLoQ&usg=AOvVaw3dw1HlP410YBaLmqGdNWG5\n",
      "R$ 3.199,00 iPhone 12 64gb Vermelho Novo https://www.google.com/url?url=https://loja.switchphone.com.br/iphone-12-64gb-vermelho-lacrado%3Fsrsltid%3DAfmBOorHNPdhsIWfMApqb55rcaNNRoE7b-1fxWjpymcfDIjac2omS4snDl0&rct=j&q=&esrc=s&opi=95576897&sa=U&ved=0ahUKEwi977f2y7SCAxU_qZUCHSSXASMQgOUECMoQ&usg=AOvVaw3dAZTptZCV0UxIDIUoBAV_\n",
      "R$ 4.105,89 Apple iPhone Se (64 GB) Preto https://www.google.com/url?url=https://www.angeloni.com.br/eletro/apple-iphone-se--64gb----preto-140616/p%3Fidsku%3D140756&rct=j&q=&esrc=s&opi=95576897&sa=U&ved=0ahUKEwi977f2y7SCAxU_qZUCHSSXASMQguUECNsQ&usg=AOvVaw0vgKZ-40JgnNe0V9Va_0zy\n",
      "R$ 3.100,00 IPHONE 12 - VITRINE https://www.google.com/url?url=https://atacadoventura.com.br/produto/iphone-12-vitrine/%3Fattribute_pa_memoria%3D256gb&rct=j&q=&esrc=s&opi=95576897&sa=U&ved=0ahUKEwi977f2y7SCAxU_qZUCHSSXASMQgOUECOwQ&usg=AOvVaw2pDXvgVBt9CH4Rl4xPzb_Y\n",
      "R$ 1.965,00 Apple Celular | Iphone 12 Apple | Usado https://www.google.com/url?url=https://www.enjoei.com.br/p/iphone-12-apple-92744515%3Fg_campaign%3Dgoogle_shopping%26srsltid%3DAfmBOopa0gydS_HRMnK_Mb0hPz6Fni7eaVQOFLCeT40S8th4j_X_AkP3orE&rct=j&q=&esrc=s&opi=95576897&sa=U&ved=0ahUKEwi977f2y7SCAxU_qZUCHSSXASMQgOUECPwQ&usg=AOvVaw1dnTTSRlE2g7Nj-n-zB4pM\n",
      "R$ 3.719,00 Aparelho Apple Iphone 12 64gb Preto Vitrine/Semi-Novo com Acessorios https://www.google.com/url?url=https://www.riachuelo.com.br/produto/aparelho-apple-iphone-12-64gb-preto-vitrine-semi-novo-com-acessorios-3f1e30666e5f4694971d75ff2d76792c%3Fsku%3DIp-12-P-00&rct=j&q=&esrc=s&opi=95576897&sa=U&ved=0ahUKEwi977f2y7SCAxU_qZUCHSSXASMQgOUECIwR&usg=AOvVaw1kgWzO04-KL2j9Oh2l_yEu\n",
      "R$ 3.199,90 Vitrine Seminovo Apple iPhone 12 64 GB https://www.google.com/url?url=https://www.carrefour.com.br/vitrine-seminovo-apple-iphone-12-64-gb-mp931849728/p&rct=j&q=&esrc=s&opi=95576897&sa=U&ved=0ahUKEwi977f2y7SCAxU_qZUCHSSXASMQguUECJ4R&usg=AOvVaw0hMtBcK3Y7oLziowQ_NRln\n",
      "R$ 2.795,20 iPhone 12 64GB Azul - SWAP https://www.google.com/url?url=https://malibushop.com.br/produto/iphone-12-64gb-azul-swap/%3Fsrsltid%3DAfmBOorxr1AioKHiGniChQpyuSFNncZX9WagvHBnpGArJliHy0WxBEYuiDY&rct=j&q=&esrc=s&opi=95576897&sa=U&ved=0ahUKEwi977f2y7SCAxU_qZUCHSSXASMQgOUECK4R&usg=AOvVaw2mwOc-BWvg9r829gA8c7XK\n",
      "R$ 2.599,00 (Seminovo) Apple iPhone 12 mini (64GB) - Branco https://www.google.com/url?url=https://www.iplace.com.br/usado-apple-iphone12-mini-64gb-branco-nacional/217978E%3Fsrsltid%3DAfmBOoolw3Hif_burm-aMNa1E9pyR4gep0gVzmtTtA6zNgGKV55FF9Mi9ng&rct=j&q=&esrc=s&opi=95576897&sa=U&ved=0ahUKEwi977f2y7SCAxU_qZUCHSSXASMQgOUECL0R&usg=AOvVaw3kOryv_N2Y-_x7Szmz0UWR\n",
      "R$ 2.599,00 (Seminovo) Apple iPhone 12 mini (64GB) - Preto https://www.google.com/url?url=https://www.iplace.com.br/usado-apple-iphone-12-mini-64gb-preto/217954E%3Fsrsltid%3DAfmBOoqhIUqISlfDBUUC3DMegy2TZlIoVcev9Kv1ayuJeqz7nMQylU-bZcE&rct=j&q=&esrc=s&opi=95576897&sa=U&ved=0ahUKEwi977f2y7SCAxU_qZUCHSSXASMQgOUECMwR&usg=AOvVaw2ugJ6HBJ935Mpsn5lW2H62\n",
      "R$ 7.009,10 iPhone 12 Apple 64GB (PRODUCT)RED 6,1 - Câm. Dupla 12MP iOS + AirPods, https://www.google.com/url?url=https://www.magazineluiza.com.br/iphone-12-apple-64gb-product-red-61-cam-dupla-12mp-ios-airpods/p/229429300/te/ip12/%3Fforce%3D1%26seller_id%3Dmagazineluiza%26srsltid%3DAfmBOooyZCbf_XEwUCL7g0YaqR5Lno4BiNw6yK3XBIOERnpstZEyOkN9_3M&rct=j&q=&esrc=s&opi=95576897&sa=U&ved=0ahUKEwi977f2y7SCAxU_qZUCHSSXASMQgOUECNwR&usg=AOvVaw2ouih4A1cOMgAutZR6Ty58\n",
      "R$ 2.916,00 iPhone 12 64 Gb Azul - Muito Bom https://www.google.com/url?url=https://www.cellularstore.com.br/MLB-4155532062-iphone-12-64-gb-azul-muito-bom-_JM&rct=j&q=&esrc=s&opi=95576897&sa=U&ved=0ahUKEwi977f2y7SCAxU_qZUCHSSXASMQgOUECO0R&usg=AOvVaw0xmV34N6M9l1_qL7WIzdAe\n",
      "R$ 3.194,99 Vitrine Iphone 12 Preto 128Gb https://www.google.com/url?url=https://www.carrefour.com.br/vitrine-iphone-12-preto-128gb-mp931588640/p&rct=j&q=&esrc=s&opi=95576897&sa=U&ved=0ahUKEwi977f2y7SCAxU_qZUCHSSXASMQgOUECP0R&usg=AOvVaw2rxZcG_Pb66rYToldP5ZVJ\n",
      "R$ 3.198,98 Apple iPhone 12 (128 GB) - Branco https://www.google.com/url?url=https://www.lojanovacel.com.br/iphone-12-128gb-semi-novo&rct=j&q=&esrc=s&opi=95576897&sa=U&ved=0ahUKEwi977f2y7SCAxU_qZUCHSSXASMQguUECI4S&usg=AOvVaw1KXJi9aTewWIzlzoqoPphh\n",
      "R$ 3.463,95 Iphone 12 - Seminovo 64GB / Em até 7 dias úteis / Branco https://www.google.com/url?url=https://macuai.com.br/products/iphone-12-seminovo%3Fvariant%3D47607482515761%26currency%3DBRL%26utm_medium%3Dproduct_sync%26utm_source%3Dgoogle%26utm_content%3Dsag_organic%26utm_campaign%3Dsag_organic%26srsltid%3DAfmBOop_zD_IvtymSY19aiMsL5qZ0r6kjdsG9vArYlIVc_Kp1yJRbF7VQUM&rct=j&q=&esrc=s&opi=95576897&sa=U&ved=0ahUKEwi977f2y7SCAxU_qZUCHSSXASMQgOUECJ8S&usg=AOvVaw1BtcvULu5stuXPL-pEtaS4\n",
      "R$ 6.754,27 iPhone 12 64GB Azul - Super Retina XDR 6,1”, Câmera Dupla 12MP https://www.google.com/url?url=https://www.mastertronic.com.br/iphone-12-64gb-azul&rct=j&q=&esrc=s&opi=95576897&sa=U&ved=0ahUKEwi977f2y7SCAxU_qZUCHSSXASMQgOUECK4S&usg=AOvVaw38rGWYIasjCk70wZj8ke_4\n",
      "R$ 2.690,00 Iphone 12 64 GB Seminovo https://www.google.com/url?url=https://www.tipimport.com.br/iphone-12-64-gb-seminovo&rct=j&q=&esrc=s&opi=95576897&sa=U&ved=0ahUKEwi977f2y7SCAxU_qZUCHSSXASMQgOUECL8S&usg=AOvVaw0vnmcEecc_NmOApi4TicmY\n",
      "R$ 2.795,20 iPhone 12 64GB Preto - SWAP https://www.google.com/url?url=https://malibushop.com.br/produto/iphone-12-64gb-preto-swap/%3Fsrsltid%3DAfmBOoqRF8wZYCeUGVr5M11muHfeF1ANMsK9-Tbg8JbQQww32oyGzv6smaA&rct=j&q=&esrc=s&opi=95576897&sa=U&ved=0ahUKEwi977f2y7SCAxU_qZUCHSSXASMQgOUECM8S&usg=AOvVaw3E1uLCTvBoE1RjfYIOETY_\n",
      "R$ 2.527,66 Usado: iPhone 12 64 GB Azul Bom https://www.google.com/url?url=https://www.lojasimperio.com.br/produto/usado-iphone-12-64-gb-azul-bom-50327.html&rct=j&q=&esrc=s&opi=95576897&sa=U&ved=0ahUKEwi977f2y7SCAxU_qZUCHSSXASMQgOUECOAS&usg=AOvVaw0SeypGvZ1koBRwdqFzkTyy\n",
      "R$ 3.010,00 Apple Celular | Apple Iphone 12 Branco 64gb | Usado https://www.google.com/url?url=https://www.enjoei.com.br/p/apple-iphone-12-branco-64gb-90878443%3Fg_campaign%3Dgoogle_shopping%26srsltid%3DAfmBOoqMfLIr5IRqfsNJJMn7Y2po-HWH7ayWrhgNTNwkHV2_yTG-ls3MzLs&rct=j&q=&esrc=s&opi=95576897&sa=U&ved=0ahUKEwi977f2y7SCAxU_qZUCHSSXASMQgOUECPAS&usg=AOvVaw1bILLx8Omygklo-SMSgLk2\n"
     ]
    }
   ],
   "source": [
    "#entrar no google\n",
    "navegador.get('https://www.google.com/')\n",
    "#pesquisar no google\n",
    "produto  = \"iphone 12 64gb\"\n",
    "produto = produto.lower() #garantir que os dados da tabela fiquem minusculos\n",
    "termos_banidos = \"mini watch\"\n",
    "termos_banidos = termos_banidos.lower()\n",
    "lista_termos_banidos = termos_banidos.split(\" \")#transforma a string de termos banidos em lista\n",
    "lista_termos_nome_produto = produto.split(\" \")#transforma a string de produtos em lista\n",
    "preco_minimo = 3000\n",
    "preco_maximo = 3500\n",
    "\n",
    "\n",
    "navegador.find_element('xpath', '//*[@id=\"APjFqb\"]').send_keys(produto)\n",
    "navegador.find_element('xpath', '//*[@id=\"APjFqb\"]').send_keys(Keys.ENTER)\n",
    "#entrar no google shopping com condicional\n",
    "elementos = navegador.find_elements('class name', 'hdtb-mitem')\n",
    "\n",
    "for item in elementos:\n",
    "    if \"Shopping\" in item.text:\n",
    "        item.click()\n",
    "        break\n",
    "\n",
    "#Pegar preços dos produtos google shopping \n",
    "lista_resultados = navegador.find_elements('class name', 'i0X6df')\n",
    "\n",
    "#a busca ocorre apenas dentro da classe i0X6df e naõ em no navegador inteiro\n",
    "#esse elemento é o card do produto\n",
    "\n",
    "for resultado in lista_resultados:\n",
    "    preco = resultado.find_element('class name', 'a8Pemb').text\n",
    "    nome = resultado.find_element('class name', 'tAxDx').text\n",
    "    nome = nome.lower()\n",
    "    #analisar se o nome não tem nenhum termo banido\n",
    "    tem_termos_banidos = False\n",
    "    for palavra in lista_termos_banidos:\n",
    "        if palavra in nome:\n",
    "            tem_termos_banidos = True\n",
    "            \n",
    "    #analisar se tem todos os termos buscados no nome do produto\n",
    "    tem_termos_nome_produto = True\n",
    "    for palavra in lista_termos_nome_produto:\n",
    "        if palavra not in nome:\n",
    "            tem_termos_nome_produto = False\n",
    "    \n",
    "    #selecionando os elementos que possuem termos banidos False e termos buscados True\n",
    "    \n",
    "    \n",
    "    \n",
    "    \n",
    "    #Caso retornar None é necessário utilizar uma referencia\n",
    "    elemento_referencia = resultado.find_element('class name', 'bONr3b') #Elemento filho da classe do Link \n",
    "    elemento_pai = elemento_referencia.find_element('xpath', ('..'))#Elemento pai do elemento filho (..) serve para voltar um nível\n",
    "    link = elemento_pai.get_attribute('href') #retornando None em vez do link\n",
    "    print(preco, nome, link)\n",
    "    \n",
    "\n",
    "\n",
    "\n",
    "#verificar se estão no range"
   ],
   "metadata": {
    "collapsed": false,
    "ExecuteTime": {
     "end_time": "2023-11-08T14:17:27.059183900Z",
     "start_time": "2023-11-08T14:17:15.543426900Z"
    }
   },
   "id": "3841a1730b5ddb63"
  },
  {
   "cell_type": "code",
   "execution_count": 3,
   "outputs": [],
   "source": [],
   "metadata": {
    "collapsed": false,
    "ExecuteTime": {
     "end_time": "2023-11-08T14:17:27.059183900Z",
     "start_time": "2023-11-08T14:17:27.053182300Z"
    }
   },
   "id": "a69056214be8f217"
  },
  {
   "cell_type": "code",
   "execution_count": 3,
   "outputs": [],
   "source": [],
   "metadata": {
    "collapsed": false,
    "ExecuteTime": {
     "end_time": "2023-11-08T14:17:27.060183Z",
     "start_time": "2023-11-08T14:17:27.057181100Z"
    }
   },
   "id": "a2f87b841d7ab939"
  },
  {
   "cell_type": "code",
   "execution_count": 3,
   "outputs": [],
   "source": [],
   "metadata": {
    "collapsed": false,
    "ExecuteTime": {
     "end_time": "2023-11-08T14:17:27.068183200Z",
     "start_time": "2023-11-08T14:17:27.061180600Z"
    }
   },
   "id": "a8ffad3b914085bd"
  },
  {
   "cell_type": "code",
   "execution_count": 3,
   "outputs": [],
   "source": [],
   "metadata": {
    "collapsed": false,
    "ExecuteTime": {
     "end_time": "2023-11-08T14:17:27.068183200Z",
     "start_time": "2023-11-08T14:17:27.064182600Z"
    }
   },
   "id": "450c365fb7246a30"
  }
 ],
 "metadata": {
  "kernelspec": {
   "display_name": "Python 3",
   "language": "python",
   "name": "python3"
  },
  "language_info": {
   "codemirror_mode": {
    "name": "ipython",
    "version": 2
   },
   "file_extension": ".py",
   "mimetype": "text/x-python",
   "name": "python",
   "nbconvert_exporter": "python",
   "pygments_lexer": "ipython2",
   "version": "2.7.6"
  }
 },
 "nbformat": 4,
 "nbformat_minor": 5
}
